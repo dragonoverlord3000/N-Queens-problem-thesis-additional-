{
 "cells": [
  {
   "cell_type": "code",
   "execution_count": 1,
   "metadata": {},
   "outputs": [],
   "source": [
    "from typing import List\n",
    "import time"
   ]
  },
  {
   "cell_type": "code",
   "execution_count": 2,
   "metadata": {},
   "outputs": [
    {
     "data": {
      "text/plain": [
       "10"
      ]
     },
     "execution_count": 2,
     "metadata": {},
     "output_type": "execute_result"
    }
   ],
   "source": [
    "def baseline_solveNQueens(n: int) -> List[List[str]]:\n",
    "    global possible\n",
    "    possible = 0\n",
    "\n",
    "    visited_col = set()\n",
    "    visited_diag = set()\n",
    "    visited_bidiag = set()\n",
    "    board = [[\".\"]*n for _ in range(n)]\n",
    "    def bt(row):\n",
    "        global possible\n",
    "        for col in range(n):\n",
    "            if col in visited_col or col+row in visited_bidiag or col-row in visited_diag: continue\n",
    "            visited_col.add(col)\n",
    "            visited_bidiag.add(col+row)\n",
    "            visited_diag.add(col-row)\n",
    "            board[row][col] = \"Q\"\n",
    "            if row == n-1: \n",
    "                possible += 1\n",
    "            else:\n",
    "                bt(row+1)\n",
    "            board[row][col] = \".\"\n",
    "            visited_col.remove(col)\n",
    "            visited_bidiag.remove(col+row)\n",
    "            visited_diag.remove(col-row)\n",
    "        return\n",
    "\n",
    "    bt(0)\n",
    "    return possible\n",
    "baseline_solveNQueens(5)"
   ]
  },
  {
   "cell_type": "code",
   "execution_count": null,
   "metadata": {},
   "outputs": [],
   "source": []
  }
 ],
 "metadata": {
  "kernelspec": {
   "display_name": "Python 3",
   "language": "python",
   "name": "python3"
  },
  "language_info": {
   "codemirror_mode": {
    "name": "ipython",
    "version": 3
   },
   "file_extension": ".py",
   "mimetype": "text/x-python",
   "name": "python",
   "nbconvert_exporter": "python",
   "pygments_lexer": "ipython3",
   "version": "3.10.7"
  }
 },
 "nbformat": 4,
 "nbformat_minor": 2
}
