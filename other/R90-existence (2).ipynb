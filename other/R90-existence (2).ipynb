{
 "cells": [
  {
   "cell_type": "code",
   "execution_count": 1,
   "id": "8870b928",
   "metadata": {},
   "outputs": [],
   "source": [
    "import itertools\n",
    "import json\n",
    "import time\n",
    "import os"
   ]
  },
  {
   "cell_type": "code",
   "execution_count": 2,
   "id": "0fa3e932",
   "metadata": {},
   "outputs": [],
   "source": [
    "from sympy import factorint"
   ]
  },
  {
   "cell_type": "markdown",
   "id": "7ebb8110",
   "metadata": {},
   "source": [
    "# Utils"
   ]
  },
  {
   "cell_type": "code",
   "execution_count": 3,
   "id": "9f03bfca",
   "metadata": {},
   "outputs": [
    {
     "data": {
      "image/png": "[encoded data removed]",
      "text/plain": [
       "<Figure size 640x480 with 1 Axes>"
      ]
     },
     "metadata": {},
     "output_type": "display_data"
    }
   ],
   "source": [
    "import numpy as np\n",
    "import matplotlib.pyplot as plt\n",
    "from matplotlib.colors import ListedColormap\n",
    "\n",
    "def plot_chess_board(matrix, fontsize=50):\n",
    "    n = matrix.shape[0]\n",
    "    # Create a chess board (n x n) pattern\n",
    "    board = np.zeros_like(matrix)\n",
    "    board[1::2, ::2] = 1\n",
    "    board[::2, 1::2] = 1\n",
    "    \n",
    "    cmap = ListedColormap(['#769656', '#eeeed2'])\n",
    "    fig, ax = plt.subplots()\n",
    "    ax.imshow(board, cmap=cmap, interpolation='nearest')\n",
    "    \n",
    "    # Place queens based on matrix\n",
    "    for i in range(n):\n",
    "        for j in range(n):\n",
    "            if matrix[i, j] == 1:\n",
    "                ax.text(j, i, '♛', fontsize=fontsize, ha='center', va='center', color='black' if board[i, j] else 'white')\n",
    "    \n",
    "    # Hide the axes\n",
    "    ax.set_xticks([])\n",
    "    ax.set_yticks([])\n",
    "\n",
    "# Example binary matrix\n",
    "matrix = np.array([[0, 1, 0, 0],\n",
    "                   [0, 0, 0, 1],\n",
    "                   [1, 0, 0, 0],\n",
    "                   [0, 0, 1, 0]])\n",
    "\n",
    "plot_chess_board(matrix)"
   ]
  },
  {
   "cell_type": "code",
   "execution_count": 4,
   "id": "0e1d1ba3",
   "metadata": {},
   "outputs": [
    {
     "data": {
      "text/plain": [
       "120"
      ]
     },
     "execution_count": 4,
     "metadata": {},
     "output_type": "execute_result"
    }
   ],
   "source": [
    "factorial = lambda n: 1 if n <= 1 else n*factorial(n-1)\n",
    "factorial(5)"
   ]
  },
  {
   "cell_type": "code",
   "execution_count": 5,
   "id": "b6cacc08",
   "metadata": {},
   "outputs": [
    {
     "data": {
      "text/plain": [
       "[0, 2, 0, 0]"
      ]
     },
     "execution_count": 5,
     "metadata": {},
     "output_type": "execute_result"
    }
   ],
   "source": [
    "# 0 <= num <= N! - 1\n",
    "def decimal2factoradic(N, num):\n",
    "    factoradic = []\n",
    "    for i in range(1,N+1):\n",
    "        factoradic.append(num%i)\n",
    "        num //= i\n",
    "    return list(reversed(factoradic))\n",
    "\n",
    "decimal2factoradic(4, 4)"
   ]
  },
  {
   "cell_type": "code",
   "execution_count": 6,
   "id": "a5a7cd3d",
   "metadata": {},
   "outputs": [
    {
     "data": {
      "text/plain": [
       "[1, 4, 2, 3]"
      ]
     },
     "execution_count": 6,
     "metadata": {},
     "output_type": "execute_result"
    }
   ],
   "source": [
    "def factoradic2permutation(factoriadic):\n",
    "    N = len(factoriadic)\n",
    "    elements = list(range(1,N+1))\n",
    "    \n",
    "    permutation = []\n",
    "    for idx in factoriadic:\n",
    "        permutation.append(elements.pop(idx))\n",
    "        \n",
    "    return permutation\n",
    "\n",
    "factoradic2permutation([0,2,0,0])"
   ]
  },
  {
   "cell_type": "code",
   "execution_count": 7,
   "id": "8571658f",
   "metadata": {},
   "outputs": [
    {
     "data": {
      "text/plain": [
       "[0, 2, 0, 0]"
      ]
     },
     "execution_count": 7,
     "metadata": {},
     "output_type": "execute_result"
    }
   ],
   "source": [
    "# Can be sped up to N*ln(N)\n",
    "def permutation2factoradic(permutation):\n",
    "    factoriadic = []\n",
    "    N = len(permutation)\n",
    "    for i in range(N):\n",
    "        lt_i = 0\n",
    "        for j in range(i+1,N):\n",
    "            lt_i += int(permutation[j] < permutation[i])\n",
    "        factoriadic.append(lt_i)\n",
    "    \n",
    "    return factoriadic\n",
    "\n",
    "permutation2factoradic([1,4,2,3])"
   ]
  },
  {
   "cell_type": "code",
   "execution_count": 8,
   "id": "4a1776aa",
   "metadata": {},
   "outputs": [
    {
     "data": {
      "text/plain": [
       "4"
      ]
     },
     "execution_count": 8,
     "metadata": {},
     "output_type": "execute_result"
    }
   ],
   "source": [
    "def factoradic2decimal(factoriadic):\n",
    "    N = len(factoriadic)\n",
    "    dec = 0\n",
    "    for i in reversed(range(N)):\n",
    "        dec += factoriadic[i] * factorial(N-1-i)\n",
    "        \n",
    "    return dec\n",
    "\n",
    "factoradic2decimal([0,2,0,0])"
   ]
  },
  {
   "cell_type": "code",
   "execution_count": 9,
   "id": "34018990",
   "metadata": {},
   "outputs": [
    {
     "data": {
      "text/plain": [
       "[2, 4, 1, 3]"
      ]
     },
     "execution_count": 9,
     "metadata": {},
     "output_type": "execute_result"
    }
   ],
   "source": [
    "def board2permutation(board):\n",
    "    N = len(board)\n",
    "    perm = []\n",
    "    for i in range(N):\n",
    "        for j in range(N):\n",
    "            if board[i][j]: perm.append(j+1)\n",
    "                \n",
    "    return perm\n",
    "\n",
    "board2permutation([[0,1,0,0],\n",
    "                   [0,0,0,1],\n",
    "                   [1,0,0,0],\n",
    "                   [0,0,1,0]])"
   ]
  },
  {
   "cell_type": "code",
   "execution_count": 10,
   "id": "44b05eb9",
   "metadata": {},
   "outputs": [
    {
     "data": {
      "text/plain": [
       "[[0, 1, 0, 0], [0, 0, 0, 1], [1, 0, 0, 0], [0, 0, 1, 0]]"
      ]
     },
     "execution_count": 10,
     "metadata": {},
     "output_type": "execute_result"
    }
   ],
   "source": [
    "def permutation2board(perm):\n",
    "    N = len(perm)\n",
    "    board = [[0] * N for _ in range(N)]\n",
    "    \n",
    "    for i in range(N):\n",
    "        board[i][perm[i]-1] = 1\n",
    "        \n",
    "    return board\n",
    "\n",
    "permutation2board([2,4,1,3])"
   ]
  },
  {
   "cell_type": "code",
   "execution_count": 24,
   "id": "c48a7270",
   "metadata": {
    "scrolled": true
   },
   "outputs": [
    {
     "name": "stdout",
     "output_type": "stream",
     "text": [
      "----------------------------------------------------------------------------------------------------\n",
      "1\n",
      "1\n",
      "[]\n",
      "----------------------------------------------------------------------------------------------------\n",
      "2\n",
      "0\n",
      "[0]\n",
      "----------------------------------------------------------------------------------------------------\n",
      "3\n",
      "0\n",
      "[0]\n",
      "----------------------------------------------------------------------------------------------------\n",
      "4\n",
      "2\n",
      "[2]\n",
      "----------------------------------------------------------------------------------------------------\n",
      "5\n",
      "2\n",
      "[2]\n",
      "----------------------------------------------------------------------------------------------------\n",
      "6\n",
      "0\n",
      "[0]\n",
      "----------------------------------------------------------------------------------------------------\n",
      "7\n",
      "0\n",
      "[0]\n",
      "----------------------------------------------------------------------------------------------------\n",
      "8\n",
      "0\n",
      "[0]\n",
      "----------------------------------------------------------------------------------------------------\n",
      "9\n",
      "0\n",
      "[0]\n",
      "----------------------------------------------------------------------------------------------------\n",
      "10\n",
      "0\n",
      "[0]\n",
      "----------------------------------------------------------------------------------------------------\n",
      "11\n",
      "0\n",
      "[0]\n",
      "----------------------------------------------------------------------------------------------------\n",
      "12\n",
      "8\n",
      "[2, 2, 2]\n",
      "----------------------------------------------------------------------------------------------------\n",
      "13\n",
      "8\n",
      "[2, 2, 2]\n",
      "----------------------------------------------------------------------------------------------------\n",
      "14\n",
      "0\n",
      "[0]\n",
      "----------------------------------------------------------------------------------------------------\n",
      "15\n",
      "0\n",
      "[0]\n",
      "----------------------------------------------------------------------------------------------------\n",
      "16\n",
      "64\n",
      "[2, 2, 2, 2, 2, 2]\n",
      "----------------------------------------------------------------------------------------------------\n",
      "17\n",
      "128\n",
      "[2, 2, 2, 2, 2, 2, 2]\n",
      "----------------------------------------------------------------------------------------------------\n",
      "18\n",
      "0\n",
      "[0]\n",
      "----------------------------------------------------------------------------------------------------\n",
      "19\n",
      "0\n",
      "[0]\n",
      "----------------------------------------------------------------------------------------------------\n",
      "20\n",
      "480\n",
      "[2, 2, 2, 2, 2, 3, 5]\n",
      "----------------------------------------------------------------------------------------------------\n",
      "21\n",
      "704\n",
      "[2, 2, 2, 2, 2, 2, 11]\n",
      "----------------------------------------------------------------------------------------------------\n",
      "22\n",
      "0\n",
      "[0]\n",
      "----------------------------------------------------------------------------------------------------\n",
      "23\n",
      "0\n",
      "[0]\n",
      "----------------------------------------------------------------------------------------------------\n",
      "24\n",
      "3328\n",
      "[2, 2, 2, 2, 2, 2, 2, 2, 13]\n",
      "----------------------------------------------------------------------------------------------------\n",
      "25\n",
      "3264\n",
      "[2, 2, 2, 2, 2, 2, 3, 17]\n",
      "----------------------------------------------------------------------------------------------------\n",
      "26\n",
      "0\n",
      "[0]\n",
      "----------------------------------------------------------------------------------------------------\n",
      "27\n",
      "0\n",
      "[0]\n",
      "----------------------------------------------------------------------------------------------------\n",
      "28\n",
      "32896\n",
      "[2, 2, 2, 2, 2, 2, 2, 257]\n"
     ]
    }
   ],
   "source": [
    "class NQueen_sym90:\n",
    "    def __init__(self, N):\n",
    "        self.N = N\n",
    "        self.solutions = set()\n",
    "        self.board = [[0]*N for _ in range(N)]\n",
    "\n",
    "    def solve_symmetric_nqueen(self, num_placed=0, row=0, rows=set(), cols=set(), diags=set(), anti_diags=set()):\n",
    "        if num_placed == self.N:\n",
    "            return self.solutions.add(factoradic2decimal(permutation2factoradic(board2permutation(self.board))))\n",
    "\n",
    "        if row in rows:\n",
    "            return self.solve_symmetric_nqueen(num_placed, row+1, rows, cols, diags, anti_diags)\n",
    "\n",
    "        for col in range(self.N):\n",
    "            if col in cols or (col - row) in diags or (col + row) in anti_diags: continue\n",
    "            overlap = self._add_to_sets(row,col,rows,cols,diags,anti_diags)\n",
    "            self._add_to_board(row,col)\n",
    "            \n",
    "            if not overlap:\n",
    "                self.solve_symmetric_nqueen(num_placed+4, row+1, rows, cols, diags, anti_diags)\n",
    "\n",
    "            self._remove_from_board(row,col)\n",
    "            self._remove_from_sets(row,col,rows,cols,diags,anti_diags)\n",
    "            \n",
    "    def _add_to_sets(self, row, col, rows, cols, diags, anti_diags):\n",
    "        _rows = [row, col, self.N-1-row, self.N-1-col]\n",
    "        _cols = [col, self.N-1-row, self.N-1-col, row]\n",
    "\n",
    "        for i,j in zip(_rows,_cols):\n",
    "            if i in rows or j in cols or j-i in diags or j+i in anti_diags: return True # overlap is true\n",
    "            rows.add(i)\n",
    "            cols.add(j)\n",
    "            diags.add(j-i)\n",
    "            anti_diags.add(j+i)\n",
    "        return False # overlap is false\n",
    "\n",
    "    def _remove_from_sets(self, row, col, rows, cols, diags, anti_diags):\n",
    "        _rows = [row, col, self.N-1-row, self.N-1-col]\n",
    "        _cols = [col, self.N-1-row, self.N-1-col, row]\n",
    "        for i,j in zip(_rows, _cols):\n",
    "            if i in rows: rows.remove(i)\n",
    "            if j in cols: cols.remove(j)\n",
    "            if j-i in diags: diags.remove(j-i)\n",
    "            if j+i in anti_diags: anti_diags.remove(j+i)\n",
    "\n",
    "    def _add_to_board(self, row, col):\n",
    "        _rows = [row, col, self.N-1-row, self.N-1-col]\n",
    "        _cols = [col, self.N-1-row, self.N-1-col, row]\n",
    "        for i,j in zip(_rows, _cols):\n",
    "            self.board[i][j] = 1\n",
    "            \n",
    "    def _remove_from_board(self, row, col):\n",
    "        _rows = [row, col, self.N-1-row, self.N-1-col]\n",
    "        _cols = [col, self.N-1-row, self.N-1-col, row]\n",
    "        for i,j in zip(_rows, _cols):\n",
    "            self.board[i][j] = 0\n",
    "            \n",
    "\n",
    "for N in range(1, 28+1):\n",
    "    print(\"-\"*100)\n",
    "    print(N)\n",
    "    solver = NQueen_sym90(N)\n",
    "    if N%2 == 0:\n",
    "        solver.solve_symmetric_nqueen()\n",
    "    else:\n",
    "        solver.board[N//2][N//2] = 1\n",
    "        solver.solve_symmetric_nqueen(1,0,set([(N-1)//2]),set([(N-1)//2]),set([0]),set([N-1]))\n",
    "    result = len(solver.solutions)\n",
    "        \n",
    "    print(result)\n",
    "    factors = factorint(result)\n",
    "    print([v for row in [[factor]*power for (factor, power) in factors.items()] for v in row])"
   ]
  },
  {
   "cell_type": "markdown",
   "id": "27476e4a",
   "metadata": {},
   "source": [
    "# Line-method\n",
    "Algorithm that tries to cover N-Queen configuration with as few straight lines as possible modulo rotation by $90$ degrees."
   ]
  },
  {
   "cell_type": "code",
   "execution_count": 31,
   "id": "b5dddd91",
   "metadata": {},
   "outputs": [],
   "source": [
    "N = 32"
   ]
  },
  {
   "cell_type": "code",
   "execution_count": 32,
   "id": "94d3456c",
   "metadata": {},
   "outputs": [
    {
     "data": {
      "text/plain": [
       "406784"
      ]
     },
     "execution_count": 32,
     "metadata": {},
     "output_type": "execute_result"
    }
   ],
   "source": [
    "solver = NQueen_sym90(N)\n",
    "solver.solve_symmetric_nqueen()\n",
    "Qs = solver.solutions.copy()\n",
    "len(Qs)"
   ]
  },
  {
   "cell_type": "code",
   "execution_count": null,
   "id": "2bbda0cd",
   "metadata": {},
   "outputs": [],
   "source": []
  },
  {
   "cell_type": "code",
   "execution_count": null,
   "id": "39905ce6",
   "metadata": {},
   "outputs": [],
   "source": []
  },
  {
   "cell_type": "code",
   "execution_count": null,
   "id": "f5ccb99b",
   "metadata": {},
   "outputs": [],
   "source": []
  },
  {
   "cell_type": "code",
   "execution_count": null,
   "id": "72d7a1a1",
   "metadata": {},
   "outputs": [],
   "source": []
  },
  {
   "cell_type": "code",
   "execution_count": null,
   "id": "86219c9b",
   "metadata": {},
   "outputs": [],
   "source": [
    "# Q = permutation2board(factoradic2permutation(decimal2factoradic(N, Qs_num)))"
   ]
  },
  {
   "cell_type": "code",
   "execution_count": null,
   "id": "5e8bd359",
   "metadata": {},
   "outputs": [],
   "source": []
  },
  {
   "cell_type": "code",
   "execution_count": null,
   "id": "afcee9cd",
   "metadata": {},
   "outputs": [],
   "source": []
  },
  {
   "cell_type": "code",
   "execution_count": null,
   "id": "a8f65118",
   "metadata": {},
   "outputs": [],
   "source": []
  },
  {
   "cell_type": "code",
   "execution_count": null,
   "id": "b75d01b3",
   "metadata": {},
   "outputs": [],
   "source": []
  },
  {
   "cell_type": "code",
   "execution_count": null,
   "id": "a4d32907",
   "metadata": {},
   "outputs": [],
   "source": []
  },
  {
   "cell_type": "code",
   "execution_count": null,
   "id": "93369fb7",
   "metadata": {},
   "outputs": [],
   "source": []
  },
  {
   "cell_type": "code",
   "execution_count": null,
   "id": "3c987ae3",
   "metadata": {},
   "outputs": [],
   "source": []
  }
 ],
 "metadata": {
  "kernelspec": {
   "display_name": "Python 3 (ipykernel)",
   "language": "python",
   "name": "python3"
  },
  "language_info": {
   "codemirror_mode": {
    "name": "ipython",
    "version": 3
   },
   "file_extension": ".py",
   "mimetype": "text/x-python",
   "name": "python",
   "nbconvert_exporter": "python",
   "pygments_lexer": "ipython3",
   "version": "3.10.7"
  }
 },
 "nbformat": 4,
 "nbformat_minor": 5
}
