{
 "cells": [
  {
   "cell_type": "markdown",
   "id": "76b3fced",
   "metadata": {},
   "source": [
    "\\begin{align}\n",
    "    Q_k(N) &= \\frac{1}{k!} \\sum_{i_1=1}^{N}\\sum_{j_1=1}^{N} \\dots \\sum_{i_k=1}^{N}\\sum_{j_k=1}^{N} \\delta_{0, \\sum_{l=1}^{k-1}\\sum_{m=l+1}^{k}\\delta_{i_l, i_m} + \\delta_{j_l, j_m} + \\delta_{j_l-i_l,j_m-i_m} + \\delta_{j_i+i_l, j_m+i_m}} \\\\\n",
    "    &\\stackrel{\\spadesuit}{=} \\frac{1}{(4N)! k!}\\sum_{i_1=1}^{N}\\sum_{j_1=1}^{N} \\dots \\sum_{i_k=1}^{N}\\sum_{j_k=1}^{N}\\sum_{s=0}^{4N}S_1(4N + 1, s + 1) \\\\ \n",
    "    &\\cdot \\left(\\sum_{l=1}^{k-1}\\sum_{m=l+1}^{k}\\delta_{i_l, i_m} + \\delta_{j_l, j_m} + \\delta_{j_l-i_l,j_m-i_m} + \\delta_{j_i+i_l, j_m+i_m}\\right)^s \\\\\n",
    "    &\\stackrel{\\clubsuit}{=} \\frac{1}{(4N)!k!}\\sum_{i_1=1}^{N}\\sum_{j_1=1}^{N} \\dots \\sum_{i_k=1}^{N}\\sum_{j_k=1}^{N}\\sum_{s=0}^{4N}S_1(4N + 1, s + 1) \\frac{1}{(2N)!^{2s}}\\Biggl( \\\\\n",
    "    &\\sum_{l=1}^{k-1}\\sum_{m=l+1}^{k} \\sum_{t=0}^{2N} \\left[\\sum_{u=0}^{t}(-1)^{-t+u} S_1(2N+1, u+1) S_1(2N+1,t-u+1)\\right] \\\\\n",
    "    &\\cdot \\left[(i_l - i_m)^t + (j_l - j_m)^t + (i_l - i_m - j_l + j_m)^t + (i_l - i_m + j_l - j_m)^t\\right] \\Biggr)^s\n",
    "\\end{align}"
   ]
  },
  {
   "cell_type": "code",
   "execution_count": 7,
   "id": "537ad6c4",
   "metadata": {},
   "outputs": [],
   "source": [
    "import itertools"
   ]
  },
  {
   "cell_type": "code",
   "execution_count": 29,
   "id": "7570b9a2",
   "metadata": {},
   "outputs": [
    {
     "name": "stdout",
     "output_type": "stream",
     "text": [
      "S1(5, 3) = 35\n"
     ]
    }
   ],
   "source": [
    "class S1_class:\n",
    "    def __init__(self):\n",
    "        self.cache = {}\n",
    "        \n",
    "    def _solve(self, n, k):\n",
    "        if (n,k) in self.cache: return self.cache[(n,k)]\n",
    "    \n",
    "        # Base cases\n",
    "        if n == k == 0:\n",
    "            return 1\n",
    "        if n == 0 or k == 0:\n",
    "            return 0\n",
    "        if k > n:\n",
    "            return 0\n",
    "\n",
    "        result = S1(n-1, k-1) - (n-1) * S1(n-1, k)\n",
    "        self.cache[(n,k)] = result\n",
    "        return result\n",
    "    \n",
    "    def __call__(self, n, k):\n",
    "        return self._solve(n,k)\n",
    "\n",
    "S1 = S1_class()\n",
    "\n",
    "# Example usage\n",
    "n, k = 5, 3\n",
    "print(f\"S1({n}, {k}) = {S1(n, k)}\")"
   ]
  },
  {
   "cell_type": "code",
   "execution_count": 30,
   "id": "5b983098",
   "metadata": {
    "scrolled": true
   },
   "outputs": [
    {
     "data": {
      "text/plain": [
       "120"
      ]
     },
     "execution_count": 30,
     "metadata": {},
     "output_type": "execute_result"
    }
   ],
   "source": [
    "factorial = lambda n: 1 if n <= 1 else n * factorial(n-1)\n",
    "factorial(5)"
   ]
  },
  {
   "cell_type": "code",
   "execution_count": 31,
   "id": "2e189589",
   "metadata": {},
   "outputs": [
    {
     "data": {
      "text/plain": [
       "(0, 1)"
      ]
     },
     "execution_count": 31,
     "metadata": {},
     "output_type": "execute_result"
    }
   ],
   "source": [
    "delta = lambda a,b: int(a == b)\n",
    "delta(0,1), delta(0,0)"
   ]
  },
  {
   "cell_type": "markdown",
   "id": "8e2a4d2e",
   "metadata": {},
   "source": [
    "\\begin{align}\n",
    "Q_k(N) &= \\frac{1}{k!} \\sum_{i_1=1}^{N}\\sum_{j_1=1}^{N} \\dots \\sum_{i_k=1}^{N}\\sum_{j_k=1}^{N} \\delta_{0, \\sum_{l=1}^{k-1}\\sum_{m=l+1}^{k}\\delta_{i_l, i_m} + \\delta_{j_l, j_m} + \\delta_{j_l-i_l,j_m-i_m} + \\delta_{j_i+i_l, j_m+i_m}}\n",
    "\\end{align}"
   ]
  },
  {
   "cell_type": "code",
   "execution_count": 32,
   "id": "53108cdd",
   "metadata": {},
   "outputs": [
    {
     "data": {
      "text/plain": [
       "340.0"
      ]
     },
     "execution_count": 32,
     "metadata": {},
     "output_type": "execute_result"
    }
   ],
   "source": [
    "def Q_Nk_first(N, k):\n",
    "    two_sum = list(itertools.product(*[range(1,N+1) for _ in range(2)]))\n",
    "    total_sum = list(itertools.product(*[two_sum for _ in range(k)]))\n",
    "    \n",
    "    count = 0\n",
    "    for combi in total_sum:\n",
    "        # combi[a][0] = i_{a}, combi[a][1] = j_a\n",
    "        count += delta(0, sum(\n",
    "            sum(\n",
    "                delta(combi[l-1][0], combi[m-1][0]) + delta(combi[l-1][1], combi[m-1][1]) + delta(combi[l-1][0] - combi[l-1][1], combi[m-1][0] - combi[m-1][1]) + delta(combi[l-1][0] + combi[l-1][1], combi[m-1][0] + combi[m-1][1]) \n",
    "                    for m in range(l + 1, k+1)\n",
    "                ) \n",
    "                for l in range(1,k)\n",
    "            )\n",
    "        )\n",
    "        \n",
    "    return count/factorial(k)\n",
    "\n",
    "Q_Nk_first(6,2)"
   ]
  },
  {
   "cell_type": "markdown",
   "id": "7fc4604b",
   "metadata": {},
   "source": [
    "\\begin{align}\n",
    "    Q_k(N) = \\frac{1}{(4N)! k!}\\sum_{i_1=1}^{N}\\sum_{j_1=1}^{N} \\dots \\sum_{i_k=1}^{N}\\sum_{j_k=1}^{N}\\sum_{s=0}^{4N}S_1(4N + 1, s + 1) \\cdot \\left(\\sum_{l=1}^{k-1}\\sum_{m=l+1}^{k}\\delta_{i_l, i_m} + \\delta_{j_l, j_m} + \\delta_{j_l-i_l,j_m-i_m} + \\delta_{j_i+i_l, j_m+i_m}\\right)^s\n",
    "\\end{align}"
   ]
  },
  {
   "cell_type": "code",
   "execution_count": 36,
   "id": "930a4296",
   "metadata": {},
   "outputs": [
    {
     "data": {
      "text/plain": [
       "24.0"
      ]
     },
     "execution_count": 36,
     "metadata": {},
     "output_type": "execute_result"
    }
   ],
   "source": [
    "def Q_Nk_second(N, k):\n",
    "    two_sum = list(itertools.product(*[range(1,N+1) for _ in range(2)]))\n",
    "    total_sum = list(itertools.product(*[two_sum for _ in range(k)]))\n",
    "    \n",
    "    count = 0\n",
    "    for combi in total_sum:\n",
    "        # combi[a][0] = i_{a}, combi[a][1] = j_a\n",
    "        count += sum(S1(4*N+1,s+1) * sum(\n",
    "            sum(\n",
    "                delta(combi[l-1][0], combi[m-1][0]) + delta(combi[l-1][1], combi[m-1][1]) + delta(combi[l-1][0] - combi[l-1][1], combi[m-1][0] - combi[m-1][1]) + delta(combi[l-1][0] + combi[l-1][1], combi[m-1][0] + combi[m-1][1]) \n",
    "                    for m in range(l + 1, k+1)\n",
    "                ) \n",
    "                for l in range(1,k)\n",
    "            )**s for s in range(4*N+1))\n",
    "        \n",
    "    return count/(factorial(k) * factorial(4*N))\n",
    "\n",
    "Q_Nk_second(4,3)"
   ]
  },
  {
   "cell_type": "markdown",
   "id": "b95ddc5a",
   "metadata": {},
   "source": [
    "\\begin{align}\n",
    "    Q_k(N) &= \\frac{1}{(4N)!k!}\\sum_{i_1=1}^{N}\\sum_{j_1=1}^{N} \\dots \\sum_{i_k=1}^{N}\\sum_{j_k=1}^{N}\\sum_{s=0}^{4N}S_1(4N + 1, s + 1) \\frac{1}{(2N)!^{2s}}\\Biggl( \\\\\n",
    "    &\\sum_{l=1}^{k-1}\\sum_{m=l+1}^{k} \\sum_{t=0}^{2N} \\left[\\sum_{u=0}^{t}(-1)^{-t+u} S_1(2N+1, u+1) S_1(2N+1,t-u+1)\\right] \\\\\n",
    "    &\\cdot \\left[(i_l - i_m)^t + (j_l - j_m)^t + (i_l - i_m - j_l + j_m)^t + (i_l - i_m + j_l - j_m)^t\\right] \\Biggr)^s\n",
    "\\end{align}"
   ]
  },
  {
   "cell_type": "markdown",
   "id": "eb0f314f",
   "metadata": {},
   "source": [
    "\\begin{align}\n",
    "    &\\delta_{a,b}^{(D)} = \\frac{1}{(-1)^{D} D!^2}\\prod_{k=1}^{D} ((b - a) - k)((b - a) + k) \\\\\n",
    "    &= \\frac{1}{(-1)^{D}D!^2} \\sum_{s=0}^{2D} \\left[\\sum_{k=0}^{s}(-1)^{D-s+k} S_1(D+1, k+1) S_1(D+1,s-k+1)\\right] (b - a)^s \\label{eq:symmetric_stirling1}\n",
    "\\end{align}"
   ]
  },
  {
   "cell_type": "code",
   "execution_count": 157,
   "id": "ad40f83b",
   "metadata": {},
   "outputs": [
    {
     "name": "stdout",
     "output_type": "stream",
     "text": [
      "-8 -92378\n",
      "-7 0\n",
      "-6 0\n",
      "-5 0\n",
      "-4 0\n",
      "-3 0\n",
      "-2 0\n",
      "-1 0\n",
      "0 0\n",
      "1 0\n",
      "2 1\n",
      "3 0\n",
      "4 0\n",
      "5 0\n",
      "6 0\n",
      "7 0\n",
      "8 0\n",
      "9 0\n",
      "10 0\n",
      "11 0\n",
      "12 -92378\n"
     ]
    }
   ],
   "source": [
    "def delta(a,b,D):\n",
    "    # note that the 'int' is necessary to avoid overflow errors\n",
    "    # Python can handle arbitrarily large integers, but not arbitrarily large floating points\n",
    "    return sum(\n",
    "        sum(int((-1)**(D-t+u)) * S1(D+1,u+1) * S1(D+1, t-u+1) for u in range(t+1)) * (b - a)**t\n",
    "        for t in range(2*D+1)\n",
    "    ) // ((-1)**D * factorial(D)**2)\n",
    "\n",
    "for i in range(-8,12+1):\n",
    "    print(i, delta(2,i,9))"
   ]
  },
  {
   "cell_type": "code",
   "execution_count": 159,
   "id": "5dc650fc",
   "metadata": {},
   "outputs": [
    {
     "data": {
      "text/plain": [
       "44.0"
      ]
     },
     "execution_count": 159,
     "metadata": {},
     "output_type": "execute_result"
    }
   ],
   "source": [
    "def Q_Nk_third(N, k):\n",
    "    two_sum = list(itertools.product(*[range(1,N+1) for _ in range(2)]))\n",
    "    total_sum = list(itertools.product(*[two_sum for _ in range(k)]))\n",
    "    \n",
    "    count = 0\n",
    "    for combi in total_sum:\n",
    "        # combi[a][0] = i_{a}, combi[a][1] = j_a\n",
    "        count += sum(S1(4*N+1,s+1) * sum(\n",
    "            sum(\n",
    "                delta(combi[l-1][0], combi[m-1][0],2*N) + delta(combi[l-1][1], combi[m-1][1],2*N) + delta(combi[l-1][0] - combi[l-1][1], combi[m-1][0] - combi[m-1][1],2*N) + delta(combi[l-1][0] + combi[l-1][1], combi[m-1][0] + combi[m-1][1],2*N) \n",
    "                    for m in range(l + 1, k+1)\n",
    "                ) \n",
    "                for l in range(1,k)\n",
    "            )**s for s in range(4*N+1))\n",
    "        \n",
    "    return count/(factorial(k) * factorial(4*N))\n",
    "\n",
    "Q_Nk_third(4,2)"
   ]
  },
  {
   "cell_type": "code",
   "execution_count": 160,
   "id": "77bcbe27",
   "metadata": {},
   "outputs": [
    {
     "data": {
      "text/plain": [
       "44"
      ]
     },
     "execution_count": 160,
     "metadata": {},
     "output_type": "execute_result"
    }
   ],
   "source": [
    "def Q_Nk_third(N, k):\n",
    "    two_sum = list(itertools.product(*[range(1,N+1) for _ in range(2)]))\n",
    "    total_sum = list(itertools.product(*[two_sum for _ in range(k)]))\n",
    "    \n",
    "    count = 0\n",
    "    for combi in total_sum:\n",
    "        # combi[a][0] = i_{a}, combi[a][1] = j_a\n",
    "        count += sum(S1(4*N+1,s+1) * sum(\n",
    "            sum(\n",
    "                    # D = 2N\n",
    "                    sum(\n",
    "                        sum(int((-1)**(2*N-t+u)) * S1(2*N+1,u+1) * S1(2*N+1, t-u+1) for u in range(t+1)) * ((combi[m-1][0] - combi[l-1][0])**t + (combi[m-1][1] - combi[l-1][1])**t + (combi[m-1][0] - combi[m-1][1] - combi[l-1][0] + combi[l-1][1])**t + (combi[m-1][0] + combi[m-1][1] - combi[l-1][0] - combi[l-1][1])**t)\n",
    "                        for t in range(2*2*N+1)\n",
    "                    ) // (factorial(2*N)**2)\n",
    "                \n",
    "                for m in range(l + 1, k+1)\n",
    "                ) \n",
    "                for l in range(1,k)\n",
    "            )**s for s in range(4*N+1))\n",
    "        \n",
    "    return count//(factorial(k) * factorial(4*N))\n",
    "\n",
    "Q_Nk_third(4,2)"
   ]
  },
  {
   "cell_type": "code",
   "execution_count": 161,
   "id": "f2080926",
   "metadata": {},
   "outputs": [
    {
     "data": {
      "text/plain": [
       "44"
      ]
     },
     "execution_count": 161,
     "metadata": {},
     "output_type": "execute_result"
    }
   ],
   "source": [
    "# Moved the 1/(2N)!^2 out of the power s\n",
    "def Q_Nk_third(N, k):\n",
    "    two_sum = list(itertools.product(*[range(1,N+1) for _ in range(2)]))\n",
    "    total_sum = list(itertools.product(*[two_sum for _ in range(k)]))\n",
    "    \n",
    "    count = 0\n",
    "    for combi in total_sum:\n",
    "        # combi[a][0] = i_{a}, combi[a][1] = j_a\n",
    "        count += sum(S1(4*N+1,s+1) * sum(\n",
    "            sum(\n",
    "                    # D = 2N\n",
    "                    sum(\n",
    "                        sum(int((-1)**(2*N-t+u)) * S1(2*N+1,u+1) * S1(2*N+1, t-u+1) for u in range(t+1)) * ((combi[m-1][0] - combi[l-1][0])**t + (combi[m-1][1] - combi[l-1][1])**t + (combi[m-1][0] - combi[m-1][1] - combi[l-1][0] + combi[l-1][1])**t + (combi[m-1][0] + combi[m-1][1] - combi[l-1][0] - combi[l-1][1])**t)\n",
    "                        for t in range(2*2*N+1)\n",
    "                    )\n",
    "                \n",
    "                for m in range(l + 1, k+1)\n",
    "                ) \n",
    "                for l in range(1,k)\n",
    "            )**s  // (factorial(2*N)**(2*s)) for s in range(4*N+1))\n",
    "        \n",
    "    return count//(factorial(k) * factorial(4*N))\n",
    "\n",
    "Q_Nk_third(4,2)"
   ]
  },
  {
   "cell_type": "code",
   "execution_count": 163,
   "id": "94af85e1",
   "metadata": {},
   "outputs": [
    {
     "data": {
      "text/plain": [
       "24"
      ]
     },
     "execution_count": 163,
     "metadata": {},
     "output_type": "execute_result"
    }
   ],
   "source": [
    "Q_Nk_third(4,3)"
   ]
  },
  {
   "cell_type": "code",
   "execution_count": 164,
   "id": "afbd8f8f",
   "metadata": {
    "scrolled": true
   },
   "outputs": [
    {
     "data": {
      "text/plain": [
       "204"
      ]
     },
     "execution_count": 164,
     "metadata": {},
     "output_type": "execute_result"
    }
   ],
   "source": [
    "# Takes a while\n",
    "Q_Nk_third(5,3) # expects 204"
   ]
  },
  {
   "cell_type": "markdown",
   "id": "43393213",
   "metadata": {},
   "source": [
    "\\begin{align}\n",
    "Q_k(N) &= \\frac{1}{(4N)!k!}\\sum_{i_1=1}^{N}\\sum_{j_1=1}^{N} \\dots \\sum_{i_k=1}^{N}\\sum_{j_k=1}^{N}\\sum_{s=0}^{4N}S_1(4N + 1, s + 1) \\frac{1}{(2N)!^{2s}}\\Biggl( \\\\\n",
    "    &\\sum_{l=1}^{k-1}\\sum_{m=l+1}^{k} \\sum_{t=0}^{2N} \\left[\\sum_{u=0}^{t}(-1)^{-t+u} S_1(2N+1, u+1) S_1(2N+1,t-u+1)\\right] \\\\\n",
    "    &\\cdot \\Biggl[\\sum_{r=0}^{t}\\binom{t}{r}(-1)^{t-r} (i_l^r i_m^{t-r} + j_l^rj_m^{t-r}) \\\\\n",
    "    &+ \\sum_{r_1 + r_2 + r_3 + r_4 = t}^{t}\\binom{t}{r_1, r_2, r_3, r_4}\\left[(-1)^{r_2 + r_3}  + (-1)^{r_2 + r_4}\\right]i_l^{r_1}i_m^{r_2}j_l^{r_3}j_m^{r_4}\\Biggr] \\Biggr)^s\n",
    "\\end{align}"
   ]
  },
  {
   "cell_type": "code",
   "execution_count": 167,
   "id": "c9a46424",
   "metadata": {},
   "outputs": [
    {
     "data": {
      "text/plain": [
       "120"
      ]
     },
     "execution_count": 167,
     "metadata": {},
     "output_type": "execute_result"
    }
   ],
   "source": [
    "factorial = lambda n: 1 if n <= 1 else n * factorial(n-1)\n",
    "factorial(5)"
   ]
  },
  {
   "cell_type": "code",
   "execution_count": 168,
   "id": "1f1e3b30",
   "metadata": {},
   "outputs": [
    {
     "data": {
      "text/plain": [
       "10"
      ]
     },
     "execution_count": 168,
     "metadata": {},
     "output_type": "execute_result"
    }
   ],
   "source": [
    "def multinomial_coefficient(n, counts):\n",
    "    if sum(counts) != n:\n",
    "        raise ValueError(\"The sum of group sizes must equal n.\")\n",
    "    \n",
    "    numerator = factorial(n)\n",
    "    denominator = 1\n",
    "    for count in counts:\n",
    "        denominator *= factorial(count)\n",
    "    \n",
    "    return numerator // denominator\n",
    "multinomial_coefficient(5,[2,3])"
   ]
  },
  {
   "cell_type": "code",
   "execution_count": null,
   "id": "3300b1d6",
   "metadata": {},
   "outputs": [],
   "source": [
    "# Moved the 1/(2N)!^2 out of the power s\n",
    "def Q_Nk_fourth(N, k):\n",
    "    two_sum = list(itertools.product(*[range(1,N+1) for _ in range(2)]))\n",
    "    total_sum = list(itertools.product(*[two_sum for _ in range(k)]))\n",
    "    \n",
    "    count = 0\n",
    "    for combi in total_sum:\n",
    "        # combi[a][0] = i_{a}, combi[a][1] = j_a\n",
    "        count += sum(S1(4*N+1,s+1) * sum(\n",
    "            sum(\n",
    "                    # D = 2N\n",
    "                    sum(\n",
    "                        sum(int((-1)**(2*N-t+u)) * S1(2*N+1,u+1) * S1(2*N+1, t-u+1) for u in range(t+1)) * (\n",
    "                            \n",
    "                            sum(multinomial_coefficient(t, [r,t-r]) * int(-1)**(t-r) * ()) +\n",
    "                            sum() # TODO\n",
    "                            \n",
    "                        )\n",
    "                        for t in range(2*2*N+1)\n",
    "                    )\n",
    "                \n",
    "                for m in range(l + 1, k+1)\n",
    "                ) \n",
    "                for l in range(1,k)\n",
    "            )**s  // (factorial(2*N)**(2*s)) for s in range(4*N+1))\n",
    "        \n",
    "    return count//(factorial(k) * factorial(4*N))\n",
    "\n",
    "Q_Nk_third(4,2)"
   ]
  },
  {
   "cell_type": "code",
   "execution_count": null,
   "id": "8bfbff6f",
   "metadata": {},
   "outputs": [],
   "source": []
  },
  {
   "cell_type": "code",
   "execution_count": null,
   "id": "ff2012a3",
   "metadata": {},
   "outputs": [],
   "source": []
  },
  {
   "cell_type": "code",
   "execution_count": null,
   "id": "a9560a13",
   "metadata": {},
   "outputs": [],
   "source": []
  }
 ],
 "metadata": {
  "kernelspec": {
   "display_name": "Python 3 (ipykernel)",
   "language": "python",
   "name": "python3"
  },
  "language_info": {
   "codemirror_mode": {
    "name": "ipython",
    "version": 3
   },
   "file_extension": ".py",
   "mimetype": "text/x-python",
   "name": "python",
   "nbconvert_exporter": "python",
   "pygments_lexer": "ipython3",
   "version": "3.10.7"
  }
 },
 "nbformat": 4,
 "nbformat_minor": 5
}
