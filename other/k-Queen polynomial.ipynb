{
 "cells": [
  {
   "cell_type": "markdown",
   "id": "bc8d1ed1",
   "metadata": {},
   "source": [
    "# Exploration 1"
   ]
  },
  {
   "cell_type": "code",
   "execution_count": 1,
   "id": "80b3b9a2",
   "metadata": {},
   "outputs": [],
   "source": [
    "import numpy as np\n",
    "import matplotlib.pyplot as plt"
   ]
  },
  {
   "cell_type": "code",
   "execution_count": 2,
   "id": "a28f80b4",
   "metadata": {},
   "outputs": [],
   "source": [
    "class N_k_Queen:\n",
    "    def __init__(self, n, k):\n",
    "        self.n = n\n",
    "        self.k = k\n",
    "        \n",
    "    def _sub_solve(self, rows, pointer=0, cols=set(), diags=set(), anti_diags=set()):\n",
    "        if pointer == self.k: return 1\n",
    "        \n",
    "        result = 0\n",
    "        \n",
    "        row = rows[pointer]\n",
    "        for col in range(self.n):\n",
    "            if col in cols or row+col in diags or row-col in anti_diags: continue\n",
    "            \n",
    "            cols.add(col)\n",
    "            diags.add(row+col)\n",
    "            anti_diags.add(row-col)\n",
    "            \n",
    "            result += self._sub_solve(rows, pointer+1, cols, diags, anti_diags)\n",
    "            \n",
    "            cols.remove(col)\n",
    "            diags.remove(row+col)\n",
    "            anti_diags.remove(row-col)\n",
    "            \n",
    "        return result\n",
    "    \n",
    "    def solve(self):\n",
    "        rows = self._generate_rows()\n",
    "        \n",
    "        result = 0\n",
    "        \n",
    "        for row in rows:\n",
    "            result += self._sub_solve(row)\n",
    "            \n",
    "        return result\n",
    "        \n",
    "    \n",
    "    # N choose k rows\n",
    "    def _generate_rows(self):\n",
    "        rows = []\n",
    "        for i in range(2**self.n):\n",
    "            if sum(int(v) for v in bin(i)[2:]) != self.k: continue\n",
    "            \n",
    "            row = []\n",
    "            for idx in range(self.n):\n",
    "                if i & (1 << idx): row.append(idx)\n",
    "            \n",
    "            rows.append(row)\n",
    "            \n",
    "        return rows"
   ]
  },
  {
   "cell_type": "code",
   "execution_count": 4,
   "id": "f8f13c9d",
   "metadata": {},
   "outputs": [
    {
     "data": {
      "text/plain": [
       "204"
      ]
     },
     "execution_count": 4,
     "metadata": {},
     "output_type": "execute_result"
    }
   ],
   "source": [
    "N_k_Queen(5,3).solve()"
   ]
  },
  {
   "cell_type": "code",
   "execution_count": 3,
   "id": "86fdfa16",
   "metadata": {},
   "outputs": [],
   "source": [
    "def analytic_2q(n):\n",
    "    return 1/2 * n**4 - 5/3 * n**3 + 3/2 * n**2 - n/3"
   ]
  },
  {
   "cell_type": "code",
   "execution_count": 4,
   "id": "bb0ad863",
   "metadata": {},
   "outputs": [
    {
     "data": {
      "text/plain": [
       "1287.9999999999998"
      ]
     },
     "execution_count": 4,
     "metadata": {},
     "output_type": "execute_result"
    }
   ],
   "source": [
    "analytic_2q(8)"
   ]
  },
  {
   "cell_type": "code",
   "execution_count": 5,
   "id": "cd72bb2b",
   "metadata": {},
   "outputs": [
    {
     "data": {
      "text/plain": [
       "1288"
      ]
     },
     "execution_count": 5,
     "metadata": {},
     "output_type": "execute_result"
    }
   ],
   "source": [
    "solver = N_k_Queen(8,2)\n",
    "solver.solve()"
   ]
  },
  {
   "cell_type": "code",
   "execution_count": 6,
   "id": "b74c800d",
   "metadata": {},
   "outputs": [
    {
     "data": {
      "image/png": "[encoded data removed]",
      "text/plain": [
       "<Figure size 640x480 with 1 Axes>"
      ]
     },
     "metadata": {},
     "output_type": "display_data"
    }
   ],
   "source": [
    "k = 3\n",
    "r = list(range(1,15,2))\n",
    "x = np.array(r)\n",
    "y = []\n",
    "for n in r:\n",
    "    solver = N_k_Queen(n,k)\n",
    "    y.append(solver.solve())\n",
    "y = np.array(y)\n",
    "    \n",
    "degree = len(r)-1\n",
    "\n",
    "coefficients = np.polyfit(x, y, degree)\n",
    "\n",
    "polynomial = np.poly1d(coefficients)\n",
    "\n",
    "x_axis = np.linspace(min(x), max(x), 100)\n",
    "y_axis = polynomial(x_axis)\n",
    "\n",
    "plt.scatter(x, y, color='red', label='Original Points')\n",
    "# Plot the polynomial\n",
    "plt.plot(x_axis, y_axis, label=f'Polynomial Degree {degree}')\n",
    "plt.legend()\n",
    "plt.show()"
   ]
  },
  {
   "cell_type": "code",
   "execution_count": 7,
   "id": "4e1ea013",
   "metadata": {},
   "outputs": [
    {
     "data": {
      "text/plain": [
       "poly1d([   2.        ,  -20.        ,   79.        , -150.        ,\n",
       "        131.99999999,  -45.99999999,    3.        ])"
      ]
     },
     "execution_count": 7,
     "metadata": {},
     "output_type": "execute_result"
    }
   ],
   "source": [
    "12 * polynomial"
   ]
  },
  {
   "cell_type": "code",
   "execution_count": 8,
   "id": "d3670d7a",
   "metadata": {},
   "outputs": [
    {
     "data": {
      "text/plain": [
       "[1, 3, 5, 7, 9, 11, 13]"
      ]
     },
     "execution_count": 8,
     "metadata": {},
     "output_type": "execute_result"
    }
   ],
   "source": [
    "r"
   ]
  },
  {
   "cell_type": "code",
   "execution_count": 9,
   "id": "876bba96",
   "metadata": {},
   "outputs": [
    {
     "data": {
      "text/plain": [
       "poly1d([  0.16666667,  -1.66666667,   6.58333333, -12.5       ,\n",
       "        11.        ,  -3.83333333,   0.25      ])"
      ]
     },
     "execution_count": 9,
     "metadata": {},
     "output_type": "execute_result"
    }
   ],
   "source": [
    "polynomial"
   ]
  },
  {
   "cell_type": "code",
   "execution_count": 10,
   "id": "577894b0",
   "metadata": {},
   "outputs": [
    {
     "data": {
      "text/plain": [
       "[(1, 0, 0.0),\n",
       " (2, 0, -0.75),\n",
       " (3, 0, 0.0),\n",
       " (4, 24, 22.25),\n",
       " (5, 204, 204.0),\n",
       " (6, 1024, 1021.25),\n",
       " (7, 3628, 3628.0),\n",
       " (8, 10320, 10316.25),\n",
       " (9, 25096, 25096.0),\n",
       " (10, 54400, 54395.25),\n",
       " (11, 107880, 107880.0)]"
      ]
     },
     "execution_count": 10,
     "metadata": {},
     "output_type": "execute_result"
    }
   ],
   "source": [
    "# Works for odd N\n",
    "Q3 = lambda n: (n-1)*(n-3)*(2*n**4 - 12*n**3 + 25*n**2 - 14*n + 1)/12\n",
    "[(N, N_k_Queen(N, 3).solve(), Q3(N)) for N in range(1, 12)]"
   ]
  },
  {
   "cell_type": "code",
   "execution_count": 11,
   "id": "1154cb4e",
   "metadata": {},
   "outputs": [
    {
     "data": {
      "text/plain": [
       "9"
      ]
     },
     "execution_count": 11,
     "metadata": {},
     "output_type": "execute_result"
    }
   ],
   "source": [
    "f = lambda n: 2*n**4 - 12*n**3 + 25*n**2 - 14*n + 1\n",
    "f(2)"
   ]
  },
  {
   "cell_type": "code",
   "execution_count": 12,
   "id": "8daddc2e",
   "metadata": {},
   "outputs": [
    {
     "data": {
      "text/latex": [
       "$\\displaystyle \\frac{n \\left(n - 2\\right) \\left(n - 1\\right) \\left(3 n - 1\\right)}{6}$"
      ],
      "text/plain": [
       "n*(n - 2)*(n - 1)*(3*n - 1)/6"
      ]
     },
     "execution_count": 12,
     "metadata": {},
     "output_type": "execute_result"
    }
   ],
   "source": [
    "import sympy as sp\n",
    "n = sp.Symbol(\"n\")\n",
    "Q2 = sp.S(1)/6 * n * (n - 1) * (n - 2) * (3*n - 1)\n",
    "Q2"
   ]
  },
  {
   "cell_type": "code",
   "execution_count": 13,
   "id": "e9bd35b0",
   "metadata": {},
   "outputs": [
    {
     "data": {
      "text/latex": [
       "$\\displaystyle \\frac{n^{4}}{2} - \\frac{5 n^{3}}{3} + \\frac{3 n^{2}}{2} - \\frac{n}{3}$"
      ],
      "text/plain": [
       "n**4/2 - 5*n**3/3 + 3*n**2/2 - n/3"
      ]
     },
     "execution_count": 13,
     "metadata": {},
     "output_type": "execute_result"
    }
   ],
   "source": [
    "# Inductive step\n",
    "(Q2.subs({n: n-1}) + 2 * (n-1) * ((n-1)**2 - (n-1) - (n-2)) + (n-1)**2 - (n-1) + (n-1)*(n-2)).expand()"
   ]
  },
  {
   "cell_type": "code",
   "execution_count": 14,
   "id": "c9119ca1",
   "metadata": {},
   "outputs": [
    {
     "data": {
      "text/latex": [
       "$\\displaystyle \\frac{n^{4}}{2} - \\frac{5 n^{3}}{3} + \\frac{3 n^{2}}{2} - \\frac{n}{3}$"
      ],
      "text/plain": [
       "n**4/2 - 5*n**3/3 + 3*n**2/2 - n/3"
      ]
     },
     "execution_count": 14,
     "metadata": {},
     "output_type": "execute_result"
    }
   ],
   "source": [
    "Q2.expand()"
   ]
  },
  {
   "cell_type": "code",
   "execution_count": null,
   "id": "ac56ca7a",
   "metadata": {},
   "outputs": [],
   "source": []
  },
  {
   "cell_type": "code",
   "execution_count": 15,
   "id": "3d2324ed",
   "metadata": {},
   "outputs": [
    {
     "data": {
      "image/png": "[encoded data removed]",
      "text/plain": [
       "<Figure size 640x480 with 1 Axes>"
      ]
     },
     "metadata": {},
     "output_type": "display_data"
    }
   ],
   "source": [
    "k = 3\n",
    "r = list(range(0,18,2))\n",
    "x = np.array(r)\n",
    "y = []\n",
    "for n in r:\n",
    "    solver = N_k_Queen(n,k)\n",
    "    y.append(solver.solve())\n",
    "y = np.array(y)\n",
    "    \n",
    "degree = len(r)-1\n",
    "\n",
    "coefficients = np.polyfit(x, y, degree)\n",
    "\n",
    "polynomial = np.poly1d(coefficients)\n",
    "\n",
    "x_axis = np.linspace(min(x), max(x), 100)\n",
    "y_axis = polynomial(x_axis)\n",
    "\n",
    "plt.scatter(x, y, color='red', label='Original Points')\n",
    "# Plot the polynomial\n",
    "plt.plot(x_axis, y_axis, label=f'Polynomial Degree {degree}')\n",
    "plt.legend()\n",
    "plt.show()"
   ]
  },
  {
   "cell_type": "code",
   "execution_count": 16,
   "id": "96a6de7f",
   "metadata": {},
   "outputs": [
    {
     "data": {
      "text/plain": [
       "poly1d([-5.10700366e-14,  3.25786745e-12,  1.00000000e+01, -1.00000000e+02,\n",
       "        3.95000000e+02, -7.50000000e+02,  6.60000000e+02, -2.00000000e+02,\n",
       "       -5.59392859e-09])"
      ]
     },
     "execution_count": 16,
     "metadata": {},
     "output_type": "execute_result"
    }
   ],
   "source": [
    "60 * polynomial"
   ]
  },
  {
   "cell_type": "code",
   "execution_count": 17,
   "id": "485d4264",
   "metadata": {
    "scrolled": true
   },
   "outputs": [
    {
     "data": {
      "text/latex": [
       "$\\displaystyle \\frac{n^{6}}{6} - \\frac{5 n^{5}}{3} + \\frac{79 n^{4}}{12} - \\frac{25 n^{3}}{2} + 11 n^{2} - \\frac{23 n}{6} + \\frac{1}{4}$"
      ],
      "text/plain": [
       "n**6/6 - 5*n**5/3 + 79*n**4/12 - 25*n**3/2 + 11*n**2 - 23*n/6 + 1/4"
      ]
     },
     "execution_count": 17,
     "metadata": {},
     "output_type": "execute_result"
    }
   ],
   "source": [
    "Q3(sp.Symbol(\"n\")).expand()"
   ]
  },
  {
   "cell_type": "code",
   "execution_count": 18,
   "id": "9576ab01",
   "metadata": {},
   "outputs": [
    {
     "data": {
      "text/latex": [
       "$\\displaystyle n^{6} - 10 n^{5} + \\frac{79 n^{4}}{2} - 75 n^{3} + 66 n^{2} - 23 n + \\frac{3}{2}$"
      ],
      "text/plain": [
       "n**6 - 10*n**5 + 79*n**4/2 - 75*n**3 + 66*n**2 - 23*n + 3/2"
      ]
     },
     "execution_count": 18,
     "metadata": {},
     "output_type": "execute_result"
    }
   ],
   "source": [
    "Q3(sp.Symbol(\"n\")).expand() * 6"
   ]
  },
  {
   "cell_type": "code",
   "execution_count": 19,
   "id": "d251e52c",
   "metadata": {
    "scrolled": true
   },
   "outputs": [
    {
     "data": {
      "text/latex": [
       "$\\displaystyle n^{4} - \\frac{10 n^{3}}{3} + 3 n^{2} - \\frac{2 n}{3}$"
      ],
      "text/plain": [
       "n**4 - 10*n**3/3 + 3*n**2 - 2*n/3"
      ]
     },
     "execution_count": 19,
     "metadata": {},
     "output_type": "execute_result"
    }
   ],
   "source": [
    "Q2.expand() * 2"
   ]
  },
  {
   "cell_type": "markdown",
   "id": "d6660709",
   "metadata": {},
   "source": [
    "# Exploration 2"
   ]
  },
  {
   "cell_type": "code",
   "execution_count": 20,
   "id": "04f40925",
   "metadata": {},
   "outputs": [],
   "source": [
    "import sympy as sp\n",
    "from IPython.display import display"
   ]
  },
  {
   "cell_type": "code",
   "execution_count": 36,
   "id": "a7c1e327",
   "metadata": {},
   "outputs": [],
   "source": [
    "def stirling_first_kind(n, k):\n",
    "    # Base cases\n",
    "    if n == k == 0:\n",
    "        return 1\n",
    "    if n == 0 or k == 0 or k > n:\n",
    "        return 0\n",
    "    return stirling_first_kind(n-1, k-1) - (n-1) * stirling_first_kind(n-1, k)"
   ]
  },
  {
   "cell_type": "code",
   "execution_count": 21,
   "id": "290c7e65",
   "metadata": {},
   "outputs": [
    {
     "data": {
      "text/plain": [
       "(x, n, i)"
      ]
     },
     "execution_count": 21,
     "metadata": {},
     "output_type": "execute_result"
    }
   ],
   "source": [
    "x,n,i = sp.symbols(\"x n i\")\n",
    "x,n,i"
   ]
  },
  {
   "cell_type": "code",
   "execution_count": 59,
   "id": "8d2fe397",
   "metadata": {
    "scrolled": true
   },
   "outputs": [
    {
     "name": "stdout",
     "output_type": "stream",
     "text": [
      "----------------------------------------------------------------------------------------------------\n",
      "1\n"
     ]
    },
    {
     "data": {
      "text/latex": [
       "$\\displaystyle x + 1$"
      ],
      "text/plain": [
       "x + 1"
      ]
     },
     "metadata": {},
     "output_type": "display_data"
    },
    {
     "data": {
      "text/latex": [
       "$\\displaystyle x + 1$"
      ],
      "text/plain": [
       "x + 1"
      ]
     },
     "metadata": {},
     "output_type": "display_data"
    },
    {
     "name": "stdout",
     "output_type": "stream",
     "text": [
      "----------------------------------------------------------------------------------------------------\n",
      "2\n"
     ]
    },
    {
     "data": {
      "text/latex": [
       "$\\displaystyle x^{2} + 3 x + 2$"
      ],
      "text/plain": [
       "x**2 + 3*x + 2"
      ]
     },
     "metadata": {},
     "output_type": "display_data"
    },
    {
     "data": {
      "text/latex": [
       "$\\displaystyle x^{2} + 3 x + 2$"
      ],
      "text/plain": [
       "x**2 + 3*x + 2"
      ]
     },
     "metadata": {},
     "output_type": "display_data"
    },
    {
     "name": "stdout",
     "output_type": "stream",
     "text": [
      "----------------------------------------------------------------------------------------------------\n",
      "3\n"
     ]
    },
    {
     "data": {
      "text/latex": [
       "$\\displaystyle x^{3} + 6 x^{2} + 11 x + 6$"
      ],
      "text/plain": [
       "x**3 + 6*x**2 + 11*x + 6"
      ]
     },
     "metadata": {},
     "output_type": "display_data"
    },
    {
     "data": {
      "text/latex": [
       "$\\displaystyle x^{3} + 6 x^{2} + 11 x + 6$"
      ],
      "text/plain": [
       "x**3 + 6*x**2 + 11*x + 6"
      ]
     },
     "metadata": {},
     "output_type": "display_data"
    },
    {
     "name": "stdout",
     "output_type": "stream",
     "text": [
      "----------------------------------------------------------------------------------------------------\n",
      "4\n"
     ]
    },
    {
     "data": {
      "text/latex": [
       "$\\displaystyle x^{4} + 10 x^{3} + 35 x^{2} + 50 x + 24$"
      ],
      "text/plain": [
       "x**4 + 10*x**3 + 35*x**2 + 50*x + 24"
      ]
     },
     "metadata": {},
     "output_type": "display_data"
    },
    {
     "data": {
      "text/latex": [
       "$\\displaystyle x^{4} + 10 x^{3} + 35 x^{2} + 50 x + 24$"
      ],
      "text/plain": [
       "x**4 + 10*x**3 + 35*x**2 + 50*x + 24"
      ]
     },
     "metadata": {},
     "output_type": "display_data"
    },
    {
     "name": "stdout",
     "output_type": "stream",
     "text": [
      "----------------------------------------------------------------------------------------------------\n",
      "5\n"
     ]
    },
    {
     "data": {
      "text/latex": [
       "$\\displaystyle x^{5} + 15 x^{4} + 85 x^{3} + 225 x^{2} + 274 x + 120$"
      ],
      "text/plain": [
       "x**5 + 15*x**4 + 85*x**3 + 225*x**2 + 274*x + 120"
      ]
     },
     "metadata": {},
     "output_type": "display_data"
    },
    {
     "data": {
      "text/latex": [
       "$\\displaystyle x^{5} + 15 x^{4} + 85 x^{3} + 225 x^{2} + 274 x + 120$"
      ],
      "text/plain": [
       "x**5 + 15*x**4 + 85*x**3 + 225*x**2 + 274*x + 120"
      ]
     },
     "metadata": {},
     "output_type": "display_data"
    },
    {
     "name": "stdout",
     "output_type": "stream",
     "text": [
      "----------------------------------------------------------------------------------------------------\n",
      "6\n"
     ]
    },
    {
     "data": {
      "text/latex": [
       "$\\displaystyle x^{6} + 21 x^{5} + 175 x^{4} + 735 x^{3} + 1624 x^{2} + 1764 x + 720$"
      ],
      "text/plain": [
       "x**6 + 21*x**5 + 175*x**4 + 735*x**3 + 1624*x**2 + 1764*x + 720"
      ]
     },
     "metadata": {},
     "output_type": "display_data"
    },
    {
     "data": {
      "text/latex": [
       "$\\displaystyle x^{6} + 21 x^{5} + 175 x^{4} + 735 x^{3} + 1624 x^{2} + 1764 x + 720$"
      ],
      "text/plain": [
       "x**6 + 21*x**5 + 175*x**4 + 735*x**3 + 1624*x**2 + 1764*x + 720"
      ]
     },
     "metadata": {},
     "output_type": "display_data"
    },
    {
     "name": "stdout",
     "output_type": "stream",
     "text": [
      "----------------------------------------------------------------------------------------------------\n",
      "7\n"
     ]
    },
    {
     "data": {
      "text/latex": [
       "$\\displaystyle x^{7} + 28 x^{6} + 322 x^{5} + 1960 x^{4} + 6769 x^{3} + 13132 x^{2} + 13068 x + 5040$"
      ],
      "text/plain": [
       "x**7 + 28*x**6 + 322*x**5 + 1960*x**4 + 6769*x**3 + 13132*x**2 + 13068*x + 5040"
      ]
     },
     "metadata": {},
     "output_type": "display_data"
    },
    {
     "data": {
      "text/latex": [
       "$\\displaystyle x^{7} + 28 x^{6} + 322 x^{5} + 1960 x^{4} + 6769 x^{3} + 13132 x^{2} + 13068 x + 5040$"
      ],
      "text/plain": [
       "x**7 + 28*x**6 + 322*x**5 + 1960*x**4 + 6769*x**3 + 13132*x**2 + 13068*x + 5040"
      ]
     },
     "metadata": {},
     "output_type": "display_data"
    },
    {
     "name": "stdout",
     "output_type": "stream",
     "text": [
      "----------------------------------------------------------------------------------------------------\n",
      "8\n"
     ]
    },
    {
     "data": {
      "text/latex": [
       "$\\displaystyle x^{8} + 36 x^{7} + 546 x^{6} + 4536 x^{5} + 22449 x^{4} + 67284 x^{3} + 118124 x^{2} + 109584 x + 40320$"
      ],
      "text/plain": [
       "x**8 + 36*x**7 + 546*x**6 + 4536*x**5 + 22449*x**4 + 67284*x**3 + 118124*x**2 + 109584*x + 40320"
      ]
     },
     "metadata": {},
     "output_type": "display_data"
    },
    {
     "data": {
      "text/latex": [
       "$\\displaystyle x^{8} + 36 x^{7} + 546 x^{6} + 4536 x^{5} + 22449 x^{4} + 67284 x^{3} + 118124 x^{2} + 109584 x + 40320$"
      ],
      "text/plain": [
       "x**8 + 36*x**7 + 546*x**6 + 4536*x**5 + 22449*x**4 + 67284*x**3 + 118124*x**2 + 109584*x + 40320"
      ]
     },
     "metadata": {},
     "output_type": "display_data"
    },
    {
     "name": "stdout",
     "output_type": "stream",
     "text": [
      "----------------------------------------------------------------------------------------------------\n",
      "9\n"
     ]
    },
    {
     "data": {
      "text/latex": [
       "$\\displaystyle x^{9} + 45 x^{8} + 870 x^{7} + 9450 x^{6} + 63273 x^{5} + 269325 x^{4} + 723680 x^{3} + 1172700 x^{2} + 1026576 x + 362880$"
      ],
      "text/plain": [
       "x**9 + 45*x**8 + 870*x**7 + 9450*x**6 + 63273*x**5 + 269325*x**4 + 723680*x**3 + 1172700*x**2 + 1026576*x + 362880"
      ]
     },
     "metadata": {},
     "output_type": "display_data"
    },
    {
     "data": {
      "text/latex": [
       "$\\displaystyle x^{9} + 45 x^{8} + 870 x^{7} + 9450 x^{6} + 63273 x^{5} + 269325 x^{4} + 723680 x^{3} + 1172700 x^{2} + 1026576 x + 362880$"
      ],
      "text/plain": [
       "x**9 + 45*x**8 + 870*x**7 + 9450*x**6 + 63273*x**5 + 269325*x**4 + 723680*x**3 + 1172700*x**2 + 1026576*x + 362880"
      ]
     },
     "metadata": {},
     "output_type": "display_data"
    }
   ],
   "source": [
    "for N in range(1,10):\n",
    "    print(100*\"-\")\n",
    "    print(N)\n",
    "    display(sp.expand(sp.product((x + i), (i,1,N))))\n",
    "    display(sum((-1)**(N-k) * stirling_first_kind(N+1,k+1)*x**k for k in range(N+1)))"
   ]
  },
  {
   "cell_type": "code",
   "execution_count": 51,
   "id": "a270a73e",
   "metadata": {
    "scrolled": true
   },
   "outputs": [
    {
     "name": "stdout",
     "output_type": "stream",
     "text": [
      "----------------------------------------------------------------------------------------------------\n",
      "1\n"
     ]
    },
    {
     "data": {
      "text/latex": [
       "$\\displaystyle x - 1$"
      ],
      "text/plain": [
       "x - 1"
      ]
     },
     "metadata": {},
     "output_type": "display_data"
    },
    {
     "name": "stdout",
     "output_type": "stream",
     "text": [
      "[(1, (2, 2)), (-1, (2, 1))]\n"
     ]
    },
    {
     "data": {
      "text/latex": [
       "$\\displaystyle x - 1$"
      ],
      "text/plain": [
       "x - 1"
      ]
     },
     "metadata": {},
     "output_type": "display_data"
    },
    {
     "name": "stdout",
     "output_type": "stream",
     "text": [
      "----------------------------------------------------------------------------------------------------\n",
      "2\n"
     ]
    },
    {
     "data": {
      "text/latex": [
       "$\\displaystyle x^{2} - 3 x + 2$"
      ],
      "text/plain": [
       "x**2 - 3*x + 2"
      ]
     },
     "metadata": {},
     "output_type": "display_data"
    },
    {
     "name": "stdout",
     "output_type": "stream",
     "text": [
      "[(1, (3, 3)), (-3, (3, 2)), (2, (3, 1))]\n"
     ]
    },
    {
     "data": {
      "text/latex": [
       "$\\displaystyle x^{2} - 3 x + 2$"
      ],
      "text/plain": [
       "x**2 - 3*x + 2"
      ]
     },
     "metadata": {},
     "output_type": "display_data"
    },
    {
     "name": "stdout",
     "output_type": "stream",
     "text": [
      "----------------------------------------------------------------------------------------------------\n",
      "3\n"
     ]
    },
    {
     "data": {
      "text/latex": [
       "$\\displaystyle x^{3} - 6 x^{2} + 11 x - 6$"
      ],
      "text/plain": [
       "x**3 - 6*x**2 + 11*x - 6"
      ]
     },
     "metadata": {},
     "output_type": "display_data"
    },
    {
     "name": "stdout",
     "output_type": "stream",
     "text": [
      "[(1, (4, 4)), (-6, (4, 3)), (11, (4, 2)), (-6, (4, 1))]\n"
     ]
    },
    {
     "data": {
      "text/latex": [
       "$\\displaystyle x^{3} - 6 x^{2} + 11 x - 6$"
      ],
      "text/plain": [
       "x**3 - 6*x**2 + 11*x - 6"
      ]
     },
     "metadata": {},
     "output_type": "display_data"
    },
    {
     "name": "stdout",
     "output_type": "stream",
     "text": [
      "----------------------------------------------------------------------------------------------------\n",
      "4\n"
     ]
    },
    {
     "data": {
      "text/latex": [
       "$\\displaystyle x^{4} - 10 x^{3} + 35 x^{2} - 50 x + 24$"
      ],
      "text/plain": [
       "x**4 - 10*x**3 + 35*x**2 - 50*x + 24"
      ]
     },
     "metadata": {},
     "output_type": "display_data"
    },
    {
     "name": "stdout",
     "output_type": "stream",
     "text": [
      "[(1, (5, 5)), (-10, (5, 4)), (35, (5, 3)), (-50, (5, 2)), (24, (5, 1))]\n"
     ]
    },
    {
     "data": {
      "text/latex": [
       "$\\displaystyle x^{4} - 10 x^{3} + 35 x^{2} - 50 x + 24$"
      ],
      "text/plain": [
       "x**4 - 10*x**3 + 35*x**2 - 50*x + 24"
      ]
     },
     "metadata": {},
     "output_type": "display_data"
    },
    {
     "name": "stdout",
     "output_type": "stream",
     "text": [
      "----------------------------------------------------------------------------------------------------\n",
      "5\n"
     ]
    },
    {
     "data": {
      "text/latex": [
       "$\\displaystyle x^{5} - 15 x^{4} + 85 x^{3} - 225 x^{2} + 274 x - 120$"
      ],
      "text/plain": [
       "x**5 - 15*x**4 + 85*x**3 - 225*x**2 + 274*x - 120"
      ]
     },
     "metadata": {},
     "output_type": "display_data"
    },
    {
     "name": "stdout",
     "output_type": "stream",
     "text": [
      "[(1, (6, 6)), (-15, (6, 5)), (85, (6, 4)), (-225, (6, 3)), (274, (6, 2)), (-120, (6, 1))]\n"
     ]
    },
    {
     "data": {
      "text/latex": [
       "$\\displaystyle x^{5} - 15 x^{4} + 85 x^{3} - 225 x^{2} + 274 x - 120$"
      ],
      "text/plain": [
       "x**5 - 15*x**4 + 85*x**3 - 225*x**2 + 274*x - 120"
      ]
     },
     "metadata": {},
     "output_type": "display_data"
    },
    {
     "name": "stdout",
     "output_type": "stream",
     "text": [
      "----------------------------------------------------------------------------------------------------\n",
      "6\n"
     ]
    },
    {
     "data": {
      "text/latex": [
       "$\\displaystyle x^{6} - 21 x^{5} + 175 x^{4} - 735 x^{3} + 1624 x^{2} - 1764 x + 720$"
      ],
      "text/plain": [
       "x**6 - 21*x**5 + 175*x**4 - 735*x**3 + 1624*x**2 - 1764*x + 720"
      ]
     },
     "metadata": {},
     "output_type": "display_data"
    },
    {
     "name": "stdout",
     "output_type": "stream",
     "text": [
      "[(1, (7, 7)), (-21, (7, 6)), (175, (7, 5)), (-735, (7, 4)), (1624, (7, 3)), (-1764, (7, 2)), (720, (7, 1))]\n"
     ]
    },
    {
     "data": {
      "text/latex": [
       "$\\displaystyle x^{6} - 21 x^{5} + 175 x^{4} - 735 x^{3} + 1624 x^{2} - 1764 x + 720$"
      ],
      "text/plain": [
       "x**6 - 21*x**5 + 175*x**4 - 735*x**3 + 1624*x**2 - 1764*x + 720"
      ]
     },
     "metadata": {},
     "output_type": "display_data"
    },
    {
     "name": "stdout",
     "output_type": "stream",
     "text": [
      "----------------------------------------------------------------------------------------------------\n",
      "7\n"
     ]
    },
    {
     "data": {
      "text/latex": [
       "$\\displaystyle x^{7} - 28 x^{6} + 322 x^{5} - 1960 x^{4} + 6769 x^{3} - 13132 x^{2} + 13068 x - 5040$"
      ],
      "text/plain": [
       "x**7 - 28*x**6 + 322*x**5 - 1960*x**4 + 6769*x**3 - 13132*x**2 + 13068*x - 5040"
      ]
     },
     "metadata": {},
     "output_type": "display_data"
    },
    {
     "name": "stdout",
     "output_type": "stream",
     "text": [
      "[(1, (8, 8)), (-28, (8, 7)), (322, (8, 6)), (-1960, (8, 5)), (6769, (8, 4)), (-13132, (8, 3)), (13068, (8, 2)), (-5040, (8, 1))]\n"
     ]
    },
    {
     "data": {
      "text/latex": [
       "$\\displaystyle x^{7} - 28 x^{6} + 322 x^{5} - 1960 x^{4} + 6769 x^{3} - 13132 x^{2} + 13068 x - 5040$"
      ],
      "text/plain": [
       "x**7 - 28*x**6 + 322*x**5 - 1960*x**4 + 6769*x**3 - 13132*x**2 + 13068*x - 5040"
      ]
     },
     "metadata": {},
     "output_type": "display_data"
    },
    {
     "name": "stdout",
     "output_type": "stream",
     "text": [
      "----------------------------------------------------------------------------------------------------\n",
      "8\n"
     ]
    },
    {
     "data": {
      "text/latex": [
       "$\\displaystyle x^{8} - 36 x^{7} + 546 x^{6} - 4536 x^{5} + 22449 x^{4} - 67284 x^{3} + 118124 x^{2} - 109584 x + 40320$"
      ],
      "text/plain": [
       "x**8 - 36*x**7 + 546*x**6 - 4536*x**5 + 22449*x**4 - 67284*x**3 + 118124*x**2 - 109584*x + 40320"
      ]
     },
     "metadata": {},
     "output_type": "display_data"
    },
    {
     "name": "stdout",
     "output_type": "stream",
     "text": [
      "[(1, (9, 9)), (-36, (9, 8)), (546, (9, 7)), (-4536, (9, 6)), (22449, (9, 5)), (-67284, (9, 4)), (118124, (9, 3)), (-109584, (9, 2)), (40320, (9, 1))]\n"
     ]
    },
    {
     "data": {
      "text/latex": [
       "$\\displaystyle x^{8} - 36 x^{7} + 546 x^{6} - 4536 x^{5} + 22449 x^{4} - 67284 x^{3} + 118124 x^{2} - 109584 x + 40320$"
      ],
      "text/plain": [
       "x**8 - 36*x**7 + 546*x**6 - 4536*x**5 + 22449*x**4 - 67284*x**3 + 118124*x**2 - 109584*x + 40320"
      ]
     },
     "metadata": {},
     "output_type": "display_data"
    },
    {
     "name": "stdout",
     "output_type": "stream",
     "text": [
      "----------------------------------------------------------------------------------------------------\n",
      "9\n"
     ]
    },
    {
     "data": {
      "text/latex": [
       "$\\displaystyle x^{9} - 45 x^{8} + 870 x^{7} - 9450 x^{6} + 63273 x^{5} - 269325 x^{4} + 723680 x^{3} - 1172700 x^{2} + 1026576 x - 362880$"
      ],
      "text/plain": [
       "x**9 - 45*x**8 + 870*x**7 - 9450*x**6 + 63273*x**5 - 269325*x**4 + 723680*x**3 - 1172700*x**2 + 1026576*x - 362880"
      ]
     },
     "metadata": {},
     "output_type": "display_data"
    },
    {
     "name": "stdout",
     "output_type": "stream",
     "text": [
      "[(1, (10, 10)), (-45, (10, 9)), (870, (10, 8)), (-9450, (10, 7)), (63273, (10, 6)), (-269325, (10, 5)), (723680, (10, 4)), (-1172700, (10, 3)), (1026576, (10, 2)), (-362880, (10, 1))]\n"
     ]
    },
    {
     "data": {
      "text/latex": [
       "$\\displaystyle x^{9} - 45 x^{8} + 870 x^{7} - 9450 x^{6} + 63273 x^{5} - 269325 x^{4} + 723680 x^{3} - 1172700 x^{2} + 1026576 x - 362880$"
      ],
      "text/plain": [
       "x**9 - 45*x**8 + 870*x**7 - 9450*x**6 + 63273*x**5 - 269325*x**4 + 723680*x**3 - 1172700*x**2 + 1026576*x - 362880"
      ]
     },
     "metadata": {},
     "output_type": "display_data"
    }
   ],
   "source": [
    "for N in range(1,10):\n",
    "    print(100*\"-\")\n",
    "    print(N)\n",
    "    display(sp.expand(sp.product((x - i), (i,1,N))))\n",
    "    print(list(reversed([(stirling_first_kind(N+1,k), (N+1,k)) for k in range(1,N+2)])))\n",
    "    display(sum(stirling_first_kind(N+1,k+1)*x**(k) for k in range(N+1)))"
   ]
  },
  {
   "cell_type": "code",
   "execution_count": null,
   "id": "739ee734",
   "metadata": {},
   "outputs": [],
   "source": []
  },
  {
   "cell_type": "markdown",
   "id": "02257348",
   "metadata": {},
   "source": [
    "The coefficients of $x^k$ are exactly the stirling numbers of the first kind $s(n, k-1)$, should be relatively straightforward to prove inductively (see wiki for recursion and compare with obvious recursion from definition)."
   ]
  },
  {
   "cell_type": "code",
   "execution_count": 68,
   "id": "03a14266",
   "metadata": {},
   "outputs": [
    {
     "name": "stdout",
     "output_type": "stream",
     "text": [
      "----------------------------------------------------------------------------------------------------\n",
      "1\n"
     ]
    },
    {
     "data": {
      "text/latex": [
       "$\\displaystyle x^{2} - 1$"
      ],
      "text/plain": [
       "x**2 - 1"
      ]
     },
     "metadata": {},
     "output_type": "display_data"
    },
    {
     "data": {
      "text/latex": [
       "$\\displaystyle x^{2} - 1$"
      ],
      "text/plain": [
       "x**2 - 1"
      ]
     },
     "metadata": {},
     "output_type": "display_data"
    },
    {
     "name": "stdout",
     "output_type": "stream",
     "text": [
      "----------------------------------------------------------------------------------------------------\n",
      "2\n"
     ]
    },
    {
     "data": {
      "text/latex": [
       "$\\displaystyle x^{4} - 5 x^{2} + 4$"
      ],
      "text/plain": [
       "x**4 - 5*x**2 + 4"
      ]
     },
     "metadata": {},
     "output_type": "display_data"
    },
    {
     "data": {
      "text/latex": [
       "$\\displaystyle x^{4} - 5 x^{2} + 4$"
      ],
      "text/plain": [
       "x**4 - 5*x**2 + 4"
      ]
     },
     "metadata": {},
     "output_type": "display_data"
    },
    {
     "name": "stdout",
     "output_type": "stream",
     "text": [
      "----------------------------------------------------------------------------------------------------\n",
      "3\n"
     ]
    },
    {
     "data": {
      "text/latex": [
       "$\\displaystyle x^{6} - 14 x^{4} + 49 x^{2} - 36$"
      ],
      "text/plain": [
       "x**6 - 14*x**4 + 49*x**2 - 36"
      ]
     },
     "metadata": {},
     "output_type": "display_data"
    },
    {
     "data": {
      "text/latex": [
       "$\\displaystyle x^{6} - 14 x^{4} + 49 x^{2} - 36$"
      ],
      "text/plain": [
       "x**6 - 14*x**4 + 49*x**2 - 36"
      ]
     },
     "metadata": {},
     "output_type": "display_data"
    },
    {
     "name": "stdout",
     "output_type": "stream",
     "text": [
      "----------------------------------------------------------------------------------------------------\n",
      "4\n"
     ]
    },
    {
     "data": {
      "text/latex": [
       "$\\displaystyle x^{8} - 30 x^{6} + 273 x^{4} - 820 x^{2} + 576$"
      ],
      "text/plain": [
       "x**8 - 30*x**6 + 273*x**4 - 820*x**2 + 576"
      ]
     },
     "metadata": {},
     "output_type": "display_data"
    },
    {
     "data": {
      "text/latex": [
       "$\\displaystyle x^{8} - 30 x^{6} + 273 x^{4} - 820 x^{2} + 576$"
      ],
      "text/plain": [
       "x**8 - 30*x**6 + 273*x**4 - 820*x**2 + 576"
      ]
     },
     "metadata": {},
     "output_type": "display_data"
    },
    {
     "name": "stdout",
     "output_type": "stream",
     "text": [
      "----------------------------------------------------------------------------------------------------\n",
      "5\n"
     ]
    },
    {
     "data": {
      "text/latex": [
       "$\\displaystyle x^{10} - 55 x^{8} + 1023 x^{6} - 7645 x^{4} + 21076 x^{2} - 14400$"
      ],
      "text/plain": [
       "x**10 - 55*x**8 + 1023*x**6 - 7645*x**4 + 21076*x**2 - 14400"
      ]
     },
     "metadata": {},
     "output_type": "display_data"
    },
    {
     "data": {
      "text/latex": [
       "$\\displaystyle x^{10} - 55 x^{8} + 1023 x^{6} - 7645 x^{4} + 21076 x^{2} - 14400$"
      ],
      "text/plain": [
       "x**10 - 55*x**8 + 1023*x**6 - 7645*x**4 + 21076*x**2 - 14400"
      ]
     },
     "metadata": {},
     "output_type": "display_data"
    },
    {
     "name": "stdout",
     "output_type": "stream",
     "text": [
      "----------------------------------------------------------------------------------------------------\n",
      "6\n"
     ]
    },
    {
     "data": {
      "text/latex": [
       "$\\displaystyle x^{12} - 91 x^{10} + 3003 x^{8} - 44473 x^{6} + 296296 x^{4} - 773136 x^{2} + 518400$"
      ],
      "text/plain": [
       "x**12 - 91*x**10 + 3003*x**8 - 44473*x**6 + 296296*x**4 - 773136*x**2 + 518400"
      ]
     },
     "metadata": {},
     "output_type": "display_data"
    },
    {
     "data": {
      "text/latex": [
       "$\\displaystyle x^{12} - 91 x^{10} + 3003 x^{8} - 44473 x^{6} + 296296 x^{4} - 773136 x^{2} + 518400$"
      ],
      "text/plain": [
       "x**12 - 91*x**10 + 3003*x**8 - 44473*x**6 + 296296*x**4 - 773136*x**2 + 518400"
      ]
     },
     "metadata": {},
     "output_type": "display_data"
    },
    {
     "name": "stdout",
     "output_type": "stream",
     "text": [
      "----------------------------------------------------------------------------------------------------\n",
      "7\n"
     ]
    },
    {
     "data": {
      "text/latex": [
       "$\\displaystyle x^{14} - 140 x^{12} + 7462 x^{10} - 191620 x^{8} + 2475473 x^{6} - 15291640 x^{4} + 38402064 x^{2} - 25401600$"
      ],
      "text/plain": [
       "x**14 - 140*x**12 + 7462*x**10 - 191620*x**8 + 2475473*x**6 - 15291640*x**4 + 38402064*x**2 - 25401600"
      ]
     },
     "metadata": {},
     "output_type": "display_data"
    },
    {
     "data": {
      "text/latex": [
       "$\\displaystyle x^{14} - 140 x^{12} + 7462 x^{10} - 191620 x^{8} + 2475473 x^{6} - 15291640 x^{4} + 38402064 x^{2} - 25401600$"
      ],
      "text/plain": [
       "x**14 - 140*x**12 + 7462*x**10 - 191620*x**8 + 2475473*x**6 - 15291640*x**4 + 38402064*x**2 - 25401600"
      ]
     },
     "metadata": {},
     "output_type": "display_data"
    },
    {
     "name": "stdout",
     "output_type": "stream",
     "text": [
      "----------------------------------------------------------------------------------------------------\n",
      "8\n"
     ]
    },
    {
     "data": {
      "text/latex": [
       "$\\displaystyle x^{16} - 204 x^{14} + 16422 x^{12} - 669188 x^{10} + 14739153 x^{8} - 173721912 x^{6} + 1017067024 x^{4} - 2483133696 x^{2} + 1625702400$"
      ],
      "text/plain": [
       "x**16 - 204*x**14 + 16422*x**12 - 669188*x**10 + 14739153*x**8 - 173721912*x**6 + 1017067024*x**4 - 2483133696*x**2 + 1625702400"
      ]
     },
     "metadata": {},
     "output_type": "display_data"
    },
    {
     "data": {
      "text/latex": [
       "$\\displaystyle x^{16} - 204 x^{14} + 16422 x^{12} - 669188 x^{10} + 14739153 x^{8} - 173721912 x^{6} + 1017067024 x^{4} - 2483133696 x^{2} + 1625702400$"
      ],
      "text/plain": [
       "x**16 - 204*x**14 + 16422*x**12 - 669188*x**10 + 14739153*x**8 - 173721912*x**6 + 1017067024*x**4 - 2483133696*x**2 + 1625702400"
      ]
     },
     "metadata": {},
     "output_type": "display_data"
    },
    {
     "name": "stdout",
     "output_type": "stream",
     "text": [
      "----------------------------------------------------------------------------------------------------\n",
      "9\n"
     ]
    },
    {
     "data": {
      "text/latex": [
       "$\\displaystyle x^{18} - 285 x^{16} + 32946 x^{14} - 1999370 x^{12} + 68943381 x^{10} - 1367593305 x^{8} + 15088541896 x^{6} - 84865562640 x^{4} + 202759531776 x^{2} - 131681894400$"
      ],
      "text/plain": [
       "x**18 - 285*x**16 + 32946*x**14 - 1999370*x**12 + 68943381*x**10 - 1367593305*x**8 + 15088541896*x**6 - 84865562640*x**4 + 202759531776*x**2 - 131681894400"
      ]
     },
     "metadata": {},
     "output_type": "display_data"
    },
    {
     "data": {
      "text/latex": [
       "$\\displaystyle x^{18} - 285 x^{16} + 32946 x^{14} - 1999370 x^{12} + 68943381 x^{10} - 1367593305 x^{8} + 15088541896 x^{6} - 84865562640 x^{4} + 202759531776 x^{2} - 131681894400$"
      ],
      "text/plain": [
       "x**18 - 285*x**16 + 32946*x**14 - 1999370*x**12 + 68943381*x**10 - 1367593305*x**8 + 15088541896*x**6 - 84865562640*x**4 + 202759531776*x**2 - 131681894400"
      ]
     },
     "metadata": {},
     "output_type": "display_data"
    }
   ],
   "source": [
    "def calc_ak(N,k):\n",
    "    return stirling_first_kind(N+1,k+1)\n",
    "\n",
    "def calc_bk(N,k):\n",
    "    return (-sp.S(1))**(N-k) * stirling_first_kind(N+1,k+1)\n",
    "\n",
    "def calc_cs(N, s):\n",
    "    return sum(calc_ak(N, k) * calc_bk(N, s-k) for k in range(s+1))\n",
    "\n",
    "for N in range(1,10):\n",
    "    print(100*\"-\")\n",
    "    print(N)\n",
    "    display(sp.expand(sp.product((x - i) * (x + i), (i,1,N))))\n",
    "    display(sum(calc_cs(N,k)*x**(k) for k in range(2*N+1)))"
   ]
  },
  {
   "cell_type": "code",
   "execution_count": null,
   "id": "a78557d8",
   "metadata": {},
   "outputs": [],
   "source": []
  },
  {
   "cell_type": "code",
   "execution_count": null,
   "id": "4d433e82",
   "metadata": {},
   "outputs": [],
   "source": []
  },
  {
   "cell_type": "markdown",
   "id": "bb8937ad",
   "metadata": {},
   "source": [
    "# Exploration 3"
   ]
  },
  {
   "cell_type": "code",
   "execution_count": 23,
   "id": "f5c3069c",
   "metadata": {},
   "outputs": [
    {
     "data": {
      "text/plain": [
       "(0, 1)"
      ]
     },
     "execution_count": 23,
     "metadata": {},
     "output_type": "execute_result"
    }
   ],
   "source": [
    "I = lambda a,b: int(a == b)\n",
    "I(1,2), I(1,1)"
   ]
  },
  {
   "cell_type": "code",
   "execution_count": 24,
   "id": "aa03b8a5",
   "metadata": {},
   "outputs": [
    {
     "data": {
      "text/plain": [
       "(1, 0)"
      ]
     },
     "execution_count": 24,
     "metadata": {},
     "output_type": "execute_result"
    }
   ],
   "source": [
    "I_inv = lambda a,b: 1 - I(a,b)\n",
    "I_inv(1,2), I_inv(1,1)"
   ]
  },
  {
   "cell_type": "markdown",
   "id": "f5d2b602",
   "metadata": {},
   "source": [
    "### Naive summation method"
   ]
  },
  {
   "cell_type": "code",
   "execution_count": 25,
   "id": "59206b13",
   "metadata": {},
   "outputs": [],
   "source": [
    "import itertools"
   ]
  },
  {
   "cell_type": "code",
   "execution_count": 26,
   "id": "f12575c1",
   "metadata": {},
   "outputs": [
    {
     "data": {
      "text/plain": [
       "120"
      ]
     },
     "execution_count": 26,
     "metadata": {},
     "output_type": "execute_result"
    }
   ],
   "source": [
    "factorial = lambda n: 1 if n <= 1 else n * factorial(n-1)\n",
    "factorial(5)"
   ]
  },
  {
   "cell_type": "code",
   "execution_count": 27,
   "id": "f4d39387",
   "metadata": {},
   "outputs": [
    {
     "data": {
      "text/plain": [
       "(140.0, 204.0, 140, 204)"
      ]
     },
     "execution_count": 27,
     "metadata": {},
     "output_type": "execute_result"
    }
   ],
   "source": [
    "n = 5\n",
    "two_sum = list(itertools.product(*[range(n) for _ in range(2)]))\n",
    "\n",
    "def Q_kn(k):    \n",
    "    count = 0\n",
    "    for combi in itertools.product(*[two_sum for _ in range(k)]):\n",
    "        P = 1\n",
    "        for r in range(len(combi)):\n",
    "            for s in range(r+1, len(combi)):\n",
    "                P *= I_inv(combi[r][0], combi[s][0]) * I_inv(combi[r][1], combi[s][1]) * I_inv(combi[r][1] - combi[r][0], combi[s][1] - combi[s][0]) * I_inv(combi[r][1] + combi[r][0], combi[s][1] + combi[s][0])\n",
    "        count += P\n",
    "                    \n",
    "    return count/factorial(k)\n",
    "\n",
    "Q_kn(2), Q_kn(3), N_k_Queen(n, 2).solve(), N_k_Queen(n, 3).solve()"
   ]
  },
  {
   "cell_type": "markdown",
   "id": "f52edb43",
   "metadata": {},
   "source": [
    "### A little less naive"
   ]
  },
  {
   "cell_type": "code",
   "execution_count": 28,
   "id": "540341e3",
   "metadata": {},
   "outputs": [
    {
     "data": {
      "text/plain": [
       "4"
      ]
     },
     "execution_count": 28,
     "metadata": {},
     "output_type": "execute_result"
    }
   ],
   "source": [
    "def Qn_naive(n):\n",
    "    total_S = list(itertools.product(*[list(range(n)) for _ in range(n)]))\n",
    "#     print(total_S)\n",
    "    \n",
    "    count = 0\n",
    "    for combi in total_S:\n",
    "        P = 1\n",
    "        for km1 in range(len(combi)):\n",
    "            for lm1 in range(km1+1, len(combi)):\n",
    "                P *= I_inv(combi[km1], combi[lm1]) * I_inv(combi[km1] - km1, combi[lm1] - lm1) * I_inv(combi[km1] + km1, combi[lm1] + lm1)\n",
    "        count += P\n",
    "        \n",
    "    return count\n",
    "\n",
    "Qn_naive(6)"
   ]
  },
  {
   "cell_type": "markdown",
   "id": "dab91be6",
   "metadata": {},
   "source": [
    "### Exploration"
   ]
  },
  {
   "cell_type": "code",
   "execution_count": 29,
   "id": "2d6cbeb4",
   "metadata": {},
   "outputs": [
    {
     "name": "stdout",
     "output_type": "stream",
     "text": [
      "----------------------------------------------------------------------------------------------------\n"
     ]
    },
    {
     "data": {
      "text/latex": [
       "$\\displaystyle 1$"
      ],
      "text/plain": [
       "1"
      ]
     },
     "metadata": {},
     "output_type": "display_data"
    },
    {
     "name": "stdout",
     "output_type": "stream",
     "text": [
      "----------------------------------------------------------------------------------------------------\n"
     ]
    },
    {
     "data": {
      "text/latex": [
       "$\\displaystyle - e^{3 j_{1}} e^{- 3 j_{2}} + \\frac{e^{2 j_{1}} e^{- 2 j_{2}}}{e} + e^{2 j_{1}} e^{- 2 j_{2}} + e e^{2 j_{1}} e^{- 2 j_{2}} - e e^{j_{1}} e^{- j_{2}} - e^{j_{1}} e^{- j_{2}} - \\frac{e^{j_{1}} e^{- j_{2}}}{e} + 1$"
      ],
      "text/plain": [
       "-exp(3*j1)*exp(-3*j2) + exp(-1)*exp(2*j1)*exp(-2*j2) + exp(2*j1)*exp(-2*j2) + E*exp(2*j1)*exp(-2*j2) - E*exp(j1)*exp(-j2) - exp(j1)*exp(-j2) - exp(-1)*exp(j1)*exp(-j2) + 1"
      ]
     },
     "metadata": {},
     "output_type": "display_data"
    },
    {
     "name": "stdout",
     "output_type": "stream",
     "text": [
      "----------------------------------------------------------------------------------------------------\n"
     ]
    },
    {
     "data": {
      "text/latex": [
       "$\\displaystyle - e^{6 j_{1}} e^{- 6 j_{3}} + \\frac{e^{6 j_{1}} e^{- j_{2}} e^{- 5 j_{3}}}{e} + e^{6 j_{1}} e^{- j_{2}} e^{- 5 j_{3}} + e e^{6 j_{1}} e^{- j_{2}} e^{- 5 j_{3}} - e e^{6 j_{1}} e^{- 2 j_{2}} e^{- 4 j_{3}} - e^{6 j_{1}} e^{- 2 j_{2}} e^{- 4 j_{3}} - \\frac{e^{6 j_{1}} e^{- 2 j_{2}} e^{- 4 j_{3}}}{e} + e^{6 j_{1}} e^{- 3 j_{2}} e^{- 3 j_{3}} + \\frac{e^{5 j_{1}} e^{j_{2}} e^{- 6 j_{3}}}{e} + e^{5 j_{1}} e^{j_{2}} e^{- 6 j_{3}} + e e^{5 j_{1}} e^{j_{2}} e^{- 6 j_{3}} - 2 e e^{5 j_{1}} e^{- 5 j_{3}} - 2 e^{5 j_{1}} e^{- 5 j_{3}} - \\frac{2 e^{5 j_{1}} e^{- 5 j_{3}}}{e} - e^{3} e^{5 j_{1}} e^{- j_{2}} e^{- 4 j_{3}} - \\frac{e^{5 j_{1}} e^{- j_{2}} e^{- 4 j_{3}}}{e^{3}} + 2 e^{5 j_{1}} e^{- j_{2}} e^{- 4 j_{3}} + \\frac{e^{5 j_{1}} e^{- 2 j_{2}} e^{- 3 j_{3}}}{e^{3}} + \\frac{e^{5 j_{1}} e^{- 2 j_{2}} e^{- 3 j_{3}}}{e^{2}} + \\frac{e^{5 j_{1}} e^{- 2 j_{2}} e^{- 3 j_{3}}}{e} + e e^{5 j_{1}} e^{- 2 j_{2}} e^{- 3 j_{3}} + e^{2} e^{5 j_{1}} e^{- 2 j_{2}} e^{- 3 j_{3}} + e^{3} e^{5 j_{1}} e^{- 2 j_{2}} e^{- 3 j_{3}} - e^{2} e^{5 j_{1}} e^{- 3 j_{2}} e^{- 2 j_{3}} - e^{5 j_{1}} e^{- 3 j_{2}} e^{- 2 j_{3}} - \\frac{e^{5 j_{1}} e^{- 3 j_{2}} e^{- 2 j_{3}}}{e^{2}} - e e^{4 j_{1}} e^{2 j_{2}} e^{- 6 j_{3}} - e^{4 j_{1}} e^{2 j_{2}} e^{- 6 j_{3}} - \\frac{e^{4 j_{1}} e^{2 j_{2}} e^{- 6 j_{3}}}{e} - e^{3} e^{4 j_{1}} e^{j_{2}} e^{- 5 j_{3}} - \\frac{e^{4 j_{1}} e^{j_{2}} e^{- 5 j_{3}}}{e^{3}} + 2 e^{4 j_{1}} e^{j_{2}} e^{- 5 j_{3}} + \\frac{e^{4 j_{1}} e^{- 4 j_{3}}}{e^{4}} + \\frac{2 e^{4 j_{1}} e^{- 4 j_{3}}}{e^{3}} + \\frac{2 e^{4 j_{1}} e^{- 4 j_{3}}}{e^{2}} + \\frac{2 e^{4 j_{1}} e^{- 4 j_{3}}}{e} + e^{4 j_{1}} e^{- 4 j_{3}} + 2 e e^{4 j_{1}} e^{- 4 j_{3}} + 2 e^{2} e^{4 j_{1}} e^{- 4 j_{3}} + 2 e^{3} e^{4 j_{1}} e^{- 4 j_{3}} + e^{4} e^{4 j_{1}} e^{- 4 j_{3}} - e^{4} e^{4 j_{1}} e^{- j_{2}} e^{- 3 j_{3}} - 3 e^{2} e^{4 j_{1}} e^{- j_{2}} e^{- 3 j_{3}} - e^{3} e^{4 j_{1}} e^{- j_{2}} e^{- 3 j_{3}} - 3 e^{4 j_{1}} e^{- j_{2}} e^{- 3 j_{3}} - e e^{4 j_{1}} e^{- j_{2}} e^{- 3 j_{3}} - \\frac{3 e^{4 j_{1}} e^{- j_{2}} e^{- 3 j_{3}}}{e^{2}} - \\frac{e^{4 j_{1}} e^{- j_{2}} e^{- 3 j_{3}}}{e} - \\frac{e^{4 j_{1}} e^{- j_{2}} e^{- 3 j_{3}}}{e^{3}} - \\frac{e^{4 j_{1}} e^{- j_{2}} e^{- 3 j_{3}}}{e^{4}} + \\frac{e^{4 j_{1}} e^{- 3 j_{2}} e^{- j_{3}}}{e^{2}} + e^{4 j_{1}} e^{- 3 j_{2}} e^{- j_{3}} + e^{2} e^{4 j_{1}} e^{- 3 j_{2}} e^{- j_{3}} + e^{3 j_{1}} e^{3 j_{2}} e^{- 6 j_{3}} + \\frac{e^{3 j_{1}} e^{2 j_{2}} e^{- 5 j_{3}}}{e^{3}} + \\frac{e^{3 j_{1}} e^{2 j_{2}} e^{- 5 j_{3}}}{e^{2}} + \\frac{e^{3 j_{1}} e^{2 j_{2}} e^{- 5 j_{3}}}{e} + e e^{3 j_{1}} e^{2 j_{2}} e^{- 5 j_{3}} + e^{2} e^{3 j_{1}} e^{2 j_{2}} e^{- 5 j_{3}} + e^{3} e^{3 j_{1}} e^{2 j_{2}} e^{- 5 j_{3}} - e^{4} e^{3 j_{1}} e^{j_{2}} e^{- 4 j_{3}} - 3 e^{2} e^{3 j_{1}} e^{j_{2}} e^{- 4 j_{3}} - e^{3} e^{3 j_{1}} e^{j_{2}} e^{- 4 j_{3}} - 3 e^{3 j_{1}} e^{j_{2}} e^{- 4 j_{3}} - e e^{3 j_{1}} e^{j_{2}} e^{- 4 j_{3}} - \\frac{3 e^{3 j_{1}} e^{j_{2}} e^{- 4 j_{3}}}{e^{2}} - \\frac{e^{3 j_{1}} e^{j_{2}} e^{- 4 j_{3}}}{e} - \\frac{e^{3 j_{1}} e^{j_{2}} e^{- 4 j_{3}}}{e^{3}} - \\frac{e^{3 j_{1}} e^{j_{2}} e^{- 4 j_{3}}}{e^{4}} + \\frac{e^{3 j_{1}} e^{- j_{2}} e^{- 2 j_{3}}}{e^{4}} + \\frac{e^{3 j_{1}} e^{- j_{2}} e^{- 2 j_{3}}}{e^{3}} + \\frac{e^{3 j_{1}} e^{- j_{2}} e^{- 2 j_{3}}}{e} + \\frac{3 e^{3 j_{1}} e^{- j_{2}} e^{- 2 j_{3}}}{e^{2}} + e e^{3 j_{1}} e^{- j_{2}} e^{- 2 j_{3}} + 3 e^{3 j_{1}} e^{- j_{2}} e^{- 2 j_{3}} + e^{3} e^{3 j_{1}} e^{- j_{2}} e^{- 2 j_{3}} + 3 e^{2} e^{3 j_{1}} e^{- j_{2}} e^{- 2 j_{3}} + e^{4} e^{3 j_{1}} e^{- j_{2}} e^{- 2 j_{3}} - e^{3} e^{3 j_{1}} e^{- 2 j_{2}} e^{- j_{3}} - e^{2} e^{3 j_{1}} e^{- 2 j_{2}} e^{- j_{3}} - e e^{3 j_{1}} e^{- 2 j_{2}} e^{- j_{3}} - \\frac{e^{3 j_{1}} e^{- 2 j_{2}} e^{- j_{3}}}{e} - \\frac{e^{3 j_{1}} e^{- 2 j_{2}} e^{- j_{3}}}{e^{2}} - \\frac{e^{3 j_{1}} e^{- 2 j_{2}} e^{- j_{3}}}{e^{3}} - e^{3 j_{1}} e^{- 3 j_{2}} - e^{2} e^{2 j_{1}} e^{3 j_{2}} e^{- 5 j_{3}} - e^{2 j_{1}} e^{3 j_{2}} e^{- 5 j_{3}} - \\frac{e^{2 j_{1}} e^{3 j_{2}} e^{- 5 j_{3}}}{e^{2}} + \\frac{e^{2 j_{1}} e^{j_{2}} e^{- 3 j_{3}}}{e^{4}} + \\frac{e^{2 j_{1}} e^{j_{2}} e^{- 3 j_{3}}}{e^{3}} + \\frac{e^{2 j_{1}} e^{j_{2}} e^{- 3 j_{3}}}{e} + \\frac{3 e^{2 j_{1}} e^{j_{2}} e^{- 3 j_{3}}}{e^{2}} + e e^{2 j_{1}} e^{j_{2}} e^{- 3 j_{3}} + 3 e^{2 j_{1}} e^{j_{2}} e^{- 3 j_{3}} + e^{3} e^{2 j_{1}} e^{j_{2}} e^{- 3 j_{3}} + 3 e^{2} e^{2 j_{1}} e^{j_{2}} e^{- 3 j_{3}} + e^{4} e^{2 j_{1}} e^{j_{2}} e^{- 3 j_{3}} - e^{4} e^{2 j_{1}} e^{- 2 j_{3}} - 2 e^{3} e^{2 j_{1}} e^{- 2 j_{3}} - 2 e^{2} e^{2 j_{1}} e^{- 2 j_{3}} - 2 e e^{2 j_{1}} e^{- 2 j_{3}} - e^{2 j_{1}} e^{- 2 j_{3}} - \\frac{2 e^{2 j_{1}} e^{- 2 j_{3}}}{e} - \\frac{2 e^{2 j_{1}} e^{- 2 j_{3}}}{e^{2}} - \\frac{2 e^{2 j_{1}} e^{- 2 j_{3}}}{e^{3}} - \\frac{e^{2 j_{1}} e^{- 2 j_{3}}}{e^{4}} - 2 e^{2 j_{1}} e^{- j_{2}} e^{- j_{3}} + \\frac{e^{2 j_{1}} e^{- j_{2}} e^{- j_{3}}}{e^{3}} + e^{3} e^{2 j_{1}} e^{- j_{2}} e^{- j_{3}} + \\frac{e^{2 j_{1}} e^{- 2 j_{2}}}{e} + e^{2 j_{1}} e^{- 2 j_{2}} + e e^{2 j_{1}} e^{- 2 j_{2}} + \\frac{e^{j_{1}} e^{3 j_{2}} e^{- 4 j_{3}}}{e^{2}} + e^{j_{1}} e^{3 j_{2}} e^{- 4 j_{3}} + e^{2} e^{j_{1}} e^{3 j_{2}} e^{- 4 j_{3}} - e^{3} e^{j_{1}} e^{2 j_{2}} e^{- 3 j_{3}} - e^{2} e^{j_{1}} e^{2 j_{2}} e^{- 3 j_{3}} - e e^{j_{1}} e^{2 j_{2}} e^{- 3 j_{3}} - \\frac{e^{j_{1}} e^{2 j_{2}} e^{- 3 j_{3}}}{e} - \\frac{e^{j_{1}} e^{2 j_{2}} e^{- 3 j_{3}}}{e^{2}} - \\frac{e^{j_{1}} e^{2 j_{2}} e^{- 3 j_{3}}}{e^{3}} - 2 e^{j_{1}} e^{j_{2}} e^{- 2 j_{3}} + \\frac{e^{j_{1}} e^{j_{2}} e^{- 2 j_{3}}}{e^{3}} + e^{3} e^{j_{1}} e^{j_{2}} e^{- 2 j_{3}} + \\frac{2 e^{j_{1}} e^{- j_{3}}}{e} + 2 e^{j_{1}} e^{- j_{3}} + 2 e e^{j_{1}} e^{- j_{3}} - e e^{j_{1}} e^{- j_{2}} - e^{j_{1}} e^{- j_{2}} - \\frac{e^{j_{1}} e^{- j_{2}}}{e} - e^{3 j_{2}} e^{- 3 j_{3}} + \\frac{e^{2 j_{2}} e^{- 2 j_{3}}}{e} + e^{2 j_{2}} e^{- 2 j_{3}} + e e^{2 j_{2}} e^{- 2 j_{3}} - e e^{j_{2}} e^{- j_{3}} - e^{j_{2}} e^{- j_{3}} - \\frac{e^{j_{2}} e^{- j_{3}}}{e} + 1$"
      ],
      "text/plain": [
       "-exp(6*j1)*exp(-6*j3) + exp(-1)*exp(6*j1)*exp(-j2)*exp(-5*j3) + exp(6*j1)*exp(-j2)*exp(-5*j3) + E*exp(6*j1)*exp(-j2)*exp(-5*j3) - E*exp(6*j1)*exp(-2*j2)*exp(-4*j3) - exp(6*j1)*exp(-2*j2)*exp(-4*j3) - exp(-1)*exp(6*j1)*exp(-2*j2)*exp(-4*j3) + exp(6*j1)*exp(-3*j2)*exp(-3*j3) + exp(-1)*exp(5*j1)*exp(j2)*exp(-6*j3) + exp(5*j1)*exp(j2)*exp(-6*j3) + E*exp(5*j1)*exp(j2)*exp(-6*j3) - 2*E*exp(5*j1)*exp(-5*j3) - 2*exp(5*j1)*exp(-5*j3) - 2*exp(-1)*exp(5*j1)*exp(-5*j3) - exp(3)*exp(5*j1)*exp(-j2)*exp(-4*j3) - exp(-3)*exp(5*j1)*exp(-j2)*exp(-4*j3) + 2*exp(5*j1)*exp(-j2)*exp(-4*j3) + exp(-3)*exp(5*j1)*exp(-2*j2)*exp(-3*j3) + exp(-2)*exp(5*j1)*exp(-2*j2)*exp(-3*j3) + exp(-1)*exp(5*j1)*exp(-2*j2)*exp(-3*j3) + E*exp(5*j1)*exp(-2*j2)*exp(-3*j3) + exp(2)*exp(5*j1)*exp(-2*j2)*exp(-3*j3) + exp(3)*exp(5*j1)*exp(-2*j2)*exp(-3*j3) - exp(2)*exp(5*j1)*exp(-3*j2)*exp(-2*j3) - exp(5*j1)*exp(-3*j2)*exp(-2*j3) - exp(-2)*exp(5*j1)*exp(-3*j2)*exp(-2*j3) - E*exp(4*j1)*exp(2*j2)*exp(-6*j3) - exp(4*j1)*exp(2*j2)*exp(-6*j3) - exp(-1)*exp(4*j1)*exp(2*j2)*exp(-6*j3) - exp(3)*exp(4*j1)*exp(j2)*exp(-5*j3) - exp(-3)*exp(4*j1)*exp(j2)*exp(-5*j3) + 2*exp(4*j1)*exp(j2)*exp(-5*j3) + exp(-4)*exp(4*j1)*exp(-4*j3) + 2*exp(-3)*exp(4*j1)*exp(-4*j3) + 2*exp(-2)*exp(4*j1)*exp(-4*j3) + 2*exp(-1)*exp(4*j1)*exp(-4*j3) + exp(4*j1)*exp(-4*j3) + 2*E*exp(4*j1)*exp(-4*j3) + 2*exp(2)*exp(4*j1)*exp(-4*j3) + 2*exp(3)*exp(4*j1)*exp(-4*j3) + exp(4)*exp(4*j1)*exp(-4*j3) - exp(4)*exp(4*j1)*exp(-j2)*exp(-3*j3) - 3*exp(2)*exp(4*j1)*exp(-j2)*exp(-3*j3) - exp(3)*exp(4*j1)*exp(-j2)*exp(-3*j3) - 3*exp(4*j1)*exp(-j2)*exp(-3*j3) - E*exp(4*j1)*exp(-j2)*exp(-3*j3) - 3*exp(-2)*exp(4*j1)*exp(-j2)*exp(-3*j3) - exp(-1)*exp(4*j1)*exp(-j2)*exp(-3*j3) - exp(-3)*exp(4*j1)*exp(-j2)*exp(-3*j3) - exp(-4)*exp(4*j1)*exp(-j2)*exp(-3*j3) + exp(-2)*exp(4*j1)*exp(-3*j2)*exp(-j3) + exp(4*j1)*exp(-3*j2)*exp(-j3) + exp(2)*exp(4*j1)*exp(-3*j2)*exp(-j3) + exp(3*j1)*exp(3*j2)*exp(-6*j3) + exp(-3)*exp(3*j1)*exp(2*j2)*exp(-5*j3) + exp(-2)*exp(3*j1)*exp(2*j2)*exp(-5*j3) + exp(-1)*exp(3*j1)*exp(2*j2)*exp(-5*j3) + E*exp(3*j1)*exp(2*j2)*exp(-5*j3) + exp(2)*exp(3*j1)*exp(2*j2)*exp(-5*j3) + exp(3)*exp(3*j1)*exp(2*j2)*exp(-5*j3) - exp(4)*exp(3*j1)*exp(j2)*exp(-4*j3) - 3*exp(2)*exp(3*j1)*exp(j2)*exp(-4*j3) - exp(3)*exp(3*j1)*exp(j2)*exp(-4*j3) - 3*exp(3*j1)*exp(j2)*exp(-4*j3) - E*exp(3*j1)*exp(j2)*exp(-4*j3) - 3*exp(-2)*exp(3*j1)*exp(j2)*exp(-4*j3) - exp(-1)*exp(3*j1)*exp(j2)*exp(-4*j3) - exp(-3)*exp(3*j1)*exp(j2)*exp(-4*j3) - exp(-4)*exp(3*j1)*exp(j2)*exp(-4*j3) + exp(-4)*exp(3*j1)*exp(-j2)*exp(-2*j3) + exp(-3)*exp(3*j1)*exp(-j2)*exp(-2*j3) + exp(-1)*exp(3*j1)*exp(-j2)*exp(-2*j3) + 3*exp(-2)*exp(3*j1)*exp(-j2)*exp(-2*j3) + E*exp(3*j1)*exp(-j2)*exp(-2*j3) + 3*exp(3*j1)*exp(-j2)*exp(-2*j3) + exp(3)*exp(3*j1)*exp(-j2)*exp(-2*j3) + 3*exp(2)*exp(3*j1)*exp(-j2)*exp(-2*j3) + exp(4)*exp(3*j1)*exp(-j2)*exp(-2*j3) - exp(3)*exp(3*j1)*exp(-2*j2)*exp(-j3) - exp(2)*exp(3*j1)*exp(-2*j2)*exp(-j3) - E*exp(3*j1)*exp(-2*j2)*exp(-j3) - exp(-1)*exp(3*j1)*exp(-2*j2)*exp(-j3) - exp(-2)*exp(3*j1)*exp(-2*j2)*exp(-j3) - exp(-3)*exp(3*j1)*exp(-2*j2)*exp(-j3) - exp(3*j1)*exp(-3*j2) - exp(2)*exp(2*j1)*exp(3*j2)*exp(-5*j3) - exp(2*j1)*exp(3*j2)*exp(-5*j3) - exp(-2)*exp(2*j1)*exp(3*j2)*exp(-5*j3) + exp(-4)*exp(2*j1)*exp(j2)*exp(-3*j3) + exp(-3)*exp(2*j1)*exp(j2)*exp(-3*j3) + exp(-1)*exp(2*j1)*exp(j2)*exp(-3*j3) + 3*exp(-2)*exp(2*j1)*exp(j2)*exp(-3*j3) + E*exp(2*j1)*exp(j2)*exp(-3*j3) + 3*exp(2*j1)*exp(j2)*exp(-3*j3) + exp(3)*exp(2*j1)*exp(j2)*exp(-3*j3) + 3*exp(2)*exp(2*j1)*exp(j2)*exp(-3*j3) + exp(4)*exp(2*j1)*exp(j2)*exp(-3*j3) - exp(4)*exp(2*j1)*exp(-2*j3) - 2*exp(3)*exp(2*j1)*exp(-2*j3) - 2*exp(2)*exp(2*j1)*exp(-2*j3) - 2*E*exp(2*j1)*exp(-2*j3) - exp(2*j1)*exp(-2*j3) - 2*exp(-1)*exp(2*j1)*exp(-2*j3) - 2*exp(-2)*exp(2*j1)*exp(-2*j3) - 2*exp(-3)*exp(2*j1)*exp(-2*j3) - exp(-4)*exp(2*j1)*exp(-2*j3) - 2*exp(2*j1)*exp(-j2)*exp(-j3) + exp(-3)*exp(2*j1)*exp(-j2)*exp(-j3) + exp(3)*exp(2*j1)*exp(-j2)*exp(-j3) + exp(-1)*exp(2*j1)*exp(-2*j2) + exp(2*j1)*exp(-2*j2) + E*exp(2*j1)*exp(-2*j2) + exp(-2)*exp(j1)*exp(3*j2)*exp(-4*j3) + exp(j1)*exp(3*j2)*exp(-4*j3) + exp(2)*exp(j1)*exp(3*j2)*exp(-4*j3) - exp(3)*exp(j1)*exp(2*j2)*exp(-3*j3) - exp(2)*exp(j1)*exp(2*j2)*exp(-3*j3) - E*exp(j1)*exp(2*j2)*exp(-3*j3) - exp(-1)*exp(j1)*exp(2*j2)*exp(-3*j3) - exp(-2)*exp(j1)*exp(2*j2)*exp(-3*j3) - exp(-3)*exp(j1)*exp(2*j2)*exp(-3*j3) - 2*exp(j1)*exp(j2)*exp(-2*j3) + exp(-3)*exp(j1)*exp(j2)*exp(-2*j3) + exp(3)*exp(j1)*exp(j2)*exp(-2*j3) + 2*exp(-1)*exp(j1)*exp(-j3) + 2*exp(j1)*exp(-j3) + 2*E*exp(j1)*exp(-j3) - E*exp(j1)*exp(-j2) - exp(j1)*exp(-j2) - exp(-1)*exp(j1)*exp(-j2) - exp(3*j2)*exp(-3*j3) + exp(-1)*exp(2*j2)*exp(-2*j3) + exp(2*j2)*exp(-2*j3) + E*exp(2*j2)*exp(-2*j3) - E*exp(j2)*exp(-j3) - exp(j2)*exp(-j3) - exp(-1)*exp(j2)*exp(-j3) + 1"
      ]
     },
     "metadata": {},
     "output_type": "display_data"
    }
   ],
   "source": [
    "a = sp.Symbol(\"a\")\n",
    "for N in range(1,4):\n",
    "    v = [None] + [sp.Symbol(f\"j{i}\") for i in range(1,N+1)]\n",
    "    expression = sp.S(1)\n",
    "    \n",
    "    for k in range(1,N):\n",
    "        for l in range(k+1,N+1):\n",
    "            expression *= (1 - sp.exp(v[k] - v[l])) * (1 - sp.exp(v[k] - v[l] - k + l)) * (1 - sp.exp(v[k] - v[l] + k - l))\n",
    "    \n",
    "    print(\"-\"*100)\n",
    "    display(sp.expand(expression))"
   ]
  },
  {
   "cell_type": "markdown",
   "id": "1fb48e4d",
   "metadata": {},
   "source": [
    "### Test for possible solver"
   ]
  },
  {
   "cell_type": "code",
   "execution_count": 69,
   "id": "1b96b4eb",
   "metadata": {},
   "outputs": [],
   "source": [
    "import itertools"
   ]
  },
  {
   "cell_type": "code",
   "execution_count": 71,
   "id": "91457bf7",
   "metadata": {
    "scrolled": false
   },
   "outputs": [
    {
     "data": {
      "text/plain": [
       "[(0, 0),\n",
       " (0, 1),\n",
       " (0, 2),\n",
       " (0, 3),\n",
       " (1, 0),\n",
       " (1, 1),\n",
       " (1, 2),\n",
       " (1, 3),\n",
       " (2, 0),\n",
       " (2, 1),\n",
       " (2, 2),\n",
       " (2, 3),\n",
       " (3, 0),\n",
       " (3, 1),\n",
       " (3, 2),\n",
       " (3, 3)]"
      ]
     },
     "execution_count": 71,
     "metadata": {},
     "output_type": "execute_result"
    }
   ],
   "source": [
    "n = 4\n",
    "two_sum = list(itertools.product(*[range(n) for _ in range(2)]))\n",
    "two_sum"
   ]
  },
  {
   "cell_type": "code",
   "execution_count": 73,
   "id": "a021bc8b",
   "metadata": {},
   "outputs": [
    {
     "data": {
      "text/plain": [
       "378"
      ]
     },
     "execution_count": 73,
     "metadata": {},
     "output_type": "execute_result"
    }
   ],
   "source": [
    "14*27"
   ]
  },
  {
   "cell_type": "markdown",
   "id": "041ad61a",
   "metadata": {},
   "source": [
    "### Closed form $Q_k(N)$"
   ]
  },
  {
   "cell_type": "code",
   "execution_count": 76,
   "id": "74c73441",
   "metadata": {},
   "outputs": [],
   "source": [
    "import sympy as sp\n",
    "import itertools"
   ]
  },
  {
   "cell_type": "code",
   "execution_count": 77,
   "id": "64bb4b4e",
   "metadata": {},
   "outputs": [],
   "source": [
    "def stirling_first_kind(n, k):\n",
    "    # Base cases\n",
    "    if n == k == 0:\n",
    "        return 1\n",
    "    if n == 0 or k == 0 or k > n:\n",
    "        return 0\n",
    "    return stirling_first_kind(n-1, k-1) - (n-1) * stirling_first_kind(n-1, k)"
   ]
  },
  {
   "cell_type": "code",
   "execution_count": 78,
   "id": "6174f36d",
   "metadata": {},
   "outputs": [],
   "source": [
    "delta = lambda a,b: int(a == b)"
   ]
  },
  {
   "cell_type": "code",
   "execution_count": 103,
   "id": "7f9e0db6",
   "metadata": {},
   "outputs": [
    {
     "data": {
      "text/plain": [
       "120"
      ]
     },
     "execution_count": 103,
     "metadata": {},
     "output_type": "execute_result"
    }
   ],
   "source": [
    "factorial = lambda n: 1 if n <= 1 else n * factorial(n-1)\n",
    "factorial(5)"
   ]
  },
  {
   "cell_type": "code",
   "execution_count": 108,
   "id": "1e2623f9",
   "metadata": {},
   "outputs": [
    {
     "data": {
      "text/plain": [
       "(36.0, 36, 340.0, 340, 1024.0, 1024, 982.0, 982)"
      ]
     },
     "execution_count": 108,
     "metadata": {},
     "output_type": "execute_result"
    }
   ],
   "source": [
    "def Qnk(n, k):\n",
    "    two_sum = list(itertools.product(*[range(1,n+1) for _ in range(2)]))\n",
    "    total_sum = list(itertools.product(*[two_sum for _ in range(k)]))\n",
    "    \n",
    "    count = 0\n",
    "    for combi in total_sum:\n",
    "        # combi[a][0] = i_{a}, combi[a][1] = j_a\n",
    "        count += delta(0, sum(\n",
    "            sum(\n",
    "                delta(combi[l-1][0], combi[m-1][0]) + delta(combi[l-1][1], combi[m-1][1]) + delta(combi[l-1][0] - combi[l-1][1], combi[m-1][0] - combi[m-1][1]) + delta(combi[l-1][0] + combi[l-1][1], combi[m-1][0] + combi[m-1][1]) \n",
    "                    for m in range(l + 1, k+1)\n",
    "                ) \n",
    "                for l in range(1,k)\n",
    "            )\n",
    "        )\n",
    "        \n",
    "    return count/factorial(k)\n",
    "\n",
    "# Takes a little time\n",
    "Qnk(6,1), N_k_Queen(6, 1).solve(), Qnk(6,2), N_k_Queen(6, 2).solve(), Qnk(6,3), N_k_Queen(6, 3).solve(), Qnk(6,4), N_k_Queen(6, 4).solve()"
   ]
  },
  {
   "cell_type": "code",
   "execution_count": 121,
   "id": "258d57da",
   "metadata": {},
   "outputs": [
    {
     "data": {
      "text/plain": [
       "(16.0, 16, 44.0, 44, 24.0, 24)"
      ]
     },
     "execution_count": 121,
     "metadata": {},
     "output_type": "execute_result"
    }
   ],
   "source": [
    "def Qnk_2(n, k):\n",
    "    two_sum = list(itertools.product(*[range(1,n+1) for _ in range(2)]))\n",
    "    total_sum = list(itertools.product(*[two_sum for _ in range(k)]))\n",
    "    \n",
    "    count = 0\n",
    "    for combi in total_sum:\n",
    "        # combi[a][0] = i_{a}, combi[a][1] = j_a\n",
    "        count += sum(stirling_first_kind(4*n+1, s+1) * (sum(\n",
    "            sum(\n",
    "                delta(combi[l-1][0], combi[m-1][0]) + delta(combi[l-1][1], combi[m-1][1]) + delta(combi[l-1][0] - combi[l-1][1], combi[m-1][0] - combi[m-1][1]) + delta(combi[l-1][0] + combi[l-1][1], combi[m-1][0] + combi[m-1][1]) \n",
    "                    for m in range(l + 1, k+1)\n",
    "                ) \n",
    "                for l in range(1,k)\n",
    "            ))**s for s in range(4*n+1)\n",
    "        )\n",
    "        \n",
    "    return count / factorial(k) * 1/factorial(4*n)\n",
    "\n",
    "# Takes a little time\n",
    "Qnk_2(4,1), N_k_Queen(4, 1).solve(), Qnk_2(4,2), N_k_Queen(4, 2).solve(), Qnk_2(4,3), N_k_Queen(4, 3).solve()"
   ]
  },
  {
   "cell_type": "markdown",
   "id": "af33512a",
   "metadata": {},
   "source": [
    "### Exploration"
   ]
  },
  {
   "cell_type": "code",
   "execution_count": 3,
   "id": "397348a8",
   "metadata": {},
   "outputs": [],
   "source": [
    "import sympy as sp\n",
    "from IPython.display import display\n",
    "a,b,c,d = sp.symbols(\"a b c d\")"
   ]
  },
  {
   "cell_type": "code",
   "execution_count": 8,
   "id": "41e36747",
   "metadata": {
    "scrolled": true
   },
   "outputs": [
    {
     "name": "stdout",
     "output_type": "stream",
     "text": [
      "----------------------------------------------------------------------------------------------------\n",
      "0\n"
     ]
    },
    {
     "data": {
      "text/latex": [
       "$\\displaystyle 4$"
      ],
      "text/plain": [
       "4"
      ]
     },
     "metadata": {},
     "output_type": "display_data"
    },
    {
     "name": "stdout",
     "output_type": "stream",
     "text": [
      "----------------------------------------------------------------------------------------------------\n",
      "1\n"
     ]
    },
    {
     "data": {
      "text/latex": [
       "$\\displaystyle 3 a - 3 b + c - d$"
      ],
      "text/plain": [
       "3*a - 3*b + c - d"
      ]
     },
     "metadata": {},
     "output_type": "display_data"
    },
    {
     "name": "stdout",
     "output_type": "stream",
     "text": [
      "----------------------------------------------------------------------------------------------------\n",
      "2\n"
     ]
    },
    {
     "data": {
      "text/latex": [
       "$\\displaystyle 3 a^{2} - 6 a b + 3 b^{2} + 3 c^{2} - 6 c d + 3 d^{2}$"
      ],
      "text/plain": [
       "3*a**2 - 6*a*b + 3*b**2 + 3*c**2 - 6*c*d + 3*d**2"
      ]
     },
     "metadata": {},
     "output_type": "display_data"
    },
    {
     "name": "stdout",
     "output_type": "stream",
     "text": [
      "----------------------------------------------------------------------------------------------------\n",
      "3\n"
     ]
    },
    {
     "data": {
      "text/latex": [
       "$\\displaystyle 3 a^{3} - 9 a^{2} b + 9 a b^{2} + 6 a c^{2} - 12 a c d + 6 a d^{2} - 3 b^{3} - 6 b c^{2} + 12 b c d - 6 b d^{2} + c^{3} - 3 c^{2} d + 3 c d^{2} - d^{3}$"
      ],
      "text/plain": [
       "3*a**3 - 9*a**2*b + 9*a*b**2 + 6*a*c**2 - 12*a*c*d + 6*a*d**2 - 3*b**3 - 6*b*c**2 + 12*b*c*d - 6*b*d**2 + c**3 - 3*c**2*d + 3*c*d**2 - d**3"
      ]
     },
     "metadata": {},
     "output_type": "display_data"
    },
    {
     "name": "stdout",
     "output_type": "stream",
     "text": [
      "----------------------------------------------------------------------------------------------------\n",
      "4\n"
     ]
    },
    {
     "data": {
      "text/latex": [
       "$\\displaystyle 3 a^{4} - 12 a^{3} b + 18 a^{2} b^{2} + 12 a^{2} c^{2} - 24 a^{2} c d + 12 a^{2} d^{2} - 12 a b^{3} - 24 a b c^{2} + 48 a b c d - 24 a b d^{2} + 3 b^{4} + 12 b^{2} c^{2} - 24 b^{2} c d + 12 b^{2} d^{2} + 3 c^{4} - 12 c^{3} d + 18 c^{2} d^{2} - 12 c d^{3} + 3 d^{4}$"
      ],
      "text/plain": [
       "3*a**4 - 12*a**3*b + 18*a**2*b**2 + 12*a**2*c**2 - 24*a**2*c*d + 12*a**2*d**2 - 12*a*b**3 - 24*a*b*c**2 + 48*a*b*c*d - 24*a*b*d**2 + 3*b**4 + 12*b**2*c**2 - 24*b**2*c*d + 12*b**2*d**2 + 3*c**4 - 12*c**3*d + 18*c**2*d**2 - 12*c*d**3 + 3*d**4"
      ]
     },
     "metadata": {},
     "output_type": "display_data"
    },
    {
     "name": "stdout",
     "output_type": "stream",
     "text": [
      "----------------------------------------------------------------------------------------------------\n",
      "5\n"
     ]
    },
    {
     "data": {
      "text/latex": [
       "$\\displaystyle 3 a^{5} - 15 a^{4} b + 30 a^{3} b^{2} + 20 a^{3} c^{2} - 40 a^{3} c d + 20 a^{3} d^{2} - 30 a^{2} b^{3} - 60 a^{2} b c^{2} + 120 a^{2} b c d - 60 a^{2} b d^{2} + 15 a b^{4} + 60 a b^{2} c^{2} - 120 a b^{2} c d + 60 a b^{2} d^{2} + 10 a c^{4} - 40 a c^{3} d + 60 a c^{2} d^{2} - 40 a c d^{3} + 10 a d^{4} - 3 b^{5} - 20 b^{3} c^{2} + 40 b^{3} c d - 20 b^{3} d^{2} - 10 b c^{4} + 40 b c^{3} d - 60 b c^{2} d^{2} + 40 b c d^{3} - 10 b d^{4} + c^{5} - 5 c^{4} d + 10 c^{3} d^{2} - 10 c^{2} d^{3} + 5 c d^{4} - d^{5}$"
      ],
      "text/plain": [
       "3*a**5 - 15*a**4*b + 30*a**3*b**2 + 20*a**3*c**2 - 40*a**3*c*d + 20*a**3*d**2 - 30*a**2*b**3 - 60*a**2*b*c**2 + 120*a**2*b*c*d - 60*a**2*b*d**2 + 15*a*b**4 + 60*a*b**2*c**2 - 120*a*b**2*c*d + 60*a*b**2*d**2 + 10*a*c**4 - 40*a*c**3*d + 60*a*c**2*d**2 - 40*a*c*d**3 + 10*a*d**4 - 3*b**5 - 20*b**3*c**2 + 40*b**3*c*d - 20*b**3*d**2 - 10*b*c**4 + 40*b*c**3*d - 60*b*c**2*d**2 + 40*b*c*d**3 - 10*b*d**4 + c**5 - 5*c**4*d + 10*c**3*d**2 - 10*c**2*d**3 + 5*c*d**4 - d**5"
      ]
     },
     "metadata": {},
     "output_type": "display_data"
    },
    {
     "name": "stdout",
     "output_type": "stream",
     "text": [
      "----------------------------------------------------------------------------------------------------\n",
      "6\n"
     ]
    },
    {
     "data": {
      "text/latex": [
       "$\\displaystyle 3 a^{6} - 18 a^{5} b + 45 a^{4} b^{2} + 30 a^{4} c^{2} - 60 a^{4} c d + 30 a^{4} d^{2} - 60 a^{3} b^{3} - 120 a^{3} b c^{2} + 240 a^{3} b c d - 120 a^{3} b d^{2} + 45 a^{2} b^{4} + 180 a^{2} b^{2} c^{2} - 360 a^{2} b^{2} c d + 180 a^{2} b^{2} d^{2} + 30 a^{2} c^{4} - 120 a^{2} c^{3} d + 180 a^{2} c^{2} d^{2} - 120 a^{2} c d^{3} + 30 a^{2} d^{4} - 18 a b^{5} - 120 a b^{3} c^{2} + 240 a b^{3} c d - 120 a b^{3} d^{2} - 60 a b c^{4} + 240 a b c^{3} d - 360 a b c^{2} d^{2} + 240 a b c d^{3} - 60 a b d^{4} + 3 b^{6} + 30 b^{4} c^{2} - 60 b^{4} c d + 30 b^{4} d^{2} + 30 b^{2} c^{4} - 120 b^{2} c^{3} d + 180 b^{2} c^{2} d^{2} - 120 b^{2} c d^{3} + 30 b^{2} d^{4} + 3 c^{6} - 18 c^{5} d + 45 c^{4} d^{2} - 60 c^{3} d^{3} + 45 c^{2} d^{4} - 18 c d^{5} + 3 d^{6}$"
      ],
      "text/plain": [
       "3*a**6 - 18*a**5*b + 45*a**4*b**2 + 30*a**4*c**2 - 60*a**4*c*d + 30*a**4*d**2 - 60*a**3*b**3 - 120*a**3*b*c**2 + 240*a**3*b*c*d - 120*a**3*b*d**2 + 45*a**2*b**4 + 180*a**2*b**2*c**2 - 360*a**2*b**2*c*d + 180*a**2*b**2*d**2 + 30*a**2*c**4 - 120*a**2*c**3*d + 180*a**2*c**2*d**2 - 120*a**2*c*d**3 + 30*a**2*d**4 - 18*a*b**5 - 120*a*b**3*c**2 + 240*a*b**3*c*d - 120*a*b**3*d**2 - 60*a*b*c**4 + 240*a*b*c**3*d - 360*a*b*c**2*d**2 + 240*a*b*c*d**3 - 60*a*b*d**4 + 3*b**6 + 30*b**4*c**2 - 60*b**4*c*d + 30*b**4*d**2 + 30*b**2*c**4 - 120*b**2*c**3*d + 180*b**2*c**2*d**2 - 120*b**2*c*d**3 + 30*b**2*d**4 + 3*c**6 - 18*c**5*d + 45*c**4*d**2 - 60*c**3*d**3 + 45*c**2*d**4 - 18*c*d**5 + 3*d**6"
      ]
     },
     "metadata": {},
     "output_type": "display_data"
    },
    {
     "name": "stdout",
     "output_type": "stream",
     "text": [
      "----------------------------------------------------------------------------------------------------\n",
      "7\n"
     ]
    },
    {
     "data": {
      "text/latex": [
       "$\\displaystyle 3 a^{7} - 21 a^{6} b + 63 a^{5} b^{2} + 42 a^{5} c^{2} - 84 a^{5} c d + 42 a^{5} d^{2} - 105 a^{4} b^{3} - 210 a^{4} b c^{2} + 420 a^{4} b c d - 210 a^{4} b d^{2} + 105 a^{3} b^{4} + 420 a^{3} b^{2} c^{2} - 840 a^{3} b^{2} c d + 420 a^{3} b^{2} d^{2} + 70 a^{3} c^{4} - 280 a^{3} c^{3} d + 420 a^{3} c^{2} d^{2} - 280 a^{3} c d^{3} + 70 a^{3} d^{4} - 63 a^{2} b^{5} - 420 a^{2} b^{3} c^{2} + 840 a^{2} b^{3} c d - 420 a^{2} b^{3} d^{2} - 210 a^{2} b c^{4} + 840 a^{2} b c^{3} d - 1260 a^{2} b c^{2} d^{2} + 840 a^{2} b c d^{3} - 210 a^{2} b d^{4} + 21 a b^{6} + 210 a b^{4} c^{2} - 420 a b^{4} c d + 210 a b^{4} d^{2} + 210 a b^{2} c^{4} - 840 a b^{2} c^{3} d + 1260 a b^{2} c^{2} d^{2} - 840 a b^{2} c d^{3} + 210 a b^{2} d^{4} + 14 a c^{6} - 84 a c^{5} d + 210 a c^{4} d^{2} - 280 a c^{3} d^{3} + 210 a c^{2} d^{4} - 84 a c d^{5} + 14 a d^{6} - 3 b^{7} - 42 b^{5} c^{2} + 84 b^{5} c d - 42 b^{5} d^{2} - 70 b^{3} c^{4} + 280 b^{3} c^{3} d - 420 b^{3} c^{2} d^{2} + 280 b^{3} c d^{3} - 70 b^{3} d^{4} - 14 b c^{6} + 84 b c^{5} d - 210 b c^{4} d^{2} + 280 b c^{3} d^{3} - 210 b c^{2} d^{4} + 84 b c d^{5} - 14 b d^{6} + c^{7} - 7 c^{6} d + 21 c^{5} d^{2} - 35 c^{4} d^{3} + 35 c^{3} d^{4} - 21 c^{2} d^{5} + 7 c d^{6} - d^{7}$"
      ],
      "text/plain": [
       "3*a**7 - 21*a**6*b + 63*a**5*b**2 + 42*a**5*c**2 - 84*a**5*c*d + 42*a**5*d**2 - 105*a**4*b**3 - 210*a**4*b*c**2 + 420*a**4*b*c*d - 210*a**4*b*d**2 + 105*a**3*b**4 + 420*a**3*b**2*c**2 - 840*a**3*b**2*c*d + 420*a**3*b**2*d**2 + 70*a**3*c**4 - 280*a**3*c**3*d + 420*a**3*c**2*d**2 - 280*a**3*c*d**3 + 70*a**3*d**4 - 63*a**2*b**5 - 420*a**2*b**3*c**2 + 840*a**2*b**3*c*d - 420*a**2*b**3*d**2 - 210*a**2*b*c**4 + 840*a**2*b*c**3*d - 1260*a**2*b*c**2*d**2 + 840*a**2*b*c*d**3 - 210*a**2*b*d**4 + 21*a*b**6 + 210*a*b**4*c**2 - 420*a*b**4*c*d + 210*a*b**4*d**2 + 210*a*b**2*c**4 - 840*a*b**2*c**3*d + 1260*a*b**2*c**2*d**2 - 840*a*b**2*c*d**3 + 210*a*b**2*d**4 + 14*a*c**6 - 84*a*c**5*d + 210*a*c**4*d**2 - 280*a*c**3*d**3 + 210*a*c**2*d**4 - 84*a*c*d**5 + 14*a*d**6 - 3*b**7 - 42*b**5*c**2 + 84*b**5*c*d - 42*b**5*d**2 - 70*b**3*c**4 + 280*b**3*c**3*d - 420*b**3*c**2*d**2 + 280*b**3*c*d**3 - 70*b**3*d**4 - 14*b*c**6 + 84*b*c**5*d - 210*b*c**4*d**2 + 280*b*c**3*d**3 - 210*b*c**2*d**4 + 84*b*c*d**5 - 14*b*d**6 + c**7 - 7*c**6*d + 21*c**5*d**2 - 35*c**4*d**3 + 35*c**3*d**4 - 21*c**2*d**5 + 7*c*d**6 - d**7"
      ]
     },
     "metadata": {},
     "output_type": "display_data"
    },
    {
     "name": "stdout",
     "output_type": "stream",
     "text": [
      "----------------------------------------------------------------------------------------------------\n",
      "8\n"
     ]
    },
    {
     "data": {
      "text/latex": [
       "$\\displaystyle 3 a^{8} - 24 a^{7} b + 84 a^{6} b^{2} + 56 a^{6} c^{2} - 112 a^{6} c d + 56 a^{6} d^{2} - 168 a^{5} b^{3} - 336 a^{5} b c^{2} + 672 a^{5} b c d - 336 a^{5} b d^{2} + 210 a^{4} b^{4} + 840 a^{4} b^{2} c^{2} - 1680 a^{4} b^{2} c d + 840 a^{4} b^{2} d^{2} + 140 a^{4} c^{4} - 560 a^{4} c^{3} d + 840 a^{4} c^{2} d^{2} - 560 a^{4} c d^{3} + 140 a^{4} d^{4} - 168 a^{3} b^{5} - 1120 a^{3} b^{3} c^{2} + 2240 a^{3} b^{3} c d - 1120 a^{3} b^{3} d^{2} - 560 a^{3} b c^{4} + 2240 a^{3} b c^{3} d - 3360 a^{3} b c^{2} d^{2} + 2240 a^{3} b c d^{3} - 560 a^{3} b d^{4} + 84 a^{2} b^{6} + 840 a^{2} b^{4} c^{2} - 1680 a^{2} b^{4} c d + 840 a^{2} b^{4} d^{2} + 840 a^{2} b^{2} c^{4} - 3360 a^{2} b^{2} c^{3} d + 5040 a^{2} b^{2} c^{2} d^{2} - 3360 a^{2} b^{2} c d^{3} + 840 a^{2} b^{2} d^{4} + 56 a^{2} c^{6} - 336 a^{2} c^{5} d + 840 a^{2} c^{4} d^{2} - 1120 a^{2} c^{3} d^{3} + 840 a^{2} c^{2} d^{4} - 336 a^{2} c d^{5} + 56 a^{2} d^{6} - 24 a b^{7} - 336 a b^{5} c^{2} + 672 a b^{5} c d - 336 a b^{5} d^{2} - 560 a b^{3} c^{4} + 2240 a b^{3} c^{3} d - 3360 a b^{3} c^{2} d^{2} + 2240 a b^{3} c d^{3} - 560 a b^{3} d^{4} - 112 a b c^{6} + 672 a b c^{5} d - 1680 a b c^{4} d^{2} + 2240 a b c^{3} d^{3} - 1680 a b c^{2} d^{4} + 672 a b c d^{5} - 112 a b d^{6} + 3 b^{8} + 56 b^{6} c^{2} - 112 b^{6} c d + 56 b^{6} d^{2} + 140 b^{4} c^{4} - 560 b^{4} c^{3} d + 840 b^{4} c^{2} d^{2} - 560 b^{4} c d^{3} + 140 b^{4} d^{4} + 56 b^{2} c^{6} - 336 b^{2} c^{5} d + 840 b^{2} c^{4} d^{2} - 1120 b^{2} c^{3} d^{3} + 840 b^{2} c^{2} d^{4} - 336 b^{2} c d^{5} + 56 b^{2} d^{6} + 3 c^{8} - 24 c^{7} d + 84 c^{6} d^{2} - 168 c^{5} d^{3} + 210 c^{4} d^{4} - 168 c^{3} d^{5} + 84 c^{2} d^{6} - 24 c d^{7} + 3 d^{8}$"
      ],
      "text/plain": [
       "3*a**8 - 24*a**7*b + 84*a**6*b**2 + 56*a**6*c**2 - 112*a**6*c*d + 56*a**6*d**2 - 168*a**5*b**3 - 336*a**5*b*c**2 + 672*a**5*b*c*d - 336*a**5*b*d**2 + 210*a**4*b**4 + 840*a**4*b**2*c**2 - 1680*a**4*b**2*c*d + 840*a**4*b**2*d**2 + 140*a**4*c**4 - 560*a**4*c**3*d + 840*a**4*c**2*d**2 - 560*a**4*c*d**3 + 140*a**4*d**4 - 168*a**3*b**5 - 1120*a**3*b**3*c**2 + 2240*a**3*b**3*c*d - 1120*a**3*b**3*d**2 - 560*a**3*b*c**4 + 2240*a**3*b*c**3*d - 3360*a**3*b*c**2*d**2 + 2240*a**3*b*c*d**3 - 560*a**3*b*d**4 + 84*a**2*b**6 + 840*a**2*b**4*c**2 - 1680*a**2*b**4*c*d + 840*a**2*b**4*d**2 + 840*a**2*b**2*c**4 - 3360*a**2*b**2*c**3*d + 5040*a**2*b**2*c**2*d**2 - 3360*a**2*b**2*c*d**3 + 840*a**2*b**2*d**4 + 56*a**2*c**6 - 336*a**2*c**5*d + 840*a**2*c**4*d**2 - 1120*a**2*c**3*d**3 + 840*a**2*c**2*d**4 - 336*a**2*c*d**5 + 56*a**2*d**6 - 24*a*b**7 - 336*a*b**5*c**2 + 672*a*b**5*c*d - 336*a*b**5*d**2 - 560*a*b**3*c**4 + 2240*a*b**3*c**3*d - 3360*a*b**3*c**2*d**2 + 2240*a*b**3*c*d**3 - 560*a*b**3*d**4 - 112*a*b*c**6 + 672*a*b*c**5*d - 1680*a*b*c**4*d**2 + 2240*a*b*c**3*d**3 - 1680*a*b*c**2*d**4 + 672*a*b*c*d**5 - 112*a*b*d**6 + 3*b**8 + 56*b**6*c**2 - 112*b**6*c*d + 56*b**6*d**2 + 140*b**4*c**4 - 560*b**4*c**3*d + 840*b**4*c**2*d**2 - 560*b**4*c*d**3 + 140*b**4*d**4 + 56*b**2*c**6 - 336*b**2*c**5*d + 840*b**2*c**4*d**2 - 1120*b**2*c**3*d**3 + 840*b**2*c**2*d**4 - 336*b**2*c*d**5 + 56*b**2*d**6 + 3*c**8 - 24*c**7*d + 84*c**6*d**2 - 168*c**5*d**3 + 210*c**4*d**4 - 168*c**3*d**5 + 84*c**2*d**6 - 24*c*d**7 + 3*d**8"
      ]
     },
     "metadata": {},
     "output_type": "display_data"
    }
   ],
   "source": [
    "for t in range(9):\n",
    "    print(\"-\"*100)\n",
    "    print(t)\n",
    "    display(\n",
    "        sp.expand(\n",
    "            (a - b)**t + (c - d)**t + (a - b - c + d)**t + (a - b + c - d)**t\n",
    "        )\n",
    "    )"
   ]
  },
  {
   "cell_type": "markdown",
   "id": "94f2bdd7",
   "metadata": {},
   "source": [
    "### Exploration"
   ]
  },
  {
   "cell_type": "code",
   "execution_count": null,
   "id": "d22b140c",
   "metadata": {},
   "outputs": [],
   "source": []
  },
  {
   "cell_type": "code",
   "execution_count": null,
   "id": "e9ad4a18",
   "metadata": {},
   "outputs": [],
   "source": []
  },
  {
   "cell_type": "code",
   "execution_count": null,
   "id": "4719268a",
   "metadata": {},
   "outputs": [],
   "source": []
  },
  {
   "cell_type": "code",
   "execution_count": null,
   "id": "87d8a6c4",
   "metadata": {},
   "outputs": [],
   "source": []
  },
  {
   "cell_type": "code",
   "execution_count": null,
   "id": "b6ed7d33",
   "metadata": {},
   "outputs": [],
   "source": []
  },
  {
   "cell_type": "code",
   "execution_count": null,
   "id": "e9b15d0d",
   "metadata": {},
   "outputs": [],
   "source": []
  },
  {
   "cell_type": "code",
   "execution_count": null,
   "id": "cd83a2af",
   "metadata": {},
   "outputs": [],
   "source": []
  },
  {
   "cell_type": "code",
   "execution_count": null,
   "id": "b959ad94",
   "metadata": {},
   "outputs": [],
   "source": []
  },
  {
   "cell_type": "code",
   "execution_count": null,
   "id": "b8383014",
   "metadata": {},
   "outputs": [],
   "source": []
  }
 ],
 "metadata": {
  "kernelspec": {
   "display_name": "Python 3 (ipykernel)",
   "language": "python",
   "name": "python3"
  },
  "language_info": {
   "codemirror_mode": {
    "name": "ipython",
    "version": 3
   },
   "file_extension": ".py",
   "mimetype": "text/x-python",
   "name": "python",
   "nbconvert_exporter": "python",
   "pygments_lexer": "ipython3",
   "version": "3.10.7"
  }
 },
 "nbformat": 4,
 "nbformat_minor": 5
}
