{
 "cells": [
  {
   "cell_type": "code",
   "execution_count": 1,
   "id": "0929b6ce",
   "metadata": {},
   "outputs": [],
   "source": [
    "import time\n",
    "import math"
   ]
  },
  {
   "cell_type": "code",
   "execution_count": 2,
   "id": "6d82fa5f",
   "metadata": {
    "scrolled": true
   },
   "outputs": [
    {
     "data": {
      "text/plain": [
       "[2, 3, 5, 7, 11, 13, 17, 19]"
      ]
     },
     "execution_count": 2,
     "metadata": {},
     "output_type": "execute_result"
    }
   ],
   "source": [
    "def get_primes(MAX):\n",
    "    is_prime = [True] * (MAX + 1)\n",
    "    for num in range(2, MAX+1):\n",
    "        if is_prime[num]:\n",
    "            for i in range(2*num, MAX+1, num):\n",
    "                is_prime[i] = False\n",
    "                \n",
    "    return [i for i in range(MAX+1) if is_prime[i] and i >= 2]\n",
    "\n",
    "get_primes(20)"
   ]
  },
  {
   "cell_type": "code",
   "execution_count": 3,
   "id": "50ba8bbd",
   "metadata": {},
   "outputs": [],
   "source": [
    "def product(l):\n",
    "    P = 1\n",
    "    for p in l:\n",
    "        P *= p\n",
    "    return p"
   ]
  },
  {
   "cell_type": "code",
   "execution_count": 4,
   "id": "b3b88013",
   "metadata": {},
   "outputs": [],
   "source": [
    "n_queen = [\n",
    "    1, 0, 0, 2, 10, 4, 40, 92, 352, 724,\n",
    "    2680, 14200, 73712, 365596, 2279184, 14772512,\n",
    "    95815104, 666090624, 4968057848, 39029188884,\n",
    "    314666222712, 2691008701644, 24233937684440, 227514171973736,\n",
    "    2207893435808352, 22317699616364044, 234907967154122528\n",
    "]"
   ]
  },
  {
   "cell_type": "code",
   "execution_count": 5,
   "id": "dc23fa4f",
   "metadata": {},
   "outputs": [],
   "source": [
    "# # Takes a while to run\n",
    "# MAX = int(math.sqrt(n_queen[-1])+1)\n",
    "# primes = set(get_primes(MAX))"
   ]
  },
  {
   "cell_type": "code",
   "execution_count": 6,
   "id": "6c428807",
   "metadata": {
    "scrolled": true
   },
   "outputs": [],
   "source": [
    "# start_time = time.time()\n",
    "# for i,num in enumerate(n_queen, start=1):\n",
    "#     print(\"-\"*100)\n",
    "#     print((i, num))\n",
    "#     factorization = []\n",
    "#     for prime in primes:\n",
    "#         if num <= 1: break\n",
    "#         while num%prime == 0:\n",
    "#             num //= prime\n",
    "#             factorization.append(prime)\n",
    "#     if num > 1:\n",
    "#         factorization.append(num)\n",
    "#     print(factorization)\n",
    "#     print(time.time() - start_time)"
   ]
  },
  {
   "cell_type": "code",
   "execution_count": 7,
   "id": "d270c858",
   "metadata": {},
   "outputs": [
    {
     "data": {
      "text/plain": [
       "(234907967154122528, 234907967154122528)"
      ]
     },
     "execution_count": 7,
     "metadata": {},
     "output_type": "execute_result"
    }
   ],
   "source": [
    "2 * 2 * 2 * 2 * 2 * 7 * 17 * 83 * 277 * 397 * 6758533, \t234907967154122528"
   ]
  },
  {
   "cell_type": "markdown",
   "id": "6f8fea76",
   "metadata": {},
   "source": [
    "| N  | Number of 2's in List |\n",
    "|----|-----------------------|\n",
    "| 1  | 0                     |\n",
    "| 2  | 0                     |\n",
    "| 3  | 0                     |\n",
    "| 4  | 1                     |\n",
    "| 5  | 1                     |\n",
    "| 6  | 2                     |\n",
    "| 7  | 3                     |\n",
    "| 8  | 2                     |\n",
    "| 9  | 5                     |\n",
    "| 10 | 2                     |\n",
    "| 11 | 3                     |\n",
    "| 12 | 3                     |\n",
    "| 13 | 4                     |\n",
    "| 14 | 2                     |\n",
    "| 15 | 4                     |\n",
    "| 16 | 5                     |\n",
    "| 17 | 6                     |\n",
    "| 18 | 7                     |\n",
    "| 19 | 3                     |\n",
    "| 20 | 2                     |\n",
    "| 21 | 3                     |\n",
    "| 22 | 2                     |\n",
    "| 23 | 3                     |\n",
    "| 24 | 3                     |\n",
    "| 25 | 5                     |\n",
    "| 26 | 2                     |\n",
    "| 27 | 5                     |"
   ]
  },
  {
   "cell_type": "markdown",
   "id": "387a018e",
   "metadata": {},
   "source": [
    "Notice the pattern: all the even's have at least two 2's in their factorization, while the odds have at least 3\n",
    "\n",
    "$N \\geq 6$\n",
    "\n",
    "Also note that there seems to be no correlation between $N$ and the number of prime factors of $Q(N)$ which is interesting."
   ]
  },
  {
   "cell_type": "code",
   "execution_count": 8,
   "id": "9cce7e4d",
   "metadata": {},
   "outputs": [
    {
     "name": "stdout",
     "output_type": "stream",
     "text": [
      "----------------------------------------------------------------------------------------------------\n",
      "1\n",
      "{}\n",
      "----------------------------------------------------------------------------------------------------\n",
      "2\n",
      "{0: 1}\n",
      "----------------------------------------------------------------------------------------------------\n",
      "3\n",
      "{0: 1}\n",
      "----------------------------------------------------------------------------------------------------\n",
      "4\n",
      "{2: 1}\n",
      "----------------------------------------------------------------------------------------------------\n",
      "5\n",
      "{2: 1, 5: 1}\n",
      "----------------------------------------------------------------------------------------------------\n",
      "6\n",
      "{2: 2}\n",
      "----------------------------------------------------------------------------------------------------\n",
      "7\n",
      "{2: 3, 5: 1}\n",
      "----------------------------------------------------------------------------------------------------\n",
      "8\n",
      "{2: 2, 23: 1}\n",
      "----------------------------------------------------------------------------------------------------\n",
      "9\n",
      "{2: 5, 11: 1}\n",
      "----------------------------------------------------------------------------------------------------\n",
      "10\n",
      "{2: 2, 181: 1}\n",
      "----------------------------------------------------------------------------------------------------\n",
      "11\n",
      "{2: 3, 5: 1, 67: 1}\n",
      "----------------------------------------------------------------------------------------------------\n",
      "12\n",
      "{2: 3, 5: 2, 71: 1}\n",
      "----------------------------------------------------------------------------------------------------\n",
      "13\n",
      "{2: 4, 17: 1, 271: 1}\n",
      "----------------------------------------------------------------------------------------------------\n",
      "14\n",
      "{2: 2, 7: 1, 11: 1, 1187: 1}\n",
      "----------------------------------------------------------------------------------------------------\n",
      "15\n",
      "{2: 4, 3: 1, 103: 1, 461: 1}\n",
      "----------------------------------------------------------------------------------------------------\n",
      "16\n",
      "{2: 5, 179: 1, 2579: 1}\n",
      "----------------------------------------------------------------------------------------------------\n",
      "17\n",
      "{2: 6, 3: 1, 7: 1, 11: 1, 6481: 1}\n",
      "----------------------------------------------------------------------------------------------------\n",
      "18\n",
      "{2: 7, 3: 1, 1734611: 1}\n",
      "----------------------------------------------------------------------------------------------------\n",
      "19\n",
      "{2: 3, 13: 2, 3674599: 1}\n",
      "----------------------------------------------------------------------------------------------------\n",
      "20\n",
      "{2: 2, 3: 1, 7: 1, 19: 1, 59: 1, 97: 1, 4273: 1}\n",
      "----------------------------------------------------------------------------------------------------\n",
      "21\n",
      "{2: 3, 3: 1, 163: 1, 80436151: 1}\n",
      "----------------------------------------------------------------------------------------------------\n",
      "22\n",
      "{2: 2, 3: 1, 563: 1, 919: 1, 433421: 1}\n",
      "----------------------------------------------------------------------------------------------------\n",
      "23\n",
      "{2: 3, 5: 1, 11: 1, 41: 1, 107: 1, 12554623: 1}\n",
      "----------------------------------------------------------------------------------------------------\n",
      "24\n",
      "{2: 3, 1215121: 1, 23404477: 1}\n",
      "----------------------------------------------------------------------------------------------------\n",
      "25\n",
      "{2: 5, 3: 1, 241: 1, 827: 1, 115394291: 1}\n",
      "----------------------------------------------------------------------------------------------------\n",
      "26\n",
      "{2: 2, 5579424904091011: 1}\n",
      "----------------------------------------------------------------------------------------------------\n",
      "27\n",
      "{2: 5, 7: 1, 17: 1, 83: 1, 277: 1, 397: 1, 6758533: 1}\n"
     ]
    }
   ],
   "source": [
    "from sympy import factorint\n",
    "\n",
    "for Nm1 in range(len(n_queen)):\n",
    "    print(\"-\"*100)\n",
    "    print(Nm1+1)\n",
    "    print(factorint(n_queen[Nm1]))"
   ]
  },
  {
   "cell_type": "code",
   "execution_count": 9,
   "id": "414f5448",
   "metadata": {},
   "outputs": [
    {
     "data": {
      "text/plain": [
       "234907967154122528"
      ]
     },
     "execution_count": 9,
     "metadata": {},
     "output_type": "execute_result"
    }
   ],
   "source": [
    "2**5 * 7 * 17 * 83 * 277 * 397 * 6758533"
   ]
  },
  {
   "cell_type": "code",
   "execution_count": 10,
   "id": "702a0093",
   "metadata": {
    "scrolled": true
   },
   "outputs": [
    {
     "data": {
      "text/plain": [
       "4.3865"
      ]
     },
     "execution_count": 10,
     "metadata": {},
     "output_type": "execute_result"
    }
   ],
   "source": [
    "import numpy as np\n",
    "from sympy import primefactors\n",
    "\n",
    "# Generate 10,000 random samples between 1 and 1e+18\n",
    "random_samples = np.random.uniform(1, 1e+18, 10000).astype(np.int64)\n",
    "\n",
    "avg_num_prime_factors = np.mean([len(primefactors(N)) for N in random_samples[:]])  # Sample to illustrate\n",
    "\n",
    "avg_num_prime_factors"
   ]
  },
  {
   "cell_type": "markdown",
   "id": "af8289fa",
   "metadata": {},
   "source": [
    "## Groupings"
   ]
  },
  {
   "cell_type": "code",
   "execution_count": 11,
   "id": "c4be84e6",
   "metadata": {},
   "outputs": [
    {
     "name": "stdout",
     "output_type": "stream",
     "text": [
      "[0, 1, 0, 0]\n",
      "[0, 0, 0, 1]\n",
      "[1, 0, 0, 0]\n",
      "[0, 0, 1, 0]\n",
      "\n",
      "\n",
      "[0, 0, 1, 0]\n",
      "[1, 0, 0, 0]\n",
      "[0, 0, 0, 1]\n",
      "[0, 1, 0, 0]\n",
      "\n",
      "\n"
     ]
    }
   ],
   "source": [
    "class NQueen:\n",
    "    def __init__(self, N):\n",
    "        self.N = N\n",
    "        self.solutions = []\n",
    "        self.board = [[0] * N for _ in range(N)]\n",
    "        \n",
    "    def solve(self):\n",
    "        self._solve()\n",
    "        return self.solutions\n",
    "        \n",
    "    def _solve(self, row=0, cols=set(), diags=set(), anti_diags=set()):\n",
    "        if row == self.N:\n",
    "            return self.solutions.append([row.copy() for row in self.board])\n",
    "        \n",
    "        for col in range(self.N):\n",
    "            if col in cols or col-row in diags or col+row in anti_diags: continue\n",
    "            cols.add(col)\n",
    "            diags.add(col-row)\n",
    "            anti_diags.add(col+row)\n",
    "            self.board[row][col] = 1\n",
    "            \n",
    "            self._solve(row+1, cols, diags, anti_diags)\n",
    "            \n",
    "            self.board[row][col] = 0\n",
    "            cols.remove(col)\n",
    "            diags.remove(col-row)\n",
    "            anti_diags.remove(col+row)\n",
    "            \n",
    "            \n",
    "solutions = NQueen(4).solve()\n",
    "for board in solutions:\n",
    "    for row in board:\n",
    "        print(row)\n",
    "    print(\"\\n\")"
   ]
  },
  {
   "cell_type": "code",
   "execution_count": 12,
   "id": "521b2308",
   "metadata": {},
   "outputs": [
    {
     "name": "stdout",
     "output_type": "stream",
     "text": [
      "[0, 1, 0, 0, 0, 0]\n",
      "[0, 0, 0, 1, 0, 0]\n",
      "[0, 0, 0, 0, 0, 1]\n",
      "[1, 0, 0, 0, 0, 0]\n",
      "[0, 0, 1, 0, 0, 0]\n",
      "[0, 0, 0, 0, 1, 0]\n",
      "\n",
      "\n",
      "[0, 0, 1, 0, 0, 0]\n",
      "[0, 0, 0, 0, 0, 1]\n",
      "[0, 1, 0, 0, 0, 0]\n",
      "[0, 0, 0, 0, 1, 0]\n",
      "[1, 0, 0, 0, 0, 0]\n",
      "[0, 0, 0, 1, 0, 0]\n",
      "\n",
      "\n",
      "[0, 0, 0, 1, 0, 0]\n",
      "[1, 0, 0, 0, 0, 0]\n",
      "[0, 0, 0, 0, 1, 0]\n",
      "[0, 1, 0, 0, 0, 0]\n",
      "[0, 0, 0, 0, 0, 1]\n",
      "[0, 0, 1, 0, 0, 0]\n",
      "\n",
      "\n",
      "[0, 0, 0, 0, 1, 0]\n",
      "[0, 0, 1, 0, 0, 0]\n",
      "[1, 0, 0, 0, 0, 0]\n",
      "[0, 0, 0, 0, 0, 1]\n",
      "[0, 0, 0, 1, 0, 0]\n",
      "[0, 1, 0, 0, 0, 0]\n",
      "\n",
      "\n"
     ]
    }
   ],
   "source": [
    "solutions = NQueen(6).solve()\n",
    "for board in solutions:\n",
    "    for row in board:\n",
    "        print(row)\n",
    "    print(\"\\n\")"
   ]
  },
  {
   "cell_type": "markdown",
   "id": "523b75a5",
   "metadata": {},
   "source": [
    "# Factoradic\n",
    "\n",
    "Note the correspondence between factoriadic numbers and inversions"
   ]
  },
  {
   "cell_type": "code",
   "execution_count": 13,
   "id": "658e2f36",
   "metadata": {
    "scrolled": false
   },
   "outputs": [
    {
     "data": {
      "text/plain": [
       "[1, 0, 0, 2, 10, 4, 40, 92, 352, 724]"
      ]
     },
     "execution_count": 13,
     "metadata": {},
     "output_type": "execute_result"
    }
   ],
   "source": [
    "n_queen[:10]"
   ]
  },
  {
   "cell_type": "code",
   "execution_count": 14,
   "id": "452ef3b1",
   "metadata": {},
   "outputs": [
    {
     "data": {
      "text/plain": [
       "120"
      ]
     },
     "execution_count": 14,
     "metadata": {},
     "output_type": "execute_result"
    }
   ],
   "source": [
    "factorial = lambda n: 1 if n <= 1 else n*factorial(n-1)\n",
    "factorial(5)"
   ]
  },
  {
   "cell_type": "code",
   "execution_count": 15,
   "id": "ed420193",
   "metadata": {},
   "outputs": [
    {
     "data": {
      "text/plain": [
       "[0, 2, 0, 0]"
      ]
     },
     "execution_count": 15,
     "metadata": {},
     "output_type": "execute_result"
    }
   ],
   "source": [
    "# 0 <= num <= N! - 1\n",
    "def decimal2factoradic(N, num):\n",
    "    factoradic = []\n",
    "    for i in range(1,N+1):\n",
    "        factoradic.append(num%i)\n",
    "        num //= i\n",
    "    return list(reversed(factoradic))\n",
    "\n",
    "decimal2factoradic(4, 4)"
   ]
  },
  {
   "cell_type": "code",
   "execution_count": 16,
   "id": "e3206913",
   "metadata": {},
   "outputs": [
    {
     "data": {
      "text/plain": [
       "[1, 4, 2, 3]"
      ]
     },
     "execution_count": 16,
     "metadata": {},
     "output_type": "execute_result"
    }
   ],
   "source": [
    "def factoradic2permutation(factoriadic):\n",
    "    N = len(factoriadic)\n",
    "    elements = list(range(1,N+1))\n",
    "    \n",
    "    permutation = []\n",
    "    for idx in factoriadic:\n",
    "        permutation.append(elements.pop(idx))\n",
    "        \n",
    "    return permutation\n",
    "\n",
    "factoradic2permutation([0,2,0,0])"
   ]
  },
  {
   "cell_type": "code",
   "execution_count": 17,
   "id": "ae247285",
   "metadata": {},
   "outputs": [
    {
     "data": {
      "text/plain": [
       "[0, 2, 0, 0]"
      ]
     },
     "execution_count": 17,
     "metadata": {},
     "output_type": "execute_result"
    }
   ],
   "source": [
    "# Can be sped up to N*ln(N)\n",
    "def permutation2factoradic(permutation):\n",
    "    factoriadic = []\n",
    "    N = len(permutation)\n",
    "    for i in range(N):\n",
    "        lt_i = 0\n",
    "        for j in range(i+1,N):\n",
    "            lt_i += int(permutation[j] < permutation[i])\n",
    "        factoriadic.append(lt_i)\n",
    "    \n",
    "    return factoriadic\n",
    "\n",
    "permutation2factoradic([1,4,2,3])"
   ]
  },
  {
   "cell_type": "code",
   "execution_count": 18,
   "id": "700ee013",
   "metadata": {},
   "outputs": [
    {
     "data": {
      "text/plain": [
       "4"
      ]
     },
     "execution_count": 18,
     "metadata": {},
     "output_type": "execute_result"
    }
   ],
   "source": [
    "def factoradic2decimal(factoriadic):\n",
    "    N = len(factoriadic)\n",
    "    dec = 0\n",
    "    for i in reversed(range(N)):\n",
    "        dec += factoriadic[i] * factorial(N-1-i)\n",
    "        \n",
    "    return dec\n",
    "\n",
    "factoradic2decimal([0,2,0,0])"
   ]
  },
  {
   "cell_type": "code",
   "execution_count": 19,
   "id": "039ad1c4",
   "metadata": {},
   "outputs": [
    {
     "data": {
      "text/plain": [
       "[10, 13]"
      ]
     },
     "execution_count": 19,
     "metadata": {},
     "output_type": "execute_result"
    }
   ],
   "source": [
    "[factoradic2decimal(permutation2factoradic(perm)) for perm in [[2,4,1,3], [3,1,4,2]]]"
   ]
  },
  {
   "cell_type": "code",
   "execution_count": 20,
   "id": "2fbf7cbd",
   "metadata": {},
   "outputs": [
    {
     "data": {
      "text/plain": [
       "[[2, 4, 1, 3], [3, 1, 4, 2]]"
      ]
     },
     "execution_count": 20,
     "metadata": {},
     "output_type": "execute_result"
    }
   ],
   "source": [
    "[factoradic2permutation(decimal2factoradic(4, dec)) for dec in [10,13]]"
   ]
  },
  {
   "cell_type": "code",
   "execution_count": 21,
   "id": "85e82fb1",
   "metadata": {
    "scrolled": true
   },
   "outputs": [
    {
     "data": {
      "text/plain": [
       "[1, 2, 0, 0]"
      ]
     },
     "execution_count": 21,
     "metadata": {},
     "output_type": "execute_result"
    }
   ],
   "source": [
    "decimal2factoradic(4, 10)"
   ]
  },
  {
   "cell_type": "code",
   "execution_count": 23,
   "id": "2a4ad314",
   "metadata": {},
   "outputs": [
    {
     "data": {
      "text/plain": [
       "[10, 13]"
      ]
     },
     "execution_count": 23,
     "metadata": {},
     "output_type": "execute_result"
    }
   ],
   "source": [
    "class NQueen:\n",
    "    def __init__(self, N):\n",
    "        self.N = N\n",
    "        self.solutions = []\n",
    "        self.board = [[0]*N for _ in range(N)]\n",
    "        \n",
    "    def solve(self, row=0, cols=set(), diags=set(), anti_diags=set()):\n",
    "        if row == self.N:\n",
    "            permutation = [0] * self.N\n",
    "            for i in range(self.N):\n",
    "                for j in range(self.N):\n",
    "                    if self.board[i][j]:\n",
    "                        permutation[i] = j+1\n",
    "                        \n",
    "            return self.solutions.append(\n",
    "                factoradic2decimal(permutation2factoradic(permutation))\n",
    "            )\n",
    "        \n",
    "        for col in range(self.N):\n",
    "            if col in cols or col-row in diags or col+row in anti_diags: continue\n",
    "            cols.add(col)\n",
    "            diags.add(col-row)\n",
    "            anti_diags.add(col+row)\n",
    "            self.board[row][col] = 1\n",
    "            \n",
    "            self.solve(row+1, cols, diags, anti_diags)\n",
    "            \n",
    "            self.board[row][col] = 0\n",
    "            cols.remove(col)\n",
    "            diags.remove(col-row)\n",
    "            anti_diags.remove(col+row)\n",
    "            \n",
    "\n",
    "solver = NQueen(4)\n",
    "solver.solve()\n",
    "solver.solutions"
   ]
  },
  {
   "cell_type": "code",
   "execution_count": 24,
   "id": "7b2e9a14",
   "metadata": {},
   "outputs": [],
   "source": [
    "import json"
   ]
  },
  {
   "cell_type": "code",
   "execution_count": 25,
   "id": "ce701499",
   "metadata": {},
   "outputs": [
    {
     "name": "stdout",
     "output_type": "stream",
     "text": [
      "----------------------------------------------------------------------------------------------------\n",
      "1\n",
      "----------------------------------------------------------------------------------------------------\n",
      "2\n",
      "----------------------------------------------------------------------------------------------------\n",
      "3\n",
      "----------------------------------------------------------------------------------------------------\n",
      "4\n",
      "----------------------------------------------------------------------------------------------------\n",
      "5\n",
      "----------------------------------------------------------------------------------------------------\n",
      "6\n",
      "----------------------------------------------------------------------------------------------------\n",
      "7\n",
      "----------------------------------------------------------------------------------------------------\n",
      "8\n",
      "----------------------------------------------------------------------------------------------------\n",
      "9\n",
      "----------------------------------------------------------------------------------------------------\n",
      "10\n",
      "----------------------------------------------------------------------------------------------------\n",
      "11\n",
      "----------------------------------------------------------------------------------------------------\n",
      "12\n",
      "----------------------------------------------------------------------------------------------------\n",
      "13\n",
      "----------------------------------------------------------------------------------------------------\n",
      "14\n",
      "----------------------------------------------------------------------------------------------------\n",
      "15\n"
     ]
    }
   ],
   "source": [
    "for N in range(1, 16):\n",
    "    print(\"-\"*100)\n",
    "    print(N)\n",
    "    solver = NQueen(N)\n",
    "    solver.solve()\n",
    "    with open(f\"{N}-queens.json\", \"w\") as file:\n",
    "        json.dump(solver.solutions, file)"
   ]
  },
  {
   "cell_type": "code",
   "execution_count": 26,
   "id": "d1506df7",
   "metadata": {},
   "outputs": [
    {
     "data": {
      "text/plain": [
       "2279184"
      ]
     },
     "execution_count": 26,
     "metadata": {},
     "output_type": "execute_result"
    }
   ],
   "source": [
    "len(solver.solutions)"
   ]
  },
  {
   "cell_type": "code",
   "execution_count": 28,
   "id": "586246a3",
   "metadata": {},
   "outputs": [
    {
     "name": "stdout",
     "output_type": "stream",
     "text": [
      "True 13152041978 567423.738057568\n"
     ]
    }
   ],
   "source": [
    "flag = True\n",
    "m = 0\n",
    "S = 0\n",
    "for i in range(1, len(solver.solutions)):\n",
    "    flag &= solver.solutions[i] > solver.solutions[i-1]\n",
    "    m = max(m, solver.solutions[i] - solver.solutions[i-1])\n",
    "    S += solver.solutions[i] - solver.solutions[i-1]\n",
    "    \n",
    "print(flag, m, S/len(solver.solutions))"
   ]
  },
  {
   "cell_type": "code",
   "execution_count": 1,
   "id": "4682d839",
   "metadata": {},
   "outputs": [
    {
     "data": {
      "text/plain": [
       "22317699616364044"
      ]
     },
     "execution_count": 1,
     "metadata": {},
     "output_type": "execute_result"
    }
   ],
   "source": [
    "5579424904091011*4"
   ]
  },
  {
   "cell_type": "code",
   "execution_count": null,
   "id": "12def92f",
   "metadata": {},
   "outputs": [],
   "source": []
  },
  {
   "cell_type": "code",
   "execution_count": null,
   "id": "b1fc53d8",
   "metadata": {},
   "outputs": [],
   "source": []
  },
  {
   "cell_type": "code",
   "execution_count": null,
   "id": "61208e1f",
   "metadata": {},
   "outputs": [],
   "source": []
  },
  {
   "cell_type": "code",
   "execution_count": null,
   "id": "20caf9d7",
   "metadata": {},
   "outputs": [],
   "source": []
  }
 ],
 "metadata": {
  "kernelspec": {
   "display_name": "Python 3 (ipykernel)",
   "language": "python",
   "name": "python3"
  },
  "language_info": {
   "codemirror_mode": {
    "name": "ipython",
    "version": 3
   },
   "file_extension": ".py",
   "mimetype": "text/x-python",
   "name": "python",
   "nbconvert_exporter": "python",
   "pygments_lexer": "ipython3",
   "version": "3.10.7"
  }
 },
 "nbformat": 4,
 "nbformat_minor": 5
}
