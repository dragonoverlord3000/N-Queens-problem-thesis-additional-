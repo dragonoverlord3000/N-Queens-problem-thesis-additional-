{
 "cells": [
  {
   "cell_type": "markdown",
   "id": "4551094d",
   "metadata": {},
   "source": [
    "Creating lower bounds by finding composite boards that give valid results"
   ]
  },
  {
   "cell_type": "code",
   "execution_count": 1,
   "id": "77e8a08d",
   "metadata": {},
   "outputs": [],
   "source": [
    "from itertools import product\n",
    "from tqdm.notebook import tqdm"
   ]
  },
  {
   "cell_type": "code",
   "execution_count": 2,
   "id": "600fe83e",
   "metadata": {},
   "outputs": [],
   "source": [
    "class NQueen:\n",
    "    def __init__(self, N):\n",
    "        self.N = N\n",
    "        self.solutions = []\n",
    "        \n",
    "    def solve(self):\n",
    "        board = [[0] * self.N for _ in range(self.N)]\n",
    "        self._solve(board)\n",
    "    \n",
    "    def _solve(self, board, row=0, cols=set(), diags=set(), anti_diags=set()):\n",
    "        if row == self.N:\n",
    "            return self.solutions.append([row.copy() for row in board])\n",
    "            \n",
    "        for col in range(self.N):\n",
    "            if col in cols or (row-col) in diags or (row+col) in anti_diags: continue\n",
    "            \n",
    "            cols.add(col)\n",
    "            diags.add(row-col)\n",
    "            anti_diags.add(row+col)\n",
    "            board[row][col] = 1\n",
    "            \n",
    "            self._solve(board, row+1, cols, diags, anti_diags)\n",
    "            \n",
    "            board[row][col] = 0\n",
    "            cols.remove(col)\n",
    "            diags.remove(row-col)\n",
    "            anti_diags.remove(row+col)\n",
    "            \n",
    "    @staticmethod\n",
    "    def is_valid(board):\n",
    "        N = len(board)\n",
    "        diags = set()\n",
    "        anti_diags = set()\n",
    "        rows = set()\n",
    "        cols = set()\n",
    "        \n",
    "        for row in range(N):\n",
    "            for col in range(N):\n",
    "                if board[row][col]:\n",
    "                    if row in rows or col in cols or col-row in diags or row+col in anti_diags: return False\n",
    "                    rows.add(row)\n",
    "                    cols.add(col)\n",
    "                    diags.add(col-row)\n",
    "                    anti_diags.add(row+col)\n",
    "                    \n",
    "        return len(rows) == N"
   ]
  },
  {
   "cell_type": "code",
   "execution_count": 3,
   "id": "8bc3f56f",
   "metadata": {},
   "outputs": [
    {
     "data": {
      "text/plain": [
       "2"
      ]
     },
     "execution_count": 3,
     "metadata": {},
     "output_type": "execute_result"
    }
   ],
   "source": [
    "solver = NQueen(4)\n",
    "solver.solve()\n",
    "len(solver.solutions)"
   ]
  },
  {
   "cell_type": "code",
   "execution_count": 4,
   "id": "d27ce38d",
   "metadata": {
    "scrolled": true
   },
   "outputs": [
    {
     "data": {
      "text/plain": [
       "10"
      ]
     },
     "execution_count": 4,
     "metadata": {},
     "output_type": "execute_result"
    }
   ],
   "source": [
    "solver = NQueen(5)\n",
    "solver.solve()\n",
    "len(solver.solutions)"
   ]
  },
  {
   "cell_type": "code",
   "execution_count": 5,
   "id": "2cb5247a",
   "metadata": {},
   "outputs": [
    {
     "data": {
      "text/plain": [
       "True"
      ]
     },
     "execution_count": 5,
     "metadata": {},
     "output_type": "execute_result"
    }
   ],
   "source": [
    "NQueen.is_valid(solver.solutions[0])"
   ]
  },
  {
   "cell_type": "markdown",
   "id": "42d19d40",
   "metadata": {},
   "source": [
    "# Composition finder"
   ]
  },
  {
   "cell_type": "code",
   "execution_count": 6,
   "id": "3888d997",
   "metadata": {},
   "outputs": [
    {
     "name": "stdout",
     "output_type": "stream",
     "text": [
      "10\n",
      "10\n"
     ]
    }
   ],
   "source": [
    "inner_size = 5\n",
    "outer_size = 5\n",
    "\n",
    "solver_inner = NQueen(inner_size)\n",
    "solver_inner.solve()\n",
    "sols_inner = solver_inner.solutions\n",
    "print(len(sols_inner))\n",
    "\n",
    "solver_outer = NQueen(outer_size)\n",
    "solver_outer.solve()\n",
    "sols_outer = solver_outer.solutions\n",
    "print(len(sols_outer))"
   ]
  },
  {
   "cell_type": "code",
   "execution_count": 7,
   "id": "2709ee6e",
   "metadata": {},
   "outputs": [
    {
     "data": {
      "text/plain": [
       "[[1, 0, 0, 0, 0],\n",
       " [0, 0, 1, 0, 0],\n",
       " [0, 0, 0, 0, 1],\n",
       " [0, 1, 0, 0, 0],\n",
       " [0, 0, 0, 1, 0]]"
      ]
     },
     "execution_count": 7,
     "metadata": {},
     "output_type": "execute_result"
    }
   ],
   "source": [
    "sols_outer[0]"
   ]
  },
  {
   "cell_type": "code",
   "execution_count": 8,
   "id": "1f21476c",
   "metadata": {},
   "outputs": [
    {
     "data": {
      "application/vnd.jupyter.widget-view+json": {
       "model_id": "521eb7528b3c43a2a2a40673dfee0ae9",
       "version_major": 2,
       "version_minor": 0
      },
      "text/plain": [
       "Progress of outer loop:   0%|          | 0/10 [00:00<?, ?it/s]"
      ]
     },
     "metadata": {},
     "output_type": "display_data"
    },
    {
     "data": {
      "application/vnd.jupyter.widget-view+json": {
       "model_id": "",
       "version_major": 2,
       "version_minor": 0
      },
      "text/plain": [
       "Progress of inner loop:   0%|          | 0/100000 [00:00<?, ?it/s]"
      ]
     },
     "metadata": {},
     "output_type": "display_data"
    },
    {
     "name": "stdout",
     "output_type": "stream",
     "text": [
      "Progress after this outer iteration: 352 solutions found.\n"
     ]
    },
    {
     "data": {
      "application/vnd.jupyter.widget-view+json": {
       "model_id": "",
       "version_major": 2,
       "version_minor": 0
      },
      "text/plain": [
       "Progress of inner loop:   0%|          | 0/100000 [00:00<?, ?it/s]"
      ]
     },
     "metadata": {},
     "output_type": "display_data"
    },
    {
     "name": "stdout",
     "output_type": "stream",
     "text": [
      "Progress after this outer iteration: 704 solutions found.\n"
     ]
    },
    {
     "data": {
      "application/vnd.jupyter.widget-view+json": {
       "model_id": "",
       "version_major": 2,
       "version_minor": 0
      },
      "text/plain": [
       "Progress of inner loop:   0%|          | 0/100000 [00:00<?, ?it/s]"
      ]
     },
     "metadata": {},
     "output_type": "display_data"
    },
    {
     "name": "stdout",
     "output_type": "stream",
     "text": [
      "Progress after this outer iteration: 1056 solutions found.\n"
     ]
    },
    {
     "data": {
      "application/vnd.jupyter.widget-view+json": {
       "model_id": "",
       "version_major": 2,
       "version_minor": 0
      },
      "text/plain": [
       "Progress of inner loop:   0%|          | 0/100000 [00:00<?, ?it/s]"
      ]
     },
     "metadata": {},
     "output_type": "display_data"
    },
    {
     "name": "stdout",
     "output_type": "stream",
     "text": [
      "Progress after this outer iteration: 1600 solutions found.\n"
     ]
    },
    {
     "data": {
      "application/vnd.jupyter.widget-view+json": {
       "model_id": "",
       "version_major": 2,
       "version_minor": 0
      },
      "text/plain": [
       "Progress of inner loop:   0%|          | 0/100000 [00:00<?, ?it/s]"
      ]
     },
     "metadata": {},
     "output_type": "display_data"
    },
    {
     "name": "stdout",
     "output_type": "stream",
     "text": [
      "Progress after this outer iteration: 1952 solutions found.\n"
     ]
    },
    {
     "data": {
      "application/vnd.jupyter.widget-view+json": {
       "model_id": "",
       "version_major": 2,
       "version_minor": 0
      },
      "text/plain": [
       "Progress of inner loop:   0%|          | 0/100000 [00:00<?, ?it/s]"
      ]
     },
     "metadata": {},
     "output_type": "display_data"
    },
    {
     "name": "stdout",
     "output_type": "stream",
     "text": [
      "Progress after this outer iteration: 2304 solutions found.\n"
     ]
    },
    {
     "data": {
      "application/vnd.jupyter.widget-view+json": {
       "model_id": "",
       "version_major": 2,
       "version_minor": 0
      },
      "text/plain": [
       "Progress of inner loop:   0%|          | 0/100000 [00:00<?, ?it/s]"
      ]
     },
     "metadata": {},
     "output_type": "display_data"
    },
    {
     "name": "stdout",
     "output_type": "stream",
     "text": [
      "Progress after this outer iteration: 2848 solutions found.\n"
     ]
    },
    {
     "data": {
      "application/vnd.jupyter.widget-view+json": {
       "model_id": "",
       "version_major": 2,
       "version_minor": 0
      },
      "text/plain": [
       "Progress of inner loop:   0%|          | 0/100000 [00:00<?, ?it/s]"
      ]
     },
     "metadata": {},
     "output_type": "display_data"
    },
    {
     "name": "stdout",
     "output_type": "stream",
     "text": [
      "Progress after this outer iteration: 3200 solutions found.\n"
     ]
    },
    {
     "data": {
      "application/vnd.jupyter.widget-view+json": {
       "model_id": "",
       "version_major": 2,
       "version_minor": 0
      },
      "text/plain": [
       "Progress of inner loop:   0%|          | 0/100000 [00:00<?, ?it/s]"
      ]
     },
     "metadata": {},
     "output_type": "display_data"
    },
    {
     "name": "stdout",
     "output_type": "stream",
     "text": [
      "Progress after this outer iteration: 3552 solutions found.\n"
     ]
    },
    {
     "data": {
      "application/vnd.jupyter.widget-view+json": {
       "model_id": "",
       "version_major": 2,
       "version_minor": 0
      },
      "text/plain": [
       "Progress of inner loop:   0%|          | 0/100000 [00:00<?, ?it/s]"
      ]
     },
     "metadata": {},
     "output_type": "display_data"
    },
    {
     "name": "stdout",
     "output_type": "stream",
     "text": [
      "Progress after this outer iteration: 3904 solutions found.\n",
      "Total solutions found: 3904\n"
     ]
    }
   ],
   "source": [
    "solutions = []\n",
    "zero_mat = [[0] * inner_size for _ in range(inner_size)]\n",
    "for _sol_outer in tqdm(sols_outer, desc='Progress of outer loop'):\n",
    "    sol_inner_combis = list(product(*[sols_inner for _ in range(outer_size)]))\n",
    "\n",
    "    inner_pbar = tqdm(sol_inner_combis, desc='Progress of inner loop', leave=False)\n",
    "    for combi in inner_pbar:\n",
    "        sol_outer = [row.copy() for row in _sol_outer]\n",
    "        pointer = 0\n",
    "        for row in range(outer_size):\n",
    "            for col in range(outer_size):\n",
    "                if not sol_outer[row][col]:\n",
    "                    sol_outer[row][col] = zero_mat\n",
    "                else:\n",
    "                    sol_outer[row][col] = combi[pointer]\n",
    "                    pointer += 1\n",
    "            \n",
    "        # Turn into 2D (outer_size x inner_size)^2 matrix\n",
    "        new_size = inner_size * outer_size\n",
    "        new_mat = [[0] * new_size for _ in range(new_size)]\n",
    "        for outer_row in range(outer_size):\n",
    "            for outer_col in range(outer_size):\n",
    "                for inner_row in range(inner_size):\n",
    "                    for inner_col in range(inner_size):\n",
    "                        new_mat[outer_row * inner_size + inner_row][outer_col * inner_size + inner_col] = sol_outer[outer_row][outer_col][inner_row][inner_col]\n",
    "                        \n",
    "        if NQueen.is_valid(new_mat):\n",
    "            solutions.append(new_mat)\n",
    "            inner_pbar.set_description(f\"Progress of inner loop (Solutions: {len(solutions)})\")\n",
    "    \n",
    "    tqdm.write(f\"Progress after this outer iteration: {len(solutions)} solutions found.\")\n",
    "\n",
    "print(f\"Total solutions found: {len(solutions)}\")"
   ]
  },
  {
   "cell_type": "code",
   "execution_count": 9,
   "id": "3458d014",
   "metadata": {
    "scrolled": true
   },
   "outputs": [
    {
     "data": {
      "text/plain": [
       "True"
      ]
     },
     "execution_count": 9,
     "metadata": {},
     "output_type": "execute_result"
    }
   ],
   "source": [
    "NQueen.is_valid(solutions[0])"
   ]
  },
  {
   "cell_type": "code",
   "execution_count": 10,
   "id": "3474d888",
   "metadata": {},
   "outputs": [
    {
     "data": {
      "text/plain": [
       "[[1, 0, 0, 0, 0, 0, 0, 0, 0, 0, 0, 0, 0, 0, 0, 0, 0, 0, 0, 0, 0, 0, 0, 0, 0],\n",
       " [0, 0, 1, 0, 0, 0, 0, 0, 0, 0, 0, 0, 0, 0, 0, 0, 0, 0, 0, 0, 0, 0, 0, 0, 0],\n",
       " [0, 0, 0, 0, 1, 0, 0, 0, 0, 0, 0, 0, 0, 0, 0, 0, 0, 0, 0, 0, 0, 0, 0, 0, 0],\n",
       " [0, 1, 0, 0, 0, 0, 0, 0, 0, 0, 0, 0, 0, 0, 0, 0, 0, 0, 0, 0, 0, 0, 0, 0, 0],\n",
       " [0, 0, 0, 1, 0, 0, 0, 0, 0, 0, 0, 0, 0, 0, 0, 0, 0, 0, 0, 0, 0, 0, 0, 0, 0],\n",
       " [0, 0, 0, 0, 0, 0, 0, 0, 0, 0, 1, 0, 0, 0, 0, 0, 0, 0, 0, 0, 0, 0, 0, 0, 0],\n",
       " [0, 0, 0, 0, 0, 0, 0, 0, 0, 0, 0, 0, 1, 0, 0, 0, 0, 0, 0, 0, 0, 0, 0, 0, 0],\n",
       " [0, 0, 0, 0, 0, 0, 0, 0, 0, 0, 0, 0, 0, 0, 1, 0, 0, 0, 0, 0, 0, 0, 0, 0, 0],\n",
       " [0, 0, 0, 0, 0, 0, 0, 0, 0, 0, 0, 1, 0, 0, 0, 0, 0, 0, 0, 0, 0, 0, 0, 0, 0],\n",
       " [0, 0, 0, 0, 0, 0, 0, 0, 0, 0, 0, 0, 0, 1, 0, 0, 0, 0, 0, 0, 0, 0, 0, 0, 0],\n",
       " [0, 0, 0, 0, 0, 0, 0, 0, 0, 0, 0, 0, 0, 0, 0, 0, 0, 0, 0, 0, 1, 0, 0, 0, 0],\n",
       " [0, 0, 0, 0, 0, 0, 0, 0, 0, 0, 0, 0, 0, 0, 0, 0, 0, 0, 0, 0, 0, 0, 1, 0, 0],\n",
       " [0, 0, 0, 0, 0, 0, 0, 0, 0, 0, 0, 0, 0, 0, 0, 0, 0, 0, 0, 0, 0, 0, 0, 0, 1],\n",
       " [0, 0, 0, 0, 0, 0, 0, 0, 0, 0, 0, 0, 0, 0, 0, 0, 0, 0, 0, 0, 0, 1, 0, 0, 0],\n",
       " [0, 0, 0, 0, 0, 0, 0, 0, 0, 0, 0, 0, 0, 0, 0, 0, 0, 0, 0, 0, 0, 0, 0, 1, 0],\n",
       " [0, 0, 0, 0, 0, 1, 0, 0, 0, 0, 0, 0, 0, 0, 0, 0, 0, 0, 0, 0, 0, 0, 0, 0, 0],\n",
       " [0, 0, 0, 0, 0, 0, 0, 1, 0, 0, 0, 0, 0, 0, 0, 0, 0, 0, 0, 0, 0, 0, 0, 0, 0],\n",
       " [0, 0, 0, 0, 0, 0, 0, 0, 0, 1, 0, 0, 0, 0, 0, 0, 0, 0, 0, 0, 0, 0, 0, 0, 0],\n",
       " [0, 0, 0, 0, 0, 0, 1, 0, 0, 0, 0, 0, 0, 0, 0, 0, 0, 0, 0, 0, 0, 0, 0, 0, 0],\n",
       " [0, 0, 0, 0, 0, 0, 0, 0, 1, 0, 0, 0, 0, 0, 0, 0, 0, 0, 0, 0, 0, 0, 0, 0, 0],\n",
       " [0, 0, 0, 0, 0, 0, 0, 0, 0, 0, 0, 0, 0, 0, 0, 1, 0, 0, 0, 0, 0, 0, 0, 0, 0],\n",
       " [0, 0, 0, 0, 0, 0, 0, 0, 0, 0, 0, 0, 0, 0, 0, 0, 0, 1, 0, 0, 0, 0, 0, 0, 0],\n",
       " [0, 0, 0, 0, 0, 0, 0, 0, 0, 0, 0, 0, 0, 0, 0, 0, 0, 0, 0, 1, 0, 0, 0, 0, 0],\n",
       " [0, 0, 0, 0, 0, 0, 0, 0, 0, 0, 0, 0, 0, 0, 0, 0, 1, 0, 0, 0, 0, 0, 0, 0, 0],\n",
       " [0, 0, 0, 0, 0, 0, 0, 0, 0, 0, 0, 0, 0, 0, 0, 0, 0, 0, 1, 0, 0, 0, 0, 0, 0]]"
      ]
     },
     "execution_count": 10,
     "metadata": {},
     "output_type": "execute_result"
    }
   ],
   "source": [
    "solutions[0]"
   ]
  },
  {
   "cell_type": "code",
   "execution_count": null,
   "id": "a9b94606",
   "metadata": {},
   "outputs": [],
   "source": []
  },
  {
   "cell_type": "code",
   "execution_count": null,
   "id": "d7eb0d71",
   "metadata": {},
   "outputs": [],
   "source": []
  },
  {
   "cell_type": "code",
   "execution_count": null,
   "id": "893e4101",
   "metadata": {},
   "outputs": [],
   "source": []
  },
  {
   "cell_type": "code",
   "execution_count": null,
   "id": "5e9d11be",
   "metadata": {},
   "outputs": [],
   "source": []
  }
 ],
 "metadata": {
  "kernelspec": {
   "display_name": "Python 3 (ipykernel)",
   "language": "python",
   "name": "python3"
  },
  "language_info": {
   "codemirror_mode": {
    "name": "ipython",
    "version": 3
   },
   "file_extension": ".py",
   "mimetype": "text/x-python",
   "name": "python",
   "nbconvert_exporter": "python",
   "pygments_lexer": "ipython3",
   "version": "3.10.7"
  }
 },
 "nbformat": 4,
 "nbformat_minor": 5
}
