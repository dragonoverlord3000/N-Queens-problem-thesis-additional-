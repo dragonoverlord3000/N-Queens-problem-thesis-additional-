{
 "cells": [
  {
   "cell_type": "code",
   "execution_count": 1,
   "id": "97de5f41",
   "metadata": {},
   "outputs": [
    {
     "name": "stdout",
     "output_type": "stream",
     "text": [
      "N = 1: 1 ways\n",
      "N = 2: 2 ways\n",
      "N = 3: 12 ways\n",
      "N = 4: 576 ways\n",
      "N = 5: 161280 ways\n"
     ]
    }
   ],
   "source": [
    "from itertools import permutations\n",
    "\n",
    "def count_non_attacking_rooks(N):\n",
    "    all_perms = list(permutations(range(N)))\n",
    "\n",
    "    def is_valid(new_layer, config):\n",
    "        for layer in config:\n",
    "            for i in range(N):\n",
    "                if layer[i] == new_layer[i]: \n",
    "                    return False\n",
    "        return True\n",
    "\n",
    "    def count_configs(depth, current_config=[]):\n",
    "        if depth == N:\n",
    "            return 1\n",
    "        count = 0\n",
    "        for perm in all_perms:\n",
    "            if is_valid(perm, current_config):\n",
    "                count += count_configs(depth + 1, current_config + [perm])\n",
    "        return count\n",
    "\n",
    "    return count_configs(0)\n",
    "\n",
    "for N in range(1, 6):\n",
    "    print(f'N = {N}: {count_non_attacking_rooks(N)} ways')"
   ]
  },
  {
   "cell_type": "markdown",
   "id": "78e122de",
   "metadata": {},
   "source": [
    "This is exactly # of latin squares: https://en.wikipedia.org/wiki/Latin_square"
   ]
  },
  {
   "cell_type": "code",
   "execution_count": null,
   "id": "5fcf44a5",
   "metadata": {},
   "outputs": [],
   "source": []
  },
  {
   "cell_type": "code",
   "execution_count": null,
   "id": "5e47cf92",
   "metadata": {},
   "outputs": [],
   "source": []
  }
 ],
 "metadata": {
  "kernelspec": {
   "display_name": "Python 3 (ipykernel)",
   "language": "python",
   "name": "python3"
  },
  "language_info": {
   "codemirror_mode": {
    "name": "ipython",
    "version": 3
   },
   "file_extension": ".py",
   "mimetype": "text/x-python",
   "name": "python",
   "nbconvert_exporter": "python",
   "pygments_lexer": "ipython3",
   "version": "3.10.7"
  }
 },
 "nbformat": 4,
 "nbformat_minor": 5
}
