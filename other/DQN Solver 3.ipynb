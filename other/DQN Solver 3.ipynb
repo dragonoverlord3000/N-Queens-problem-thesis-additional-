{
 "cells": [
  {
   "cell_type": "code",
   "execution_count": 1,
   "id": "f2f9ef4f",
   "metadata": {},
   "outputs": [],
   "source": [
    "import torch\n",
    "import torch.nn as nn\n",
    "import torch.optim as optim\n",
    "import torch.nn.functional as F\n",
    "\n",
    "from matplotlib.colors import ListedColormap\n",
    "import matplotlib.pyplot as plt\n",
    "import matplotlib\n",
    "from collections import deque, namedtuple\n",
    "from tqdm.notebook import tqdm\n",
    "from typing import List\n",
    "import numpy as np\n",
    "import itertools\n",
    "import random\n",
    "import math\n",
    "import time"
   ]
  },
  {
   "cell_type": "code",
   "execution_count": 2,
   "id": "5fedbe6a",
   "metadata": {},
   "outputs": [],
   "source": [
    "from IPython import display"
   ]
  },
  {
   "cell_type": "code",
   "execution_count": 3,
   "id": "7993ebec",
   "metadata": {},
   "outputs": [
    {
     "data": {
      "text/plain": [
       "device(type='cpu')"
      ]
     },
     "execution_count": 3,
     "metadata": {},
     "output_type": "execute_result"
    }
   ],
   "source": [
    "device = torch.device(\"cuda\") if torch.cuda.is_available() else torch.device(\"cpu\")\n",
    "device"
   ]
  },
  {
   "cell_type": "code",
   "execution_count": 4,
   "id": "443d945f",
   "metadata": {},
   "outputs": [],
   "source": [
    "N = 8\n",
    "k = 3"
   ]
  },
  {
   "cell_type": "markdown",
   "id": "92c140e5",
   "metadata": {},
   "source": [
    "# Environment\n",
    "This class describes the $N$-Queen environment and provides helper methods relating to it. The board is represented in `row major` representation."
   ]
  },
  {
   "cell_type": "code",
   "execution_count": 78,
   "id": "941cc35b",
   "metadata": {},
   "outputs": [],
   "source": [
    "class NQueenEnv:\n",
    "    def __init__(self, n:int, k:int):\n",
    "        self.n = n\n",
    "        self.k = k\n",
    "        self._reset() # Initializes empty board\n",
    "        \n",
    "    def _reset(self):\n",
    "        \"\"\"\n",
    "            Sets the board to a matrix of zeros, from this a random k-queen partial n-queen solution can be set\n",
    "        \"\"\"\n",
    "        self.board = np.zeros(self.n*self.n)\n",
    "        self.rows, self.cols, self.diags, self.anti_diags = set(), set(), set(), set()\n",
    "        \n",
    "    def reset(self) -> np.array:\n",
    "        \"\"\"\n",
    "            Resets board with new partial N-Queens configuration\n",
    "        \"\"\"        \n",
    "        has_set = False\n",
    "        while not has_set:\n",
    "            self._reset() # resets board and line sets\n",
    "            num_set = 0\n",
    "            while num_set < self.k:\n",
    "                if not self.get_avail_squares(): break\n",
    "                action = self.sample_action()\n",
    "                self._perform_action(action)\n",
    "                \n",
    "                num_set += 1\n",
    "                \n",
    "            has_set = num_set == self.k\n",
    "    \n",
    "        return self.board # 1D array -> partial config\n",
    "    \n",
    "    def _perform_action(self, action:int):\n",
    "        \"\"\"\n",
    "        Performs action i.e. places queen on square (action//n, action (mod n))\n",
    "        \"\"\"\n",
    "        row,col = action//self.n, action%self.n\n",
    "        self.rows.add(row)\n",
    "        self.cols.add(col)\n",
    "        self.diags.add(col-row)\n",
    "        self.anti_diags.add(col+row)\n",
    "        \n",
    "        self.board[action] = 1\n",
    "        \n",
    "    def get_avail_squares(self) -> List[int]:\n",
    "        \"\"\"\n",
    "        Finds all available squares in (x,y) format\n",
    "        \"\"\"\n",
    "        avail = []\n",
    "        for i,j in itertools.product(range(self.n), range(self.n)):\n",
    "            if i in self.rows or j in self.cols or j-i in self.diags or j+i in self.anti_diags: continue\n",
    "            avail.append((i,j))\n",
    "        return avail\n",
    "    \n",
    "    def sample_action(self) -> int:\n",
    "        \"\"\"\n",
    "        Returns a random action to take i.e. a random available square\n",
    "        \"\"\"\n",
    "        row, col = random.sample(self.get_avail_squares(), 1)[0]\n",
    "        return self.n * row + col\n",
    "    \n",
    "    @staticmethod\n",
    "    def step(state, action:int) -> tuple:\n",
    "        \"\"\"\n",
    "            Performs action on the board, assumes that the action is valid\n",
    "        \"\"\"\n",
    "        avail = self.get_avail_squares()\n",
    "        self._perform_action(action)\n",
    "        terminate = len(self.rows) == self.n or len(avail) == 0\n",
    "        reward = len(avail)/self.n\n",
    "        return (self.board.copy(), reward, terminate) # new_state, reward, teminated\n",
    "    \n",
    "    @staticmethod\n",
    "    def get_valid_mask(state):\n",
    "        rows,cols,diags,anti_diags = set(), set(), set(), set()\n",
    "        for i, j in itertools.product(range(N), range(N)):\n",
    "            if state[N*i + j] == 0: continue\n",
    "            rows.add(i)\n",
    "            cols.add(j)\n",
    "            diags.add(j-i)\n",
    "            anti_diags.add(j+i)\n",
    "        \n",
    "        mask = [0] * N**2\n",
    "        for i,j in itertools.product(range(N), range(N)):\n",
    "            if i in rows or j in cols or j-i in diags or j+i in anti_diags: continue\n",
    "            mask[i*N + j] = 1\n",
    "        \n",
    "        return np.asarray(mask)\n",
    "    \n",
    "    @staticmethod\n",
    "    def get_sample_action(state):\n",
    "        mask = NQueenEnv.get_valid_mask(state)\n",
    "        valid_actions = [i for i in range(N*N) if mask[i]]\n",
    "        return random.sample(valid_actions, 1)[0]\n",
    "    \n",
    "    def display(self, fontsize:int=10):\n",
    "        matrix = np.zeros((self.n, self.n), dtype=int)\n",
    "        for i in range(self.n**2):\n",
    "            matrix[i//self.n][i%self.n] = int(self.board[i])\n",
    "        \n",
    "        n = matrix.shape[0]\n",
    "        # Create a chess board (n x n) pattern\n",
    "        board = np.zeros_like(matrix)\n",
    "        board[1::2, ::2] = 1\n",
    "        board[::2, 1::2] = 1\n",
    "\n",
    "        cmap = ListedColormap(['#769656', '#eeeed2'])\n",
    "        fig, ax = plt.subplots()\n",
    "        ax.imshow(board, cmap=cmap, interpolation='nearest')\n",
    "\n",
    "        # Place queens based on matrix\n",
    "        for i in range(n):\n",
    "            for j in range(n):\n",
    "                if matrix[i, j] == 1:\n",
    "                    ax.text(j, i, '♛', fontsize=fontsize, ha='center', va='center', color='black' if board[i, j] else 'white')\n",
    "\n",
    "        # Hide the axes\n",
    "        ax.set_xticks([])\n",
    "        ax.set_yticks([])"
   ]
  },
  {
   "cell_type": "code",
   "execution_count": 79,
   "id": "e22e34d5",
   "metadata": {},
   "outputs": [
    {
     "data": {
      "text/plain": [
       "<__main__.NQueenEnv at 0x1c31442cbe0>"
      ]
     },
     "execution_count": 79,
     "metadata": {},
     "output_type": "execute_result"
    }
   ],
   "source": [
    "env = NQueenEnv(N, k)\n",
    "env"
   ]
  },
  {
   "cell_type": "code",
   "execution_count": 80,
   "id": "990fae04",
   "metadata": {},
   "outputs": [
    {
     "data": {
      "image/png": "[encoded data removed]",
      "text/plain": [
       "<Figure size 640x480 with 1 Axes>"
      ]
     },
     "metadata": {},
     "output_type": "display_data"
    },
    {
     "name": "stdout",
     "output_type": "stream",
     "text": [
      "14 (array([0., 0., 1., 0., 0., 0., 0., 0., 0., 0., 0., 0., 0., 0., 1., 0., 0.,\n",
      "       0., 0., 0., 0., 0., 0., 0., 0., 1., 0., 0., 0., 0., 0., 0., 0., 0.,\n",
      "       0., 0., 0., 0., 0., 1., 0., 0., 0., 0., 0., 0., 0., 0., 0., 0., 0.,\n",
      "       0., 0., 0., 0., 0., 0., 0., 0., 0., 0., 0., 0., 0.]), 1.75, False)\n"
     ]
    }
   ],
   "source": [
    "env.reset()\n",
    "env.display()\n",
    "plt.show()\n",
    "action = env.sample_action()\n",
    "print(action, env.step(action))"
   ]
  },
  {
   "cell_type": "markdown",
   "id": "848aa5d5",
   "metadata": {},
   "source": [
    "# Model\n",
    "Note that both a `policy net` and a `target net` neural net is created.\n",
    "\n",
    "The `policy_net` is essentially the regular NN trying to estimate the Q-values for each action (expected reward | action), but the Q-values will be updated quite frequently leading to unstable training.\n",
    "\n",
    "This is where the `target_net` comes in, as periodically the `policy_net` weights are copied to `target_net`. The fixed values provided by `target_net` is used to stabilize the training of the `policy_net`."
   ]
  },
  {
   "cell_type": "code",
   "execution_count": 81,
   "id": "23477875",
   "metadata": {},
   "outputs": [],
   "source": [
    "Transition = namedtuple('Transition',\n",
    "                        ('state', 'action', 'next_state', 'reward'))\n",
    "\n",
    "\n",
    "class ReplayMemory(object):\n",
    "\n",
    "    def __init__(self, capacity):\n",
    "        self.memory = deque([], maxlen=capacity)\n",
    "\n",
    "    def push(self, *args):\n",
    "        \"\"\"Save a transition\"\"\"\n",
    "        self.memory.append(Transition(*args))\n",
    "\n",
    "    def sample(self, batch_size):\n",
    "        return random.sample(self.memory, batch_size)\n",
    "\n",
    "    def __len__(self):\n",
    "        return len(self.memory)"
   ]
  },
  {
   "cell_type": "code",
   "execution_count": 82,
   "id": "06e7920c",
   "metadata": {},
   "outputs": [],
   "source": [
    "class DQN(nn.Module):\n",
    "    def __init__(self, n_observations, n_actions):\n",
    "        super().__init__()\n",
    "        self.fc1 = nn.Linear(n_observations, 512)\n",
    "        self.fc2 = nn.Linear(512, 512)\n",
    "        self.fc3 = nn.Linear(512, n_actions)\n",
    "        \n",
    "    def forward(self, x):\n",
    "        x = F.relu(self.fc1(x))\n",
    "        x = F.relu(self.fc2(x))\n",
    "        x = self.fc3(x)\n",
    "        return x"
   ]
  },
  {
   "cell_type": "code",
   "execution_count": 83,
   "id": "42d7550c",
   "metadata": {},
   "outputs": [
    {
     "data": {
      "text/plain": [
       "DQN(\n",
       "  (fc1): Linear(in_features=64, out_features=512, bias=True)\n",
       "  (fc2): Linear(in_features=512, out_features=512, bias=True)\n",
       "  (fc3): Linear(in_features=512, out_features=64, bias=True)\n",
       ")"
      ]
     },
     "execution_count": 83,
     "metadata": {},
     "output_type": "execute_result"
    }
   ],
   "source": [
    "# Get number of actions from gym action space\n",
    "n_actions = N*N\n",
    "# Get the number of state observations\n",
    "state = env.reset()\n",
    "n_observations = len(state)\n",
    "\n",
    "policy_net = DQN(n_observations, n_actions).to(device)\n",
    "target_net = DQN(n_observations, n_actions).to(device)\n",
    "target_net.load_state_dict(policy_net.state_dict())\n",
    "policy_net"
   ]
  },
  {
   "cell_type": "code",
   "execution_count": 84,
   "id": "b990958d",
   "metadata": {},
   "outputs": [
    {
     "data": {
      "text/plain": [
       "tensor([-0.0636,  0.0084, -0.0258, -0.0035,  0.0085, -0.0104, -0.0011, -0.0377,\n",
       "         0.0228, -0.0167,  0.0281, -0.0807, -0.0358,  0.0373, -0.0506, -0.0096,\n",
       "        -0.0422, -0.0620, -0.0047, -0.0237,  0.0499, -0.0452,  0.0024, -0.0135,\n",
       "        -0.0173,  0.0285, -0.0033,  0.0051, -0.0150,  0.0079,  0.0462, -0.0611,\n",
       "        -0.0040, -0.0008,  0.0049, -0.0191, -0.0607, -0.0535, -0.0425, -0.0284,\n",
       "        -0.0297,  0.0267, -0.0252, -0.0369, -0.0382, -0.0440, -0.0041,  0.0036,\n",
       "        -0.0510, -0.0453,  0.0161,  0.0217, -0.0121, -0.0526,  0.0052, -0.0124,\n",
       "         0.0441, -0.0286, -0.0037,  0.0153, -0.0641,  0.0184, -0.0136,  0.0612],\n",
       "       grad_fn=<AddBackward0>)"
      ]
     },
     "execution_count": 84,
     "metadata": {},
     "output_type": "execute_result"
    }
   ],
   "source": [
    "state = env.reset()\n",
    "result = policy_net(torch.as_tensor(state, dtype=torch.float32))\n",
    "result"
   ]
  },
  {
   "cell_type": "code",
   "execution_count": 85,
   "id": "24ba26d1",
   "metadata": {},
   "outputs": [
    {
     "data": {
      "text/plain": [
       "63"
      ]
     },
     "execution_count": 85,
     "metadata": {},
     "output_type": "execute_result"
    }
   ],
   "source": [
    "result.max(0)[1].item()"
   ]
  },
  {
   "cell_type": "code",
   "execution_count": 86,
   "id": "39d53487",
   "metadata": {},
   "outputs": [
    {
     "data": {
      "text/plain": [
       "tensor([[63]])"
      ]
     },
     "execution_count": 86,
     "metadata": {},
     "output_type": "execute_result"
    }
   ],
   "source": [
    "result.max(0).indices.view(1,1)"
   ]
  },
  {
   "cell_type": "markdown",
   "id": "977e8720",
   "metadata": {},
   "source": [
    "# Training\n",
    "We're doing $\\epsilon$-greedy method."
   ]
  },
  {
   "cell_type": "markdown",
   "id": "46899cfd",
   "metadata": {},
   "source": [
    "### Hyperparameters and utilities"
   ]
  },
  {
   "cell_type": "code",
   "execution_count": 87,
   "id": "6b755942",
   "metadata": {},
   "outputs": [],
   "source": [
    "# Hyperparameters for training\n",
    "\n",
    "BATCH_SIZE = 128 # BATCH_SIZE is the number of transitions sampled from the replay buffer\n",
    "GAMMA = 0.99 # GAMMA is the discount factor\n",
    "EPS_START = 0.9 # EPS_START is the starting value of epsilon\n",
    "EPS_END = 0.05 # EPS_END is the final value of epsilon\n",
    "EPS_DECAY = 1000 # EPS_DECAY controls the rate of exponential decay of epsilon, higher means a slower decay\n",
    "TAU = 0.005 # TAU is the update rate of the target network\n",
    "LR = 1e-4 # LR is the learning rate of the ``AdamW`` optimizer"
   ]
  },
  {
   "cell_type": "code",
   "execution_count": 93,
   "id": "bf36a67f",
   "metadata": {},
   "outputs": [],
   "source": [
    "optimizer = optim.AdamW(policy_net.parameters(), lr=LR, amsgrad=True)\n",
    "memory = ReplayMemory(10000)\n",
    "\n",
    "steps_done = 0\n",
    "\n",
    "def select_action(state):\n",
    "    global steps_done\n",
    "    \n",
    "    sample = random.random()\n",
    "    eps_threshold = EPS_END + (EPS_START - EPS_END) * math.exp(-1. * steps_done / EPS_DECAY)\n",
    "    steps_done += 1\n",
    "    if sample > eps_threshold:\n",
    "        with torch.no_grad():\n",
    "            infered_policy = policy_net(state)\n",
    "            # Mask out invalid actions\n",
    "            mask = torch.as_tensor(env.get_valid_mask(state))\n",
    "            infered_policy *= mask\n",
    "            return infered_policy.max(0).indices.view(1, 1)\n",
    "            \n",
    "    else:\n",
    "        return torch.tensor([[env.get_sample_action(state)]], device=device, dtype=torch.long)"
   ]
  },
  {
   "cell_type": "code",
   "execution_count": 94,
   "id": "81f24483",
   "metadata": {
    "scrolled": false
   },
   "outputs": [
    {
     "data": {
      "image/png": "[encoded data removed]",
      "text/plain": [
       "<Figure size 640x480 with 1 Axes>"
      ]
     },
     "metadata": {},
     "output_type": "display_data"
    },
    {
     "data": {
      "text/plain": [
       "tensor([[9]])"
      ]
     },
     "execution_count": 94,
     "metadata": {},
     "output_type": "execute_result"
    }
   ],
   "source": [
    "state = torch.as_tensor(env.reset(), dtype=torch.float32)\n",
    "env.display(fontsize=20)\n",
    "plt.show()\n",
    "select_action(state)"
   ]
  },
  {
   "cell_type": "code",
   "execution_count": 95,
   "id": "65ae3c5e",
   "metadata": {},
   "outputs": [],
   "source": [
    "def optimize_model():\n",
    "    if len(memory) < BATCH_SIZE:\n",
    "        return\n",
    "    transitions = memory.sample(BATCH_SIZE)\n",
    "    # Transpose the batch (see https://stackoverflow.com/a/19343/3343043 for\n",
    "    # detailed explanation). This converts batch-array of Transitions\n",
    "    # to Transition of batch-arrays.\n",
    "    batch = Transition(*zip(*transitions))\n",
    "\n",
    "    # Compute a mask of non-final states and concatenate the batch elements\n",
    "    # (a final state would've been the one after which simulation ended)\n",
    "    non_final_mask = torch.tensor(tuple(map(lambda s: s is not None,\n",
    "                                          batch.next_state)), device=device, dtype=torch.bool)\n",
    "    non_final_next_states = torch.cat([s for s in batch.next_state\n",
    "                                                if s is not None])\n",
    "    state_batch = torch.cat(batch.state)\n",
    "    action_batch = torch.cat(batch.action)\n",
    "    reward_batch = torch.cat(batch.reward)\n",
    "\n",
    "    # Compute Q(s_t, a) - the model computes Q(s_t), then we select the\n",
    "    # columns of actions taken. These are the actions which would've been taken\n",
    "    # for each batch state according to policy_net\n",
    "    state_action_values = policy_net(state_batch).gather(1, action_batch)\n",
    "\n",
    "    # Compute V(s_{t+1}) for all next states.\n",
    "    # Expected values of actions for non_final_next_states are computed based\n",
    "    # on the \"older\" target_net; selecting their best reward with max(1).values\n",
    "    # This is merged based on the mask, such that we'll have either the expected\n",
    "    # state value or 0 in case the state was final.\n",
    "    next_state_values = torch.zeros(BATCH_SIZE, device=device)\n",
    "    with torch.no_grad():\n",
    "        next_state_values[non_final_mask] = target_net(non_final_next_states).max(1).values\n",
    "    # Compute the expected Q values\n",
    "    expected_state_action_values = (next_state_values * GAMMA) + reward_batch\n",
    "\n",
    "    # Compute Huber loss\n",
    "    criterion = nn.SmoothL1Loss()\n",
    "    loss = criterion(state_action_values, expected_state_action_values.unsqueeze(1))\n",
    "\n",
    "    # Optimize the model\n",
    "    optimizer.zero_grad()\n",
    "    loss.backward()\n",
    "    # In-place gradient clipping\n",
    "    torch.nn.utils.clip_grad_value_(policy_net.parameters(), 100)\n",
    "    optimizer.step()"
   ]
  },
  {
   "cell_type": "markdown",
   "id": "86daf59a",
   "metadata": {},
   "source": [
    "### Training loop"
   ]
  },
  {
   "cell_type": "code",
   "execution_count": 96,
   "id": "58d5b00c",
   "metadata": {},
   "outputs": [],
   "source": [
    "episode_durations = []\n",
    "\n",
    "\n",
    "def plot_durations(show_result=False):\n",
    "    plt.figure(1)\n",
    "    durations_t = torch.tensor(episode_durations, dtype=torch.float)\n",
    "    if show_result:\n",
    "        plt.title('Result')\n",
    "    else:\n",
    "        plt.clf()\n",
    "        plt.title('Training...')\n",
    "    plt.xlabel('Episode')\n",
    "    plt.ylabel('Duration')\n",
    "    plt.plot(durations_t.numpy())\n",
    "    # Take 100 episode averages and plot them too\n",
    "    if len(durations_t) >= 100:\n",
    "        means = durations_t.unfold(0, 100, 1).mean(1).view(-1)\n",
    "        means = torch.cat((torch.zeros(99), means))\n",
    "        plt.plot(means.numpy())\n",
    "\n",
    "    plt.pause(0.001)  # pause a bit so that plots are updated\n",
    "    if not show_result:\n",
    "        display.display(plt.gcf())\n",
    "        display.clear_output(wait=True)\n",
    "    else:\n",
    "        display.display(plt.gcf())"
   ]
  },
  {
   "cell_type": "code",
   "execution_count": 97,
   "id": "5044a7fc",
   "metadata": {
    "scrolled": true
   },
   "outputs": [
    {
     "data": {
      "application/vnd.jupyter.widget-view+json": {
       "model_id": "26091846f4ae4e23928345f3748bb921",
       "version_major": 2,
       "version_minor": 0
      },
      "text/plain": [
       "  0%|          | 0/600 [00:00<?, ?it/s]"
      ]
     },
     "metadata": {},
     "output_type": "display_data"
    },
    {
     "name": "stdout",
     "output_type": "stream",
     "text": [
      "tensor([[0., 0., 0., 0., 0., 0., 0., 0., 0., 0., 0., 0., 0., 0., 0., 0., 1., 0.,\n",
      "         0., 0., 0., 0., 0., 0., 0., 0., 0., 0., 0., 0., 0., 0., 0., 0., 0., 0.,\n",
      "         0., 0., 0., 0., 0., 0., 0., 0., 0., 1., 0., 0., 0., 0., 0., 0., 0., 0.,\n",
      "         0., 0., 0., 0., 0., 0., 0., 0., 1., 0.]]) tensor([[39]])\n",
      "tensor([[0., 0., 0., 0., 0., 0., 0., 0., 0., 0., 0., 0., 0., 0., 0., 0., 1., 0.,\n",
      "         0., 0., 0., 0., 0., 0., 0., 0., 0., 0., 0., 0., 0., 0., 0., 0., 0., 0.,\n",
      "         0., 0., 0., 1., 0., 0., 0., 0., 0., 1., 0., 0., 0., 0., 0., 0., 0., 0.,\n",
      "         0., 0., 0., 0., 0., 0., 0., 0., 1., 0.]]) tensor([[4]])\n",
      "tensor([[0., 0., 0., 0., 1., 0., 0., 0., 0., 0., 0., 0., 0., 0., 0., 0., 1., 0.,\n",
      "         0., 0., 0., 0., 0., 0., 0., 0., 0., 0., 0., 0., 0., 0., 0., 0., 0., 0.,\n",
      "         0., 0., 0., 1., 0., 0., 0., 0., 0., 1., 0., 0., 0., 0., 0., 0., 0., 0.,\n",
      "         0., 0., 0., 0., 0., 0., 0., 0., 1., 0.]]) tensor([[50]])\n"
     ]
    },
    {
     "ename": "ValueError",
     "evalue": "Sample larger than population or is negative",
     "output_type": "error",
     "traceback": [
      "\u001b[1;31m---------------------------------------------------------------------------\u001b[0m",
      "\u001b[1;31mValueError\u001b[0m                                Traceback (most recent call last)",
      "Cell \u001b[1;32mIn [97], line 8\u001b[0m\n\u001b[0;32m      6\u001b[0m state \u001b[38;5;241m=\u001b[39m torch\u001b[38;5;241m.\u001b[39mtensor(state, dtype\u001b[38;5;241m=\u001b[39mtorch\u001b[38;5;241m.\u001b[39mfloat32, device\u001b[38;5;241m=\u001b[39mdevice)\u001b[38;5;241m.\u001b[39munsqueeze(\u001b[38;5;241m0\u001b[39m)\n\u001b[0;32m      7\u001b[0m \u001b[38;5;28;01mfor\u001b[39;00m t \u001b[38;5;129;01min\u001b[39;00m itertools\u001b[38;5;241m.\u001b[39mcount():\n\u001b[1;32m----> 8\u001b[0m     action \u001b[38;5;241m=\u001b[39m \u001b[43mselect_action\u001b[49m\u001b[43m(\u001b[49m\u001b[43mstate\u001b[49m\u001b[43m[\u001b[49m\u001b[38;5;241;43m0\u001b[39;49m\u001b[43m]\u001b[49m\u001b[43m)\u001b[49m\n\u001b[0;32m      9\u001b[0m     \u001b[38;5;28mprint\u001b[39m(state, action)\n\u001b[0;32m     10\u001b[0m     observation, reward, terminated \u001b[38;5;241m=\u001b[39m env\u001b[38;5;241m.\u001b[39mstep(action\u001b[38;5;241m.\u001b[39mitem())\n",
      "Cell \u001b[1;32mIn [93], line 21\u001b[0m, in \u001b[0;36mselect_action\u001b[1;34m(state)\u001b[0m\n\u001b[0;32m     18\u001b[0m         \u001b[38;5;28;01mreturn\u001b[39;00m infered_policy\u001b[38;5;241m.\u001b[39mmax(\u001b[38;5;241m0\u001b[39m)\u001b[38;5;241m.\u001b[39mindices\u001b[38;5;241m.\u001b[39mview(\u001b[38;5;241m1\u001b[39m, \u001b[38;5;241m1\u001b[39m)\n\u001b[0;32m     20\u001b[0m \u001b[38;5;28;01melse\u001b[39;00m:\n\u001b[1;32m---> 21\u001b[0m     \u001b[38;5;28;01mreturn\u001b[39;00m torch\u001b[38;5;241m.\u001b[39mtensor([[\u001b[43menv\u001b[49m\u001b[38;5;241;43m.\u001b[39;49m\u001b[43mget_sample_action\u001b[49m\u001b[43m(\u001b[49m\u001b[43mstate\u001b[49m\u001b[43m)\u001b[49m]], device\u001b[38;5;241m=\u001b[39mdevice, dtype\u001b[38;5;241m=\u001b[39mtorch\u001b[38;5;241m.\u001b[39mlong)\n",
      "Cell \u001b[1;32mIn [78], line 93\u001b[0m, in \u001b[0;36mNQueenEnv.get_sample_action\u001b[1;34m(state)\u001b[0m\n\u001b[0;32m     91\u001b[0m mask \u001b[38;5;241m=\u001b[39m NQueenEnv\u001b[38;5;241m.\u001b[39mget_valid_mask(state)\n\u001b[0;32m     92\u001b[0m valid_actions \u001b[38;5;241m=\u001b[39m [i \u001b[38;5;28;01mfor\u001b[39;00m i \u001b[38;5;129;01min\u001b[39;00m \u001b[38;5;28mrange\u001b[39m(N\u001b[38;5;241m*\u001b[39mN) \u001b[38;5;28;01mif\u001b[39;00m mask[i]]\n\u001b[1;32m---> 93\u001b[0m \u001b[38;5;28;01mreturn\u001b[39;00m \u001b[43mrandom\u001b[49m\u001b[38;5;241;43m.\u001b[39;49m\u001b[43msample\u001b[49m\u001b[43m(\u001b[49m\u001b[43mvalid_actions\u001b[49m\u001b[43m,\u001b[49m\u001b[43m \u001b[49m\u001b[38;5;241;43m1\u001b[39;49m\u001b[43m)\u001b[49m[\u001b[38;5;241m0\u001b[39m]\n",
      "File \u001b[1;32m~\\AppData\\Local\\Programs\\Python\\Python310\\lib\\random.py:482\u001b[0m, in \u001b[0;36mRandom.sample\u001b[1;34m(self, population, k, counts)\u001b[0m\n\u001b[0;32m    480\u001b[0m randbelow \u001b[38;5;241m=\u001b[39m \u001b[38;5;28mself\u001b[39m\u001b[38;5;241m.\u001b[39m_randbelow\n\u001b[0;32m    481\u001b[0m \u001b[38;5;28;01mif\u001b[39;00m \u001b[38;5;129;01mnot\u001b[39;00m \u001b[38;5;241m0\u001b[39m \u001b[38;5;241m<\u001b[39m\u001b[38;5;241m=\u001b[39m k \u001b[38;5;241m<\u001b[39m\u001b[38;5;241m=\u001b[39m n:\n\u001b[1;32m--> 482\u001b[0m     \u001b[38;5;28;01mraise\u001b[39;00m \u001b[38;5;167;01mValueError\u001b[39;00m(\u001b[38;5;124m\"\u001b[39m\u001b[38;5;124mSample larger than population or is negative\u001b[39m\u001b[38;5;124m\"\u001b[39m)\n\u001b[0;32m    483\u001b[0m result \u001b[38;5;241m=\u001b[39m [\u001b[38;5;28;01mNone\u001b[39;00m] \u001b[38;5;241m*\u001b[39m k\n\u001b[0;32m    484\u001b[0m setsize \u001b[38;5;241m=\u001b[39m \u001b[38;5;241m21\u001b[39m        \u001b[38;5;66;03m# size of a small set minus size of an empty list\u001b[39;00m\n",
      "\u001b[1;31mValueError\u001b[0m: Sample larger than population or is negative"
     ]
    }
   ],
   "source": [
    "num_episodes = 600\n",
    "    \n",
    "for i_episode in tqdm(range(num_episodes)):\n",
    "    # Initialize the environment and get its state\n",
    "    state = env.reset()\n",
    "    state = torch.tensor(state, dtype=torch.float32, device=device).unsqueeze(0)\n",
    "    for t in itertools.count():\n",
    "        action = select_action(state[0])\n",
    "        print(state, action)\n",
    "        observation, reward, terminated = env.step(action.item())\n",
    "        reward = torch.tensor([reward], device=device)\n",
    "        done = terminated\n",
    "\n",
    "        if terminated:\n",
    "            next_state = None\n",
    "        else:\n",
    "            next_state = torch.tensor(observation, dtype=torch.float32, device=device).unsqueeze(0)\n",
    "\n",
    "        # Store the transition in memory\n",
    "        memory.push(state, action, next_state, reward)\n",
    "\n",
    "        # Move to the next state\n",
    "        state = next_state\n",
    "\n",
    "        # Perform one step of the optimization (on the policy network)\n",
    "        optimize_model()\n",
    "\n",
    "        # Soft update of the target network's weights\n",
    "        # θ′ ← τ θ + (1 −τ )θ′\n",
    "        target_net_state_dict = target_net.state_dict()\n",
    "        policy_net_state_dict = policy_net.state_dict()\n",
    "        for key in policy_net_state_dict:\n",
    "            target_net_state_dict[key] = policy_net_state_dict[key]*TAU + target_net_state_dict[key]*(1-TAU)\n",
    "        target_net.load_state_dict(target_net_state_dict)\n",
    "\n",
    "        if done:\n",
    "            episode_durations.append(t + 1)\n",
    "            break\n",
    "\n",
    "print('Complete')\n",
    "plot_durations(show_result=True)\n",
    "plt.ioff()\n",
    "plt.show()"
   ]
  },
  {
   "cell_type": "markdown",
   "id": "1a4b04cb",
   "metadata": {},
   "source": [
    "# Inferrence"
   ]
  },
  {
   "cell_type": "code",
   "execution_count": 23,
   "id": "07812565",
   "metadata": {},
   "outputs": [],
   "source": [
    "def plot_state_history(state_history, n):\n",
    "    fig, axs = plt.subplots(1, len(state_history), figsize=(len(state_history)*4, 4))\n",
    "    if len(state_history) == 1:  # If there's only one state, axs is not an array\n",
    "        axs = [axs]\n",
    "        \n",
    "    for ax, state in zip(axs, state_history):\n",
    "        matrix = state.reshape((n, n))  # Assuming state is a flat array\n",
    "        board = np.zeros_like(matrix)\n",
    "        board[1::2, ::2] = 1\n",
    "        board[::2, 1::2] = 1\n",
    "        cmap = ListedColormap(['#769656', '#eeeed2'])\n",
    "        ax.imshow(board, cmap=cmap, interpolation='nearest')\n",
    "        \n",
    "        for i in range(n):\n",
    "            for j in range(n):\n",
    "                if matrix[i, j] == 1:\n",
    "                    ax.text(j, i, '♛', fontsize=10, ha='center', va='center', color='black' if board[i, j] else 'white')\n",
    "        \n",
    "        ax.set_xticks([])\n",
    "        ax.set_yticks([])\n",
    "        \n",
    "    plt.tight_layout()\n",
    "    plt.show()"
   ]
  },
  {
   "cell_type": "code",
   "execution_count": 24,
   "id": "0f3e0c9f",
   "metadata": {},
   "outputs": [],
   "source": [
    "def get_next_queen(env):\n",
    "    state = env.board\n",
    "    state = torch.as_tensor(state, dtype=torch.float32).unsqueeze(0)\n",
    "    print(state)\n",
    "    with torch.no_grad():\n",
    "        infered_policy = policy_net(state)\n",
    "        # Mask out invalid actions\n",
    "        mask = torch.as_tensor(env.get_valid_mask())\n",
    "        infered_policy *= mask\n",
    "        action = infered_policy.max(1).indices.view(1, 1).item()\n",
    "        return action"
   ]
  },
  {
   "cell_type": "code",
   "execution_count": 29,
   "id": "f7a8e660",
   "metadata": {
    "scrolled": true
   },
   "outputs": [
    {
     "name": "stdout",
     "output_type": "stream",
     "text": [
      "tensor([[22]]) 22\n",
      "[array([0., 0., 0., 0., 0., 0., 0., 0.]), array([0., 0., 0., 0., 1., 0., 0., 0.]), array([0., 0., 0., 0., 0., 0., 0., 0.]), array([0., 0., 0., 0., 0., 0., 0., 0.]), array([0., 0., 0., 0., 0., 1., 0., 0.]), array([0., 0., 0., 0., 0., 0., 0., 0.]), array([0., 0., 0., 0., 0., 0., 0., 0.]), array([1., 0., 0., 0., 0., 0., 0., 0.])]\n",
      "tensor([[41]]) 41\n",
      "[array([0., 0., 0., 0., 0., 0., 0., 0.]), array([0., 0., 0., 0., 1., 0., 0., 0.]), array([0., 0., 0., 0., 0., 0., 1., 0.]), array([0., 0., 0., 0., 0., 0., 0., 0.]), array([0., 0., 0., 0., 0., 1., 0., 0.]), array([0., 0., 0., 0., 0., 0., 0., 0.]), array([0., 0., 0., 0., 0., 0., 0., 0.]), array([1., 0., 0., 0., 0., 0., 0., 0.])]\n",
      "tensor([[2]]) 2\n",
      "[array([0., 0., 0., 0., 0., 0., 0., 0.]), array([0., 0., 0., 0., 1., 0., 0., 0.]), array([0., 0., 0., 0., 0., 0., 1., 0.]), array([0., 0., 0., 0., 0., 0., 0., 0.]), array([0., 0., 0., 0., 0., 1., 0., 0.]), array([0., 1., 0., 0., 0., 0., 0., 0.]), array([0., 0., 0., 0., 0., 0., 0., 0.]), array([1., 0., 0., 0., 0., 0., 0., 0.])]\n"
     ]
    }
   ],
   "source": [
    "state_history = []\n",
    "\n",
    "# Random k-queen partial config\n",
    "state = env.reset()\n",
    "state_history.append(state.copy())\n",
    "\n",
    "# completions\n",
    "while len(env.get_avail_squares()):\n",
    "    action = select_action(torch.tensor(state, dtype=torch.float32))\n",
    "    \n",
    "    print(action, action.item())\n",
    "    print([state[N*i:N*(i+1)] for i in range(N)])\n",
    "    action = action.item()\n",
    "    env._perform_action(action)\n",
    "    state = env.board.copy()\n",
    "    state_history.append(state)\n"
   ]
  },
  {
   "cell_type": "code",
   "execution_count": 30,
   "id": "d8820836",
   "metadata": {},
   "outputs": [
    {
     "data": {
      "image/png": "[encoded data removed]",
      "text/plain": [
       "<Figure size 1600x400 with 4 Axes>"
      ]
     },
     "metadata": {},
     "output_type": "display_data"
    }
   ],
   "source": [
    "plot_state_history(state_history, N)"
   ]
  },
  {
   "cell_type": "code",
   "execution_count": null,
   "id": "3747c08e",
   "metadata": {},
   "outputs": [],
   "source": []
  },
  {
   "cell_type": "code",
   "execution_count": null,
   "id": "b199ea62",
   "metadata": {},
   "outputs": [],
   "source": []
  }
 ],
 "metadata": {
  "kernelspec": {
   "display_name": "Python 3 (ipykernel)",
   "language": "python",
   "name": "python3"
  },
  "language_info": {
   "codemirror_mode": {
    "name": "ipython",
    "version": 3
   },
   "file_extension": ".py",
   "mimetype": "text/x-python",
   "name": "python",
   "nbconvert_exporter": "python",
   "pygments_lexer": "ipython3",
   "version": "3.10.7"
  }
 },
 "nbformat": 4,
 "nbformat_minor": 5
}
